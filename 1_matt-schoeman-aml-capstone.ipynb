{
 "cells": [
  {
   "cell_type": "markdown",
   "id": "44a01f6e",
   "metadata": {},
   "source": [
    "### York B2E AML Cohort Capstone - Matthew Schoeman - 20 February 2024\n",
    "\n",
    "\n",
    "Assignment:\n",
    "\n",
    "Design, build, evaluate, and deploy an ML model to predict customer \n",
    "propensity to perform the “Add To Cart” action.  The model should accurately predict whether \n",
    "this action will be performed or not based on the features selected or developed from the given \n",
    "dataset.  This model is essential as part of the Q2 business goal to increase the return on ad-\n",
    "spending of the company employing google analytics.\n",
    "\n",
    "Goals: \n",
    "\n",
    "Using the google analytics 360 sample dataset on BigQuery, develop and deploy a model in \n",
    "VertexAI to predict when a ‘hit’ will have an event action of “Add To Cart”.  To start with, a 1-\n",
    "month period of your choice should be used to train the model, with the goal of being able to \n",
    "easily substitute in the 12-month period (full dataset) after validating the model.  Because of \n",
    "the dataset size, it is assumed that data cleaning and feature selection will take place to test \n",
    "and train the model in a timely manner.  All decisions on this must be documented.\n",
    "\n",
    "Dataset Information: \n",
    "https://support.google.com/analytics/answer/7586738  \n",
    " \n",
    "Requirements: \n",
    "- All code shall be written in python, SQL, or the GCP console \n",
    "- The model will be trained and deployed using GCP \n",
    "- All code shall be managed via git \n",
    "- The repository shall be named ‘<first_name>-<last_name>-aml-capstone' (all lowercase, \n",
    "i.e. Tom Cruise’s repository name is ‘tom-cruise-aml-capstone') \n",
    "- All code shall be written by you. Any suspicion of direct code copying shall result in \n",
    "termination from this program.\n",
    "\n",
    "The allowed Python dependencies are: \n",
    "- Scikit-learn \n",
    "- NumPy \n",
    "- SciPy \n",
    "- Pandas \n",
    "- Seaborn \n",
    "- Google-cloud-* \n",
    " \n",
    "Deliverables: \n",
    "- Analysis report covering the following:\n",
    "    - EDA (exploratory data analysis) \n",
    "    - Data pre-processing \n",
    "    - Feature Selection and Engineering \n",
    "    - Model Choice \n",
    "    - Model Evaluation Metrics \n",
    "    - Model Tuning \n",
    "    - Performance Monitoring & Maintenance Plan \n",
    "- Deployed GCP model to respond to prediction requests \n",
    "- Deployment documentation – documentation on how the model was deployed to GCP, \n",
    "with all necessary steps for redeployment.  \n",
    "- Project cost report – report on the total cost to get model deployed, including any \n",
    "additional cost monitoring or resource optimization done"
   ]
  },
  {
   "cell_type": "code",
   "execution_count": 1,
   "id": "5e46a79b-fc23-4061-915b-a57045ed205c",
   "metadata": {
    "tags": []
   },
   "outputs": [
    {
     "name": "stdout",
     "output_type": "stream",
     "text": [
      "Requirement already satisfied: google-cloud-aiplatform in /opt/conda/lib/python3.10/site-packages (1.39.0)\n",
      "Requirement already satisfied: google-api-core!=2.0.*,!=2.1.*,!=2.2.*,!=2.3.*,!=2.4.*,!=2.5.*,!=2.6.*,!=2.7.*,<3.0.0dev,>=1.32.0 in /opt/conda/lib/python3.10/site-packages (from google-api-core[grpc]!=2.0.*,!=2.1.*,!=2.2.*,!=2.3.*,!=2.4.*,!=2.5.*,!=2.6.*,!=2.7.*,<3.0.0dev,>=1.32.0->google-cloud-aiplatform) (1.34.0)\n",
      "Requirement already satisfied: proto-plus<2.0.0dev,>=1.22.0 in /opt/conda/lib/python3.10/site-packages (from google-cloud-aiplatform) (1.23.0)\n",
      "Requirement already satisfied: protobuf!=3.20.0,!=3.20.1,!=4.21.0,!=4.21.1,!=4.21.2,!=4.21.3,!=4.21.4,!=4.21.5,<5.0.0dev,>=3.19.5 in /opt/conda/lib/python3.10/site-packages (from google-cloud-aiplatform) (3.20.3)\n",
      "Requirement already satisfied: packaging>=14.3 in /opt/conda/lib/python3.10/site-packages (from google-cloud-aiplatform) (23.2)\n",
      "Requirement already satisfied: google-cloud-storage<3.0.0dev,>=1.32.0 in /opt/conda/lib/python3.10/site-packages (from google-cloud-aiplatform) (2.14.0)\n",
      "Requirement already satisfied: google-cloud-bigquery<4.0.0dev,>=1.15.0 in ./.local/lib/python3.10/site-packages (from google-cloud-aiplatform) (3.17.2)\n",
      "Requirement already satisfied: google-cloud-resource-manager<3.0.0dev,>=1.3.3 in /opt/conda/lib/python3.10/site-packages (from google-cloud-aiplatform) (1.11.0)\n",
      "Requirement already satisfied: shapely<3.0.0dev in /opt/conda/lib/python3.10/site-packages (from google-cloud-aiplatform) (2.0.2)\n",
      "Requirement already satisfied: googleapis-common-protos<2.0dev,>=1.56.2 in /opt/conda/lib/python3.10/site-packages (from google-api-core!=2.0.*,!=2.1.*,!=2.2.*,!=2.3.*,!=2.4.*,!=2.5.*,!=2.6.*,!=2.7.*,<3.0.0dev,>=1.32.0->google-api-core[grpc]!=2.0.*,!=2.1.*,!=2.2.*,!=2.3.*,!=2.4.*,!=2.5.*,!=2.6.*,!=2.7.*,<3.0.0dev,>=1.32.0->google-cloud-aiplatform) (1.62.0)\n",
      "Requirement already satisfied: google-auth<3.0dev,>=1.25.0 in /opt/conda/lib/python3.10/site-packages (from google-api-core!=2.0.*,!=2.1.*,!=2.2.*,!=2.3.*,!=2.4.*,!=2.5.*,!=2.6.*,!=2.7.*,<3.0.0dev,>=1.32.0->google-api-core[grpc]!=2.0.*,!=2.1.*,!=2.2.*,!=2.3.*,!=2.4.*,!=2.5.*,!=2.6.*,!=2.7.*,<3.0.0dev,>=1.32.0->google-cloud-aiplatform) (2.26.2)\n",
      "Requirement already satisfied: requests<3.0.0dev,>=2.18.0 in /opt/conda/lib/python3.10/site-packages (from google-api-core!=2.0.*,!=2.1.*,!=2.2.*,!=2.3.*,!=2.4.*,!=2.5.*,!=2.6.*,!=2.7.*,<3.0.0dev,>=1.32.0->google-api-core[grpc]!=2.0.*,!=2.1.*,!=2.2.*,!=2.3.*,!=2.4.*,!=2.5.*,!=2.6.*,!=2.7.*,<3.0.0dev,>=1.32.0->google-cloud-aiplatform) (2.31.0)\n",
      "Requirement already satisfied: grpcio<2.0dev,>=1.33.2 in /opt/conda/lib/python3.10/site-packages (from google-api-core[grpc]!=2.0.*,!=2.1.*,!=2.2.*,!=2.3.*,!=2.4.*,!=2.5.*,!=2.6.*,!=2.7.*,<3.0.0dev,>=1.32.0->google-cloud-aiplatform) (1.60.0)\n",
      "Requirement already satisfied: grpcio-status<2.0dev,>=1.33.2 in /opt/conda/lib/python3.10/site-packages (from google-api-core[grpc]!=2.0.*,!=2.1.*,!=2.2.*,!=2.3.*,!=2.4.*,!=2.5.*,!=2.6.*,!=2.7.*,<3.0.0dev,>=1.32.0->google-cloud-aiplatform) (1.48.2)\n",
      "Requirement already satisfied: google-cloud-core<3.0.0dev,>=1.6.0 in /opt/conda/lib/python3.10/site-packages (from google-cloud-bigquery<4.0.0dev,>=1.15.0->google-cloud-aiplatform) (2.4.1)\n",
      "Requirement already satisfied: google-resumable-media<3.0dev,>=0.6.0 in /opt/conda/lib/python3.10/site-packages (from google-cloud-bigquery<4.0.0dev,>=1.15.0->google-cloud-aiplatform) (2.7.0)\n",
      "Requirement already satisfied: python-dateutil<3.0dev,>=2.7.2 in /opt/conda/lib/python3.10/site-packages (from google-cloud-bigquery<4.0.0dev,>=1.15.0->google-cloud-aiplatform) (2.8.2)\n",
      "Requirement already satisfied: grpc-google-iam-v1<1.0.0dev,>=0.12.4 in /opt/conda/lib/python3.10/site-packages (from google-cloud-resource-manager<3.0.0dev,>=1.3.3->google-cloud-aiplatform) (0.13.0)\n",
      "Requirement already satisfied: google-crc32c<2.0dev,>=1.0 in /opt/conda/lib/python3.10/site-packages (from google-cloud-storage<3.0.0dev,>=1.32.0->google-cloud-aiplatform) (1.5.0)\n",
      "Requirement already satisfied: numpy>=1.14 in /opt/conda/lib/python3.10/site-packages (from shapely<3.0.0dev->google-cloud-aiplatform) (1.25.2)\n",
      "Requirement already satisfied: cachetools<6.0,>=2.0.0 in /opt/conda/lib/python3.10/site-packages (from google-auth<3.0dev,>=1.25.0->google-api-core!=2.0.*,!=2.1.*,!=2.2.*,!=2.3.*,!=2.4.*,!=2.5.*,!=2.6.*,!=2.7.*,<3.0.0dev,>=1.32.0->google-api-core[grpc]!=2.0.*,!=2.1.*,!=2.2.*,!=2.3.*,!=2.4.*,!=2.5.*,!=2.6.*,!=2.7.*,<3.0.0dev,>=1.32.0->google-cloud-aiplatform) (5.3.2)\n",
      "Requirement already satisfied: pyasn1-modules>=0.2.1 in /opt/conda/lib/python3.10/site-packages (from google-auth<3.0dev,>=1.25.0->google-api-core!=2.0.*,!=2.1.*,!=2.2.*,!=2.3.*,!=2.4.*,!=2.5.*,!=2.6.*,!=2.7.*,<3.0.0dev,>=1.32.0->google-api-core[grpc]!=2.0.*,!=2.1.*,!=2.2.*,!=2.3.*,!=2.4.*,!=2.5.*,!=2.6.*,!=2.7.*,<3.0.0dev,>=1.32.0->google-cloud-aiplatform) (0.3.0)\n",
      "Requirement already satisfied: rsa<5,>=3.1.4 in /opt/conda/lib/python3.10/site-packages (from google-auth<3.0dev,>=1.25.0->google-api-core!=2.0.*,!=2.1.*,!=2.2.*,!=2.3.*,!=2.4.*,!=2.5.*,!=2.6.*,!=2.7.*,<3.0.0dev,>=1.32.0->google-api-core[grpc]!=2.0.*,!=2.1.*,!=2.2.*,!=2.3.*,!=2.4.*,!=2.5.*,!=2.6.*,!=2.7.*,<3.0.0dev,>=1.32.0->google-cloud-aiplatform) (4.9)\n",
      "Requirement already satisfied: six>=1.5 in /opt/conda/lib/python3.10/site-packages (from python-dateutil<3.0dev,>=2.7.2->google-cloud-bigquery<4.0.0dev,>=1.15.0->google-cloud-aiplatform) (1.16.0)\n",
      "Requirement already satisfied: charset-normalizer<4,>=2 in /opt/conda/lib/python3.10/site-packages (from requests<3.0.0dev,>=2.18.0->google-api-core!=2.0.*,!=2.1.*,!=2.2.*,!=2.3.*,!=2.4.*,!=2.5.*,!=2.6.*,!=2.7.*,<3.0.0dev,>=1.32.0->google-api-core[grpc]!=2.0.*,!=2.1.*,!=2.2.*,!=2.3.*,!=2.4.*,!=2.5.*,!=2.6.*,!=2.7.*,<3.0.0dev,>=1.32.0->google-cloud-aiplatform) (3.3.2)\n",
      "Requirement already satisfied: idna<4,>=2.5 in /opt/conda/lib/python3.10/site-packages (from requests<3.0.0dev,>=2.18.0->google-api-core!=2.0.*,!=2.1.*,!=2.2.*,!=2.3.*,!=2.4.*,!=2.5.*,!=2.6.*,!=2.7.*,<3.0.0dev,>=1.32.0->google-api-core[grpc]!=2.0.*,!=2.1.*,!=2.2.*,!=2.3.*,!=2.4.*,!=2.5.*,!=2.6.*,!=2.7.*,<3.0.0dev,>=1.32.0->google-cloud-aiplatform) (3.6)\n",
      "Requirement already satisfied: urllib3<3,>=1.21.1 in /opt/conda/lib/python3.10/site-packages (from requests<3.0.0dev,>=2.18.0->google-api-core!=2.0.*,!=2.1.*,!=2.2.*,!=2.3.*,!=2.4.*,!=2.5.*,!=2.6.*,!=2.7.*,<3.0.0dev,>=1.32.0->google-api-core[grpc]!=2.0.*,!=2.1.*,!=2.2.*,!=2.3.*,!=2.4.*,!=2.5.*,!=2.6.*,!=2.7.*,<3.0.0dev,>=1.32.0->google-cloud-aiplatform) (1.26.18)\n",
      "Requirement already satisfied: certifi>=2017.4.17 in /opt/conda/lib/python3.10/site-packages (from requests<3.0.0dev,>=2.18.0->google-api-core!=2.0.*,!=2.1.*,!=2.2.*,!=2.3.*,!=2.4.*,!=2.5.*,!=2.6.*,!=2.7.*,<3.0.0dev,>=1.32.0->google-api-core[grpc]!=2.0.*,!=2.1.*,!=2.2.*,!=2.3.*,!=2.4.*,!=2.5.*,!=2.6.*,!=2.7.*,<3.0.0dev,>=1.32.0->google-cloud-aiplatform) (2023.11.17)\n",
      "Requirement already satisfied: pyasn1<0.6.0,>=0.4.6 in /opt/conda/lib/python3.10/site-packages (from pyasn1-modules>=0.2.1->google-auth<3.0dev,>=1.25.0->google-api-core!=2.0.*,!=2.1.*,!=2.2.*,!=2.3.*,!=2.4.*,!=2.5.*,!=2.6.*,!=2.7.*,<3.0.0dev,>=1.32.0->google-api-core[grpc]!=2.0.*,!=2.1.*,!=2.2.*,!=2.3.*,!=2.4.*,!=2.5.*,!=2.6.*,!=2.7.*,<3.0.0dev,>=1.32.0->google-cloud-aiplatform) (0.5.1)\n",
      "Requirement already satisfied: pyarrow==11.0.0 in ./.local/lib/python3.10/site-packages (11.0.0)\n",
      "Requirement already satisfied: numpy>=1.16.6 in /opt/conda/lib/python3.10/site-packages (from pyarrow==11.0.0) (1.25.2)\n",
      "Requirement already satisfied: google-cloud-bigquery in ./.local/lib/python3.10/site-packages (3.17.2)\n",
      "Requirement already satisfied: google-api-core!=2.0.*,!=2.1.*,!=2.2.*,!=2.3.0,<3.0.0dev,>=1.31.5 in /opt/conda/lib/python3.10/site-packages (from google-cloud-bigquery) (1.34.0)\n",
      "Requirement already satisfied: google-cloud-core<3.0.0dev,>=1.6.0 in /opt/conda/lib/python3.10/site-packages (from google-cloud-bigquery) (2.4.1)\n",
      "Requirement already satisfied: google-resumable-media<3.0dev,>=0.6.0 in /opt/conda/lib/python3.10/site-packages (from google-cloud-bigquery) (2.7.0)\n",
      "Requirement already satisfied: packaging>=20.0.0 in /opt/conda/lib/python3.10/site-packages (from google-cloud-bigquery) (23.2)\n",
      "Requirement already satisfied: python-dateutil<3.0dev,>=2.7.2 in /opt/conda/lib/python3.10/site-packages (from google-cloud-bigquery) (2.8.2)\n",
      "Requirement already satisfied: requests<3.0.0dev,>=2.21.0 in /opt/conda/lib/python3.10/site-packages (from google-cloud-bigquery) (2.31.0)\n",
      "Requirement already satisfied: googleapis-common-protos<2.0dev,>=1.56.2 in /opt/conda/lib/python3.10/site-packages (from google-api-core!=2.0.*,!=2.1.*,!=2.2.*,!=2.3.0,<3.0.0dev,>=1.31.5->google-cloud-bigquery) (1.62.0)\n",
      "Requirement already satisfied: protobuf!=3.20.0,!=3.20.1,!=4.21.0,!=4.21.1,!=4.21.2,!=4.21.3,!=4.21.4,!=4.21.5,<4.0.0dev,>=3.19.5 in /opt/conda/lib/python3.10/site-packages (from google-api-core!=2.0.*,!=2.1.*,!=2.2.*,!=2.3.0,<3.0.0dev,>=1.31.5->google-cloud-bigquery) (3.20.3)\n",
      "Requirement already satisfied: google-auth<3.0dev,>=1.25.0 in /opt/conda/lib/python3.10/site-packages (from google-api-core!=2.0.*,!=2.1.*,!=2.2.*,!=2.3.0,<3.0.0dev,>=1.31.5->google-cloud-bigquery) (2.26.2)\n",
      "Requirement already satisfied: google-crc32c<2.0dev,>=1.0 in /opt/conda/lib/python3.10/site-packages (from google-resumable-media<3.0dev,>=0.6.0->google-cloud-bigquery) (1.5.0)\n",
      "Requirement already satisfied: six>=1.5 in /opt/conda/lib/python3.10/site-packages (from python-dateutil<3.0dev,>=2.7.2->google-cloud-bigquery) (1.16.0)\n",
      "Requirement already satisfied: charset-normalizer<4,>=2 in /opt/conda/lib/python3.10/site-packages (from requests<3.0.0dev,>=2.21.0->google-cloud-bigquery) (3.3.2)\n",
      "Requirement already satisfied: idna<4,>=2.5 in /opt/conda/lib/python3.10/site-packages (from requests<3.0.0dev,>=2.21.0->google-cloud-bigquery) (3.6)\n",
      "Requirement already satisfied: urllib3<3,>=1.21.1 in /opt/conda/lib/python3.10/site-packages (from requests<3.0.0dev,>=2.21.0->google-cloud-bigquery) (1.26.18)\n",
      "Requirement already satisfied: certifi>=2017.4.17 in /opt/conda/lib/python3.10/site-packages (from requests<3.0.0dev,>=2.21.0->google-cloud-bigquery) (2023.11.17)\n",
      "Requirement already satisfied: cachetools<6.0,>=2.0.0 in /opt/conda/lib/python3.10/site-packages (from google-auth<3.0dev,>=1.25.0->google-api-core!=2.0.*,!=2.1.*,!=2.2.*,!=2.3.0,<3.0.0dev,>=1.31.5->google-cloud-bigquery) (5.3.2)\n",
      "Requirement already satisfied: pyasn1-modules>=0.2.1 in /opt/conda/lib/python3.10/site-packages (from google-auth<3.0dev,>=1.25.0->google-api-core!=2.0.*,!=2.1.*,!=2.2.*,!=2.3.0,<3.0.0dev,>=1.31.5->google-cloud-bigquery) (0.3.0)\n",
      "Requirement already satisfied: rsa<5,>=3.1.4 in /opt/conda/lib/python3.10/site-packages (from google-auth<3.0dev,>=1.25.0->google-api-core!=2.0.*,!=2.1.*,!=2.2.*,!=2.3.0,<3.0.0dev,>=1.31.5->google-cloud-bigquery) (4.9)\n",
      "Requirement already satisfied: pyasn1<0.6.0,>=0.4.6 in /opt/conda/lib/python3.10/site-packages (from pyasn1-modules>=0.2.1->google-auth<3.0dev,>=1.25.0->google-api-core!=2.0.*,!=2.1.*,!=2.2.*,!=2.3.0,<3.0.0dev,>=1.31.5->google-cloud-bigquery) (0.5.1)\n",
      "Requirement already satisfied: google-cloud-bigquery-storage in ./.local/lib/python3.10/site-packages (2.24.0)\n",
      "Requirement already satisfied: google-api-core!=2.0.*,!=2.1.*,!=2.10.*,!=2.2.*,!=2.3.*,!=2.4.*,!=2.5.*,!=2.6.*,!=2.7.*,!=2.8.*,!=2.9.*,<3.0.0dev,>=1.34.0 in /opt/conda/lib/python3.10/site-packages (from google-api-core[grpc]!=2.0.*,!=2.1.*,!=2.10.*,!=2.2.*,!=2.3.*,!=2.4.*,!=2.5.*,!=2.6.*,!=2.7.*,!=2.8.*,!=2.9.*,<3.0.0dev,>=1.34.0->google-cloud-bigquery-storage) (1.34.0)\n",
      "Requirement already satisfied: proto-plus<2.0.0dev,>=1.22.0 in /opt/conda/lib/python3.10/site-packages (from google-cloud-bigquery-storage) (1.23.0)\n",
      "Requirement already satisfied: protobuf!=3.20.0,!=3.20.1,!=4.21.0,!=4.21.1,!=4.21.2,!=4.21.3,!=4.21.4,!=4.21.5,<5.0.0dev,>=3.19.5 in /opt/conda/lib/python3.10/site-packages (from google-cloud-bigquery-storage) (3.20.3)\n",
      "Requirement already satisfied: googleapis-common-protos<2.0dev,>=1.56.2 in /opt/conda/lib/python3.10/site-packages (from google-api-core!=2.0.*,!=2.1.*,!=2.10.*,!=2.2.*,!=2.3.*,!=2.4.*,!=2.5.*,!=2.6.*,!=2.7.*,!=2.8.*,!=2.9.*,<3.0.0dev,>=1.34.0->google-api-core[grpc]!=2.0.*,!=2.1.*,!=2.10.*,!=2.2.*,!=2.3.*,!=2.4.*,!=2.5.*,!=2.6.*,!=2.7.*,!=2.8.*,!=2.9.*,<3.0.0dev,>=1.34.0->google-cloud-bigquery-storage) (1.62.0)\n",
      "Requirement already satisfied: google-auth<3.0dev,>=1.25.0 in /opt/conda/lib/python3.10/site-packages (from google-api-core!=2.0.*,!=2.1.*,!=2.10.*,!=2.2.*,!=2.3.*,!=2.4.*,!=2.5.*,!=2.6.*,!=2.7.*,!=2.8.*,!=2.9.*,<3.0.0dev,>=1.34.0->google-api-core[grpc]!=2.0.*,!=2.1.*,!=2.10.*,!=2.2.*,!=2.3.*,!=2.4.*,!=2.5.*,!=2.6.*,!=2.7.*,!=2.8.*,!=2.9.*,<3.0.0dev,>=1.34.0->google-cloud-bigquery-storage) (2.26.2)\n",
      "Requirement already satisfied: requests<3.0.0dev,>=2.18.0 in /opt/conda/lib/python3.10/site-packages (from google-api-core!=2.0.*,!=2.1.*,!=2.10.*,!=2.2.*,!=2.3.*,!=2.4.*,!=2.5.*,!=2.6.*,!=2.7.*,!=2.8.*,!=2.9.*,<3.0.0dev,>=1.34.0->google-api-core[grpc]!=2.0.*,!=2.1.*,!=2.10.*,!=2.2.*,!=2.3.*,!=2.4.*,!=2.5.*,!=2.6.*,!=2.7.*,!=2.8.*,!=2.9.*,<3.0.0dev,>=1.34.0->google-cloud-bigquery-storage) (2.31.0)\n",
      "Requirement already satisfied: grpcio<2.0dev,>=1.33.2 in /opt/conda/lib/python3.10/site-packages (from google-api-core[grpc]!=2.0.*,!=2.1.*,!=2.10.*,!=2.2.*,!=2.3.*,!=2.4.*,!=2.5.*,!=2.6.*,!=2.7.*,!=2.8.*,!=2.9.*,<3.0.0dev,>=1.34.0->google-cloud-bigquery-storage) (1.60.0)\n",
      "Requirement already satisfied: grpcio-status<2.0dev,>=1.33.2 in /opt/conda/lib/python3.10/site-packages (from google-api-core[grpc]!=2.0.*,!=2.1.*,!=2.10.*,!=2.2.*,!=2.3.*,!=2.4.*,!=2.5.*,!=2.6.*,!=2.7.*,!=2.8.*,!=2.9.*,<3.0.0dev,>=1.34.0->google-cloud-bigquery-storage) (1.48.2)\n",
      "Requirement already satisfied: cachetools<6.0,>=2.0.0 in /opt/conda/lib/python3.10/site-packages (from google-auth<3.0dev,>=1.25.0->google-api-core!=2.0.*,!=2.1.*,!=2.10.*,!=2.2.*,!=2.3.*,!=2.4.*,!=2.5.*,!=2.6.*,!=2.7.*,!=2.8.*,!=2.9.*,<3.0.0dev,>=1.34.0->google-api-core[grpc]!=2.0.*,!=2.1.*,!=2.10.*,!=2.2.*,!=2.3.*,!=2.4.*,!=2.5.*,!=2.6.*,!=2.7.*,!=2.8.*,!=2.9.*,<3.0.0dev,>=1.34.0->google-cloud-bigquery-storage) (5.3.2)\n",
      "Requirement already satisfied: pyasn1-modules>=0.2.1 in /opt/conda/lib/python3.10/site-packages (from google-auth<3.0dev,>=1.25.0->google-api-core!=2.0.*,!=2.1.*,!=2.10.*,!=2.2.*,!=2.3.*,!=2.4.*,!=2.5.*,!=2.6.*,!=2.7.*,!=2.8.*,!=2.9.*,<3.0.0dev,>=1.34.0->google-api-core[grpc]!=2.0.*,!=2.1.*,!=2.10.*,!=2.2.*,!=2.3.*,!=2.4.*,!=2.5.*,!=2.6.*,!=2.7.*,!=2.8.*,!=2.9.*,<3.0.0dev,>=1.34.0->google-cloud-bigquery-storage) (0.3.0)\n",
      "Requirement already satisfied: rsa<5,>=3.1.4 in /opt/conda/lib/python3.10/site-packages (from google-auth<3.0dev,>=1.25.0->google-api-core!=2.0.*,!=2.1.*,!=2.10.*,!=2.2.*,!=2.3.*,!=2.4.*,!=2.5.*,!=2.6.*,!=2.7.*,!=2.8.*,!=2.9.*,<3.0.0dev,>=1.34.0->google-api-core[grpc]!=2.0.*,!=2.1.*,!=2.10.*,!=2.2.*,!=2.3.*,!=2.4.*,!=2.5.*,!=2.6.*,!=2.7.*,!=2.8.*,!=2.9.*,<3.0.0dev,>=1.34.0->google-cloud-bigquery-storage) (4.9)\n",
      "Requirement already satisfied: charset-normalizer<4,>=2 in /opt/conda/lib/python3.10/site-packages (from requests<3.0.0dev,>=2.18.0->google-api-core!=2.0.*,!=2.1.*,!=2.10.*,!=2.2.*,!=2.3.*,!=2.4.*,!=2.5.*,!=2.6.*,!=2.7.*,!=2.8.*,!=2.9.*,<3.0.0dev,>=1.34.0->google-api-core[grpc]!=2.0.*,!=2.1.*,!=2.10.*,!=2.2.*,!=2.3.*,!=2.4.*,!=2.5.*,!=2.6.*,!=2.7.*,!=2.8.*,!=2.9.*,<3.0.0dev,>=1.34.0->google-cloud-bigquery-storage) (3.3.2)\n",
      "Requirement already satisfied: idna<4,>=2.5 in /opt/conda/lib/python3.10/site-packages (from requests<3.0.0dev,>=2.18.0->google-api-core!=2.0.*,!=2.1.*,!=2.10.*,!=2.2.*,!=2.3.*,!=2.4.*,!=2.5.*,!=2.6.*,!=2.7.*,!=2.8.*,!=2.9.*,<3.0.0dev,>=1.34.0->google-api-core[grpc]!=2.0.*,!=2.1.*,!=2.10.*,!=2.2.*,!=2.3.*,!=2.4.*,!=2.5.*,!=2.6.*,!=2.7.*,!=2.8.*,!=2.9.*,<3.0.0dev,>=1.34.0->google-cloud-bigquery-storage) (3.6)\n",
      "Requirement already satisfied: urllib3<3,>=1.21.1 in /opt/conda/lib/python3.10/site-packages (from requests<3.0.0dev,>=2.18.0->google-api-core!=2.0.*,!=2.1.*,!=2.10.*,!=2.2.*,!=2.3.*,!=2.4.*,!=2.5.*,!=2.6.*,!=2.7.*,!=2.8.*,!=2.9.*,<3.0.0dev,>=1.34.0->google-api-core[grpc]!=2.0.*,!=2.1.*,!=2.10.*,!=2.2.*,!=2.3.*,!=2.4.*,!=2.5.*,!=2.6.*,!=2.7.*,!=2.8.*,!=2.9.*,<3.0.0dev,>=1.34.0->google-cloud-bigquery-storage) (1.26.18)\n",
      "Requirement already satisfied: certifi>=2017.4.17 in /opt/conda/lib/python3.10/site-packages (from requests<3.0.0dev,>=2.18.0->google-api-core!=2.0.*,!=2.1.*,!=2.10.*,!=2.2.*,!=2.3.*,!=2.4.*,!=2.5.*,!=2.6.*,!=2.7.*,!=2.8.*,!=2.9.*,<3.0.0dev,>=1.34.0->google-api-core[grpc]!=2.0.*,!=2.1.*,!=2.10.*,!=2.2.*,!=2.3.*,!=2.4.*,!=2.5.*,!=2.6.*,!=2.7.*,!=2.8.*,!=2.9.*,<3.0.0dev,>=1.34.0->google-cloud-bigquery-storage) (2023.11.17)\n",
      "Requirement already satisfied: pyasn1<0.6.0,>=0.4.6 in /opt/conda/lib/python3.10/site-packages (from pyasn1-modules>=0.2.1->google-auth<3.0dev,>=1.25.0->google-api-core!=2.0.*,!=2.1.*,!=2.10.*,!=2.2.*,!=2.3.*,!=2.4.*,!=2.5.*,!=2.6.*,!=2.7.*,!=2.8.*,!=2.9.*,<3.0.0dev,>=1.34.0->google-api-core[grpc]!=2.0.*,!=2.1.*,!=2.10.*,!=2.2.*,!=2.3.*,!=2.4.*,!=2.5.*,!=2.6.*,!=2.7.*,!=2.8.*,!=2.9.*,<3.0.0dev,>=1.34.0->google-cloud-bigquery-storage) (0.5.1)\n",
      "Requirement already satisfied: google-cloud-storage in /opt/conda/lib/python3.10/site-packages (2.14.0)\n",
      "Requirement already satisfied: google-auth<3.0dev,>=2.23.3 in /opt/conda/lib/python3.10/site-packages (from google-cloud-storage) (2.26.2)\n",
      "Requirement already satisfied: google-api-core!=2.0.*,!=2.1.*,!=2.2.*,!=2.3.0,<3.0.0dev,>=1.31.5 in /opt/conda/lib/python3.10/site-packages (from google-cloud-storage) (1.34.0)\n",
      "Requirement already satisfied: google-cloud-core<3.0dev,>=2.3.0 in /opt/conda/lib/python3.10/site-packages (from google-cloud-storage) (2.4.1)\n",
      "Requirement already satisfied: google-resumable-media>=2.6.0 in /opt/conda/lib/python3.10/site-packages (from google-cloud-storage) (2.7.0)\n",
      "Requirement already satisfied: requests<3.0.0dev,>=2.18.0 in /opt/conda/lib/python3.10/site-packages (from google-cloud-storage) (2.31.0)\n",
      "Requirement already satisfied: google-crc32c<2.0dev,>=1.0 in /opt/conda/lib/python3.10/site-packages (from google-cloud-storage) (1.5.0)\n",
      "Requirement already satisfied: googleapis-common-protos<2.0dev,>=1.56.2 in /opt/conda/lib/python3.10/site-packages (from google-api-core!=2.0.*,!=2.1.*,!=2.2.*,!=2.3.0,<3.0.0dev,>=1.31.5->google-cloud-storage) (1.62.0)\n",
      "Requirement already satisfied: protobuf!=3.20.0,!=3.20.1,!=4.21.0,!=4.21.1,!=4.21.2,!=4.21.3,!=4.21.4,!=4.21.5,<4.0.0dev,>=3.19.5 in /opt/conda/lib/python3.10/site-packages (from google-api-core!=2.0.*,!=2.1.*,!=2.2.*,!=2.3.0,<3.0.0dev,>=1.31.5->google-cloud-storage) (3.20.3)\n",
      "Requirement already satisfied: cachetools<6.0,>=2.0.0 in /opt/conda/lib/python3.10/site-packages (from google-auth<3.0dev,>=2.23.3->google-cloud-storage) (5.3.2)\n",
      "Requirement already satisfied: pyasn1-modules>=0.2.1 in /opt/conda/lib/python3.10/site-packages (from google-auth<3.0dev,>=2.23.3->google-cloud-storage) (0.3.0)\n",
      "Requirement already satisfied: rsa<5,>=3.1.4 in /opt/conda/lib/python3.10/site-packages (from google-auth<3.0dev,>=2.23.3->google-cloud-storage) (4.9)\n",
      "Requirement already satisfied: charset-normalizer<4,>=2 in /opt/conda/lib/python3.10/site-packages (from requests<3.0.0dev,>=2.18.0->google-cloud-storage) (3.3.2)\n",
      "Requirement already satisfied: idna<4,>=2.5 in /opt/conda/lib/python3.10/site-packages (from requests<3.0.0dev,>=2.18.0->google-cloud-storage) (3.6)\n",
      "Requirement already satisfied: urllib3<3,>=1.21.1 in /opt/conda/lib/python3.10/site-packages (from requests<3.0.0dev,>=2.18.0->google-cloud-storage) (1.26.18)\n",
      "Requirement already satisfied: certifi>=2017.4.17 in /opt/conda/lib/python3.10/site-packages (from requests<3.0.0dev,>=2.18.0->google-cloud-storage) (2023.11.17)\n",
      "Requirement already satisfied: pyasn1<0.6.0,>=0.4.6 in /opt/conda/lib/python3.10/site-packages (from pyasn1-modules>=0.2.1->google-auth<3.0dev,>=2.23.3->google-cloud-storage) (0.5.1)\n",
      "Requirement already satisfied: db-dtypes in /opt/conda/lib/python3.10/site-packages (1.2.0)\n",
      "Requirement already satisfied: packaging>=17.0 in /opt/conda/lib/python3.10/site-packages (from db-dtypes) (23.2)\n",
      "Requirement already satisfied: pandas>=0.24.2 in /opt/conda/lib/python3.10/site-packages (from db-dtypes) (2.1.4)\n",
      "Requirement already satisfied: pyarrow>=3.0.0 in ./.local/lib/python3.10/site-packages (from db-dtypes) (11.0.0)\n",
      "Requirement already satisfied: numpy>=1.16.6 in /opt/conda/lib/python3.10/site-packages (from db-dtypes) (1.25.2)\n",
      "Requirement already satisfied: python-dateutil>=2.8.2 in /opt/conda/lib/python3.10/site-packages (from pandas>=0.24.2->db-dtypes) (2.8.2)\n",
      "Requirement already satisfied: pytz>=2020.1 in /opt/conda/lib/python3.10/site-packages (from pandas>=0.24.2->db-dtypes) (2023.3.post1)\n",
      "Requirement already satisfied: tzdata>=2022.1 in /opt/conda/lib/python3.10/site-packages (from pandas>=0.24.2->db-dtypes) (2023.4)\n",
      "Requirement already satisfied: six>=1.5 in /opt/conda/lib/python3.10/site-packages (from python-dateutil>=2.8.2->pandas>=0.24.2->db-dtypes) (1.16.0)\n"
     ]
    }
   ],
   "source": [
    "# Install required libraries\n",
    "!pip3 install google-cloud-aiplatform --user\n",
    "!pip3 install pyarrow==11.0.0 --user\n",
    "!pip3 install --upgrade google-cloud-bigquery --user\n",
    "!pip3 install --upgrade google-cloud-bigquery-storage --user\n",
    "!pip3 install --upgrade google-cloud-storage --user\n",
    "!pip install db-dtypes"
   ]
  },
  {
   "cell_type": "code",
   "execution_count": 2,
   "id": "a05a9171-f0c2-4526-a45d-caa91a148e55",
   "metadata": {
    "tags": []
   },
   "outputs": [],
   "source": [
    "# Set project_id\n",
    "PROJECT_ID = !(gcloud config get-value core/project)\n",
    "PROJECT_ID = PROJECT_ID[0] "
   ]
  },
  {
   "cell_type": "code",
   "execution_count": 3,
   "id": "5df7e15a-1ee0-4ca4-9f5d-56bf760a1f5b",
   "metadata": {
    "tags": []
   },
   "outputs": [],
   "source": [
    "# Set BigQuery and Region variables for later use \n",
    "BQ_LOCATION = 'US'\n",
    "REGION = 'us-central1'"
   ]
  },
  {
   "cell_type": "code",
   "execution_count": 4,
   "id": "2ac36064-39be-4c16-8c9f-83ffa21e7061",
   "metadata": {
    "tags": []
   },
   "outputs": [],
   "source": [
    "# Add additional libraries \n",
    "import pandas as pd\n",
    "from google.cloud import bigquery\n",
    "from google.cloud import aiplatform as vertexai"
   ]
  },
  {
   "cell_type": "code",
   "execution_count": 5,
   "id": "bb749127-cb01-49e3-91af-4323d4bcf675",
   "metadata": {
    "tags": []
   },
   "outputs": [],
   "source": [
    "# Set bucket variable with project and bucket name\n",
    "GCS_BUCKET = f\"{PROJECT_ID}-matt-aml-cap-bucket\""
   ]
  },
  {
   "cell_type": "code",
   "execution_count": null,
   "id": "87fc210e-d83e-44c4-b043-55970ad4ba5b",
   "metadata": {
    "tags": []
   },
   "outputs": [
    {
     "name": "stdout",
     "output_type": "stream",
     "text": [
      "Creating gs://york-bb-cohort-matt-aml-cap-bucket/...\n"
     ]
    }
   ],
   "source": [
    "# Create a GC Storage bucket in command line for later artifact storage\n",
    "!gsutil mb -l $REGION gs://$GCS_BUCKET"
   ]
  },
  {
   "cell_type": "code",
   "execution_count": 7,
   "id": "e3e5b91a-5dcb-4b5a-9e6b-877672bd1ea4",
   "metadata": {
    "tags": []
   },
   "outputs": [],
   "source": [
    "# Set BigQuery dataset variable \n",
    "BQ_DATASET = f\"{PROJECT_ID}:matt_aml_cap_dataset\""
   ]
  },
  {
   "cell_type": "code",
   "execution_count": null,
   "id": "c8478df5-a6f3-4989-8a13-826a07caffbb",
   "metadata": {
    "tags": []
   },
   "outputs": [
    {
     "name": "stdout",
     "output_type": "stream",
     "text": [
      "BigQuery error in mk operation: Dataset 'york-bb-cohort:matt_aml_cap_dataset'\n",
      "already exists.\n"
     ]
    }
   ],
   "source": [
    "#Create BiqQuery Dataset from command line \n",
    "!bq mk --location={BQ_LOCATION} --dataset {BQ_DATASET}"
   ]
  },
  {
   "cell_type": "code",
   "execution_count": 21,
   "id": "c36060c2-f1c8-4bdf-94a0-2e4281c54765",
   "metadata": {
    "tags": []
   },
   "outputs": [],
   "source": [
    "# Initialize the Vertex Python SDK client\n",
    "vertexai.init(project=PROJECT_ID, location=REGION, staging_bucket=f\"gs://{GCS_BUCKET}\")"
   ]
  },
  {
   "cell_type": "code",
   "execution_count": 22,
   "id": "aaa3012f-3ea9-4616-9725-807fe2fe7215",
   "metadata": {
    "tags": []
   },
   "outputs": [
    {
     "data": {
      "application/vnd.jupyter.widget-view+json": {
       "model_id": "a65ccf6806244c5f857b924325d1f933",
       "version_major": 2,
       "version_minor": 0
      },
      "text/plain": [
       "Query is running:   0%|          |"
      ]
     },
     "metadata": {},
     "output_type": "display_data"
    },
    {
     "data": {
      "text/html": [
       "<div>\n",
       "<style scoped>\n",
       "    .dataframe tbody tr th:only-of-type {\n",
       "        vertical-align: middle;\n",
       "    }\n",
       "\n",
       "    .dataframe tbody tr th {\n",
       "        vertical-align: top;\n",
       "    }\n",
       "\n",
       "    .dataframe thead th {\n",
       "        text-align: right;\n",
       "    }\n",
       "</style>\n",
       "<table border=\"1\" class=\"dataframe\">\n",
       "  <thead>\n",
       "    <tr style=\"text-align: right;\">\n",
       "      <th></th>\n",
       "    </tr>\n",
       "  </thead>\n",
       "  <tbody>\n",
       "  </tbody>\n",
       "</table>\n",
       "</div>"
      ],
      "text/plain": [
       "Empty DataFrame\n",
       "Columns: []\n",
       "Index: []"
      ]
     },
     "execution_count": 22,
     "metadata": {},
     "output_type": "execute_result"
    }
   ],
   "source": [
    "%%bigquery --project $PROJECT_ID\n",
    "\n",
    "# Create a table in dataset from selected month \n",
    "CREATE OR REPLACE VIEW matt_aml_cap_dataset.ga_sessions AS (\n",
    "    SELECT \n",
    "        *\n",
    "    FROM \n",
    "        `bigquery-public-data.google_analytics_sample.ga_sessions_*`\n",
    "    WHERE \n",
    "        _TABLE_SUFFIX BETWEEN '20170701' AND '20170731'\n",
    ")"
   ]
  },
  {
   "cell_type": "code",
   "execution_count": 24,
   "id": "0aa3d11d-51c0-4fbf-a83a-3533b0537089",
   "metadata": {
    "tags": []
   },
   "outputs": [
    {
     "data": {
      "application/vnd.jupyter.widget-view+json": {
       "model_id": "064fea40592645f3a24d28c955261188",
       "version_major": 2,
       "version_minor": 0
      },
      "text/plain": [
       "Query is running:   0%|          |"
      ]
     },
     "metadata": {},
     "output_type": "display_data"
    },
    {
     "data": {
      "application/vnd.jupyter.widget-view+json": {
       "model_id": "742bd99e03e7405c845da9736f7da318",
       "version_major": 2,
       "version_minor": 0
      },
      "text/plain": [
       "Downloading:   0%|          |"
      ]
     },
     "metadata": {},
     "output_type": "display_data"
    },
    {
     "data": {
      "text/html": [
       "<div>\n",
       "<style scoped>\n",
       "    .dataframe tbody tr th:only-of-type {\n",
       "        vertical-align: middle;\n",
       "    }\n",
       "\n",
       "    .dataframe tbody tr th {\n",
       "        vertical-align: top;\n",
       "    }\n",
       "\n",
       "    .dataframe thead th {\n",
       "        text-align: right;\n",
       "    }\n",
       "</style>\n",
       "<table border=\"1\" class=\"dataframe\">\n",
       "  <thead>\n",
       "    <tr style=\"text-align: right;\">\n",
       "      <th></th>\n",
       "      <th>visitorId</th>\n",
       "      <th>visitNumber</th>\n",
       "      <th>visitId</th>\n",
       "      <th>visitStartTime</th>\n",
       "      <th>date</th>\n",
       "      <th>totals</th>\n",
       "      <th>trafficSource</th>\n",
       "      <th>device</th>\n",
       "      <th>geoNetwork</th>\n",
       "      <th>customDimensions</th>\n",
       "      <th>hits</th>\n",
       "      <th>fullVisitorId</th>\n",
       "      <th>userId</th>\n",
       "      <th>clientId</th>\n",
       "      <th>channelGrouping</th>\n",
       "      <th>socialEngagementType</th>\n",
       "    </tr>\n",
       "  </thead>\n",
       "  <tbody>\n",
       "    <tr>\n",
       "      <th>0</th>\n",
       "      <td>&lt;NA&gt;</td>\n",
       "      <td>3</td>\n",
       "      <td>1499561825</td>\n",
       "      <td>1499561825</td>\n",
       "      <td>20170708</td>\n",
       "      <td>{'visits': 1, 'hits': 2, 'pageviews': 2, 'time...</td>\n",
       "      <td>{'referralPath': None, 'campaign': 'Data Share...</td>\n",
       "      <td>{'browser': 'Chrome', 'browserVersion': 'not a...</td>\n",
       "      <td>{'continent': 'Asia', 'subContinent': 'Eastern...</td>\n",
       "      <td>[{'index': 4, 'value': 'APAC'}]</td>\n",
       "      <td>[{'hitNumber': 1, 'time': 0, 'hour': 17, 'minu...</td>\n",
       "      <td>7953155863181185949</td>\n",
       "      <td>None</td>\n",
       "      <td>None</td>\n",
       "      <td>Affiliates</td>\n",
       "      <td>Not Socially Engaged</td>\n",
       "    </tr>\n",
       "    <tr>\n",
       "      <th>1</th>\n",
       "      <td>&lt;NA&gt;</td>\n",
       "      <td>1</td>\n",
       "      <td>1499531862</td>\n",
       "      <td>1499531862</td>\n",
       "      <td>20170708</td>\n",
       "      <td>{'visits': 1, 'hits': 2, 'pageviews': 2, 'time...</td>\n",
       "      <td>{'referralPath': None, 'campaign': 'Data Share...</td>\n",
       "      <td>{'browser': 'Safari (in-app)', 'browserVersion...</td>\n",
       "      <td>{'continent': 'Americas', 'subContinent': 'Nor...</td>\n",
       "      <td>[{'index': 4, 'value': 'North America'}]</td>\n",
       "      <td>[{'hitNumber': 1, 'time': 0, 'hour': 9, 'minut...</td>\n",
       "      <td>6918414163336890991</td>\n",
       "      <td>None</td>\n",
       "      <td>None</td>\n",
       "      <td>Affiliates</td>\n",
       "      <td>Not Socially Engaged</td>\n",
       "    </tr>\n",
       "    <tr>\n",
       "      <th>2</th>\n",
       "      <td>&lt;NA&gt;</td>\n",
       "      <td>3</td>\n",
       "      <td>1499543744</td>\n",
       "      <td>1499543744</td>\n",
       "      <td>20170708</td>\n",
       "      <td>{'visits': 1, 'hits': 2, 'pageviews': 2, 'time...</td>\n",
       "      <td>{'referralPath': '/analytics/web/', 'campaign'...</td>\n",
       "      <td>{'browser': 'Safari', 'browserVersion': 'not a...</td>\n",
       "      <td>{'continent': 'Americas', 'subContinent': 'Nor...</td>\n",
       "      <td>[{'index': 4, 'value': 'North America'}]</td>\n",
       "      <td>[{'hitNumber': 1, 'time': 0, 'hour': 12, 'minu...</td>\n",
       "      <td>9492900189025292669</td>\n",
       "      <td>None</td>\n",
       "      <td>None</td>\n",
       "      <td>Referral</td>\n",
       "      <td>Not Socially Engaged</td>\n",
       "    </tr>\n",
       "    <tr>\n",
       "      <th>3</th>\n",
       "      <td>&lt;NA&gt;</td>\n",
       "      <td>1</td>\n",
       "      <td>1499554454</td>\n",
       "      <td>1499554454</td>\n",
       "      <td>20170708</td>\n",
       "      <td>{'visits': 1, 'hits': 2, 'pageviews': 2, 'time...</td>\n",
       "      <td>{'referralPath': '/', 'campaign': '(not set)',...</td>\n",
       "      <td>{'browser': 'Chrome', 'browserVersion': 'not a...</td>\n",
       "      <td>{'continent': 'Americas', 'subContinent': 'Nor...</td>\n",
       "      <td>[{'index': 4, 'value': 'North America'}]</td>\n",
       "      <td>[{'hitNumber': 1, 'time': 0, 'hour': 15, 'minu...</td>\n",
       "      <td>723344577810510971</td>\n",
       "      <td>None</td>\n",
       "      <td>None</td>\n",
       "      <td>Referral</td>\n",
       "      <td>Not Socially Engaged</td>\n",
       "    </tr>\n",
       "    <tr>\n",
       "      <th>4</th>\n",
       "      <td>&lt;NA&gt;</td>\n",
       "      <td>6</td>\n",
       "      <td>1499565428</td>\n",
       "      <td>1499565428</td>\n",
       "      <td>20170708</td>\n",
       "      <td>{'visits': 1, 'hits': 2, 'pageviews': 2, 'time...</td>\n",
       "      <td>{'referralPath': '/', 'campaign': '(not set)',...</td>\n",
       "      <td>{'browser': 'Chrome', 'browserVersion': 'not a...</td>\n",
       "      <td>{'continent': 'Americas', 'subContinent': 'Nor...</td>\n",
       "      <td>[{'index': 4, 'value': 'North America'}]</td>\n",
       "      <td>[{'hitNumber': 1, 'time': 0, 'hour': 18, 'minu...</td>\n",
       "      <td>7614084089819514577</td>\n",
       "      <td>None</td>\n",
       "      <td>None</td>\n",
       "      <td>Referral</td>\n",
       "      <td>Not Socially Engaged</td>\n",
       "    </tr>\n",
       "  </tbody>\n",
       "</table>\n",
       "</div>"
      ],
      "text/plain": [
       "   visitorId  visitNumber     visitId  visitStartTime      date  \\\n",
       "0       <NA>            3  1499561825      1499561825  20170708   \n",
       "1       <NA>            1  1499531862      1499531862  20170708   \n",
       "2       <NA>            3  1499543744      1499543744  20170708   \n",
       "3       <NA>            1  1499554454      1499554454  20170708   \n",
       "4       <NA>            6  1499565428      1499565428  20170708   \n",
       "\n",
       "                                              totals  \\\n",
       "0  {'visits': 1, 'hits': 2, 'pageviews': 2, 'time...   \n",
       "1  {'visits': 1, 'hits': 2, 'pageviews': 2, 'time...   \n",
       "2  {'visits': 1, 'hits': 2, 'pageviews': 2, 'time...   \n",
       "3  {'visits': 1, 'hits': 2, 'pageviews': 2, 'time...   \n",
       "4  {'visits': 1, 'hits': 2, 'pageviews': 2, 'time...   \n",
       "\n",
       "                                       trafficSource  \\\n",
       "0  {'referralPath': None, 'campaign': 'Data Share...   \n",
       "1  {'referralPath': None, 'campaign': 'Data Share...   \n",
       "2  {'referralPath': '/analytics/web/', 'campaign'...   \n",
       "3  {'referralPath': '/', 'campaign': '(not set)',...   \n",
       "4  {'referralPath': '/', 'campaign': '(not set)',...   \n",
       "\n",
       "                                              device  \\\n",
       "0  {'browser': 'Chrome', 'browserVersion': 'not a...   \n",
       "1  {'browser': 'Safari (in-app)', 'browserVersion...   \n",
       "2  {'browser': 'Safari', 'browserVersion': 'not a...   \n",
       "3  {'browser': 'Chrome', 'browserVersion': 'not a...   \n",
       "4  {'browser': 'Chrome', 'browserVersion': 'not a...   \n",
       "\n",
       "                                          geoNetwork  \\\n",
       "0  {'continent': 'Asia', 'subContinent': 'Eastern...   \n",
       "1  {'continent': 'Americas', 'subContinent': 'Nor...   \n",
       "2  {'continent': 'Americas', 'subContinent': 'Nor...   \n",
       "3  {'continent': 'Americas', 'subContinent': 'Nor...   \n",
       "4  {'continent': 'Americas', 'subContinent': 'Nor...   \n",
       "\n",
       "                           customDimensions  \\\n",
       "0           [{'index': 4, 'value': 'APAC'}]   \n",
       "1  [{'index': 4, 'value': 'North America'}]   \n",
       "2  [{'index': 4, 'value': 'North America'}]   \n",
       "3  [{'index': 4, 'value': 'North America'}]   \n",
       "4  [{'index': 4, 'value': 'North America'}]   \n",
       "\n",
       "                                                hits        fullVisitorId  \\\n",
       "0  [{'hitNumber': 1, 'time': 0, 'hour': 17, 'minu...  7953155863181185949   \n",
       "1  [{'hitNumber': 1, 'time': 0, 'hour': 9, 'minut...  6918414163336890991   \n",
       "2  [{'hitNumber': 1, 'time': 0, 'hour': 12, 'minu...  9492900189025292669   \n",
       "3  [{'hitNumber': 1, 'time': 0, 'hour': 15, 'minu...   723344577810510971   \n",
       "4  [{'hitNumber': 1, 'time': 0, 'hour': 18, 'minu...  7614084089819514577   \n",
       "\n",
       "  userId clientId channelGrouping  socialEngagementType  \n",
       "0   None     None      Affiliates  Not Socially Engaged  \n",
       "1   None     None      Affiliates  Not Socially Engaged  \n",
       "2   None     None        Referral  Not Socially Engaged  \n",
       "3   None     None        Referral  Not Socially Engaged  \n",
       "4   None     None        Referral  Not Socially Engaged  "
      ]
     },
     "execution_count": 24,
     "metadata": {},
     "output_type": "execute_result"
    }
   ],
   "source": [
    "%%bigquery --project $PROJECT_ID\n",
    "\n",
    "# Confirm dataset and table created successfully\n",
    "SELECT \n",
    "    * \n",
    "FROM \n",
    "    matt_aml_cap_dataset.ga_sessions\n",
    "LIMIT \n",
    "    5;"
   ]
  },
  {
   "cell_type": "code",
   "execution_count": 25,
   "id": "7663f516",
   "metadata": {
    "tags": []
   },
   "outputs": [
    {
     "data": {
      "application/vnd.jupyter.widget-view+json": {
       "model_id": "c5eeedf840594241bd824265c0a3c005",
       "version_major": 2,
       "version_minor": 0
      },
      "text/plain": [
       "Query is running:   0%|          |"
      ]
     },
     "metadata": {},
     "output_type": "display_data"
    },
    {
     "data": {
      "application/vnd.jupyter.widget-view+json": {
       "model_id": "5184a7d2694f4f62bdcfd8b85a477192",
       "version_major": 2,
       "version_minor": 0
      },
      "text/plain": [
       "Downloading:   0%|          |"
      ]
     },
     "metadata": {},
     "output_type": "display_data"
    },
    {
     "data": {
      "text/html": [
       "<div>\n",
       "<style scoped>\n",
       "    .dataframe tbody tr th:only-of-type {\n",
       "        vertical-align: middle;\n",
       "    }\n",
       "\n",
       "    .dataframe tbody tr th {\n",
       "        vertical-align: top;\n",
       "    }\n",
       "\n",
       "    .dataframe thead th {\n",
       "        text-align: right;\n",
       "    }\n",
       "</style>\n",
       "<table border=\"1\" class=\"dataframe\">\n",
       "  <thead>\n",
       "    <tr style=\"text-align: right;\">\n",
       "      <th></th>\n",
       "      <th>eventAction</th>\n",
       "      <th>action_type</th>\n",
       "    </tr>\n",
       "  </thead>\n",
       "  <tbody>\n",
       "    <tr>\n",
       "      <th>0</th>\n",
       "      <td>Add to Cart</td>\n",
       "      <td>3</td>\n",
       "    </tr>\n",
       "    <tr>\n",
       "      <th>1</th>\n",
       "      <td>Add to Cart</td>\n",
       "      <td>3</td>\n",
       "    </tr>\n",
       "    <tr>\n",
       "      <th>2</th>\n",
       "      <td>Add to Cart</td>\n",
       "      <td>3</td>\n",
       "    </tr>\n",
       "    <tr>\n",
       "      <th>3</th>\n",
       "      <td>Add to Cart</td>\n",
       "      <td>3</td>\n",
       "    </tr>\n",
       "    <tr>\n",
       "      <th>4</th>\n",
       "      <td>Add to Cart</td>\n",
       "      <td>3</td>\n",
       "    </tr>\n",
       "    <tr>\n",
       "      <th>...</th>\n",
       "      <td>...</td>\n",
       "      <td>...</td>\n",
       "    </tr>\n",
       "    <tr>\n",
       "      <th>11842</th>\n",
       "      <td>Add to Cart</td>\n",
       "      <td>3</td>\n",
       "    </tr>\n",
       "    <tr>\n",
       "      <th>11843</th>\n",
       "      <td>Add to Cart</td>\n",
       "      <td>3</td>\n",
       "    </tr>\n",
       "    <tr>\n",
       "      <th>11844</th>\n",
       "      <td>Add to Cart</td>\n",
       "      <td>3</td>\n",
       "    </tr>\n",
       "    <tr>\n",
       "      <th>11845</th>\n",
       "      <td>Add to Cart</td>\n",
       "      <td>3</td>\n",
       "    </tr>\n",
       "    <tr>\n",
       "      <th>11846</th>\n",
       "      <td>Add to Cart</td>\n",
       "      <td>3</td>\n",
       "    </tr>\n",
       "  </tbody>\n",
       "</table>\n",
       "<p>11847 rows × 2 columns</p>\n",
       "</div>"
      ],
      "text/plain": [
       "       eventAction action_type\n",
       "0      Add to Cart           3\n",
       "1      Add to Cart           3\n",
       "2      Add to Cart           3\n",
       "3      Add to Cart           3\n",
       "4      Add to Cart           3\n",
       "...            ...         ...\n",
       "11842  Add to Cart           3\n",
       "11843  Add to Cart           3\n",
       "11844  Add to Cart           3\n",
       "11845  Add to Cart           3\n",
       "11846  Add to Cart           3\n",
       "\n",
       "[11847 rows x 2 columns]"
      ]
     },
     "execution_count": 25,
     "metadata": {},
     "output_type": "execute_result"
    }
   ],
   "source": [
    "%%bigquery --project $PROJECT_ID\n",
    "\n",
    "#Find Target\n",
    "SELECT \n",
    "    h.eventInfo.eventAction, h.eCommerceAction.action_type \n",
    "FROM \n",
    "    matt_capstone_dataset.ga_sessions,\n",
    "UNNEST\n",
    "    (hits) AS h\n",
    "WHERE (h.eventInfo.eventAction = \"Add to Cart\")"
   ]
  },
  {
   "cell_type": "code",
   "execution_count": 26,
   "id": "fa6c7561",
   "metadata": {
    "tags": []
   },
   "outputs": [
    {
     "data": {
      "application/vnd.jupyter.widget-view+json": {
       "model_id": "bdf0fa3c95864e35aa182746f43bbc4a",
       "version_major": 2,
       "version_minor": 0
      },
      "text/plain": [
       "Query is running:   0%|          |"
      ]
     },
     "metadata": {},
     "output_type": "display_data"
    },
    {
     "data": {
      "application/vnd.jupyter.widget-view+json": {
       "model_id": "84adab0c9c6048da893544a129fba81c",
       "version_major": 2,
       "version_minor": 0
      },
      "text/plain": [
       "Downloading:   0%|          |"
      ]
     },
     "metadata": {},
     "output_type": "display_data"
    }
   ],
   "source": [
    "%%bigquery df --project $PROJECT_ID\n",
    "\n",
    "# Examine data, place in Pandas DataFrame \n",
    "SELECT  \n",
    "    visitorId, visitNumber, visitId, visitStartTime, date, \n",
    "    totals.visits, totals.hits, totals.pageviews, totals.timeOnSite, totals.bounces, totals.transactions, totals.transactionRevenue, \n",
    "    totals.newVisits, totals.screenviews, totals.uniqueScreenviews, totals.timeOnScreen, totals.totalTransactionRevenue, totals.sessionQualityDim, \n",
    "    trafficSource.referralPath, trafficSource.campaign, trafficSource.source, trafficSource.medium, trafficSource.keyword, trafficSource.adContent, trafficSource.adwordsClickInfo.campaignId, trafficSource.adwordsClickInfo.adGroupId, trafficSource.adwordsClickInfo.creativeId, \n",
    "    trafficSource.adwordsClickInfo.criteriaId, trafficSource.adwordsClickInfo.page, trafficSource.adwordsClickInfo.slot, \n",
    "    trafficSource.adwordsClickInfo.criteriaParameters, trafficSource.adwordsClickInfo.gclId, trafficSource.adwordsClickInfo.customerId, \n",
    "    trafficSource.adwordsClickInfo.adNetworkType, trafficSource.adwordsClickInfo.targetingCriteria.boomUserlistId, \n",
    "    trafficSource.adwordsClickInfo.isVideoAd, trafficSource.isTrueDirect, trafficSource.campaignCode, \n",
    "    device.browser, device.browserVersion, device.browserSize, device.operatingSystem, device.operatingSystemVersion, device.isMobile, \n",
    "    device.mobileDeviceBranding, device.mobileDeviceModel, device.mobileInputSelector, device.mobileDeviceInfo, device.mobileDeviceMarketingName, \n",
    "    device.flashVersion, device.javaEnabled, device.language, device.screenColors, device.screenResolution, device.deviceCategory, \n",
    "    geoNetwork.continent, geoNetwork.subContinent, geoNetwork.country, geoNetwork.region, geoNetwork.metro, geoNetwork.city, geoNetwork.cityId, \n",
    "    geoNetwork.networkDomain, geoNetwork.latitude, geoNetwork.longitude, geoNetwork.networkLocation, \n",
    "    customDimensions[SAFE_OFFSET(0)].index, customDimensions[SAFE_OFFSET(0)].value,\n",
    "    hits[SAFE_OFFSET(0)].hitNumber, hits[SAFE_OFFSET(0)].time, hits[SAFE_OFFSET(0)].hour, hits[SAFE_OFFSET(0)].minute, \n",
    "    hits[SAFE_OFFSET(0)].isSecure, hits[SAFE_OFFSET(0)].isInteraction, hits[SAFE_OFFSET(0)].isEntrance, hits[SAFE_OFFSET(0)].isExit, \n",
    "    hits[SAFE_OFFSET(0)].referer, hits[SAFE_OFFSET(0)].page.pagePath, hits[SAFE_OFFSET(0)].page.hostname, hits[SAFE_OFFSET(0)].page.pageTitle, \n",
    "    hits[SAFE_OFFSET(0)].page.searchKeyword, hits[SAFE_OFFSET(0)].page.searchCategory, hits[SAFE_OFFSET(0)].page.pagePathLevel1, \n",
    "    hits[SAFE_OFFSET(0)].page.pagePathLevel2, hits[SAFE_OFFSET(0)].page.pagePathLevel3, hits[SAFE_OFFSET(0)].page.pagePathLevel4, \n",
    "    hits[SAFE_OFFSET(0)].transaction.transactionId, hits[SAFE_OFFSET(0)].transaction.transactionRevenue, \n",
    "    hits[SAFE_OFFSET(0)].transaction.transactionTax, hits[SAFE_OFFSET(0)].transaction.transactionShipping, \n",
    "    hits[SAFE_OFFSET(0)].transaction.affiliation, hits[SAFE_OFFSET(0)].transaction.currencyCode, \n",
    "    hits[SAFE_OFFSET(0)].transaction.localTransactionRevenue, hits[SAFE_OFFSET(0)].transaction.localTransactionTax, \n",
    "    hits[SAFE_OFFSET(0)].transaction.localTransactionShipping, hits[SAFE_OFFSET(0)].transaction.transactionCoupon, \n",
    "    hits[SAFE_OFFSET(0)].item.transactionId, hits[SAFE_OFFSET(0)].item.productName, hits[SAFE_OFFSET(0)].item.productCategory, \n",
    "    hits[SAFE_OFFSET(0)].item.productSku, hits[SAFE_OFFSET(0)].item.itemQuantity, hits[SAFE_OFFSET(0)].item.itemRevenue, \n",
    "    hits[SAFE_OFFSET(0)].item.currencyCode, hits[SAFE_OFFSET(0)].item.localItemRevenue, hits[SAFE_OFFSET(0)].contentInfo.contentDescription, \n",
    "    hits[SAFE_OFFSET(0)].appInfo.name, hits[SAFE_OFFSET(0)].appInfo.version, hits[SAFE_OFFSET(0)].appInfo.id, \n",
    "    hits[SAFE_OFFSET(0)].appInfo.installerId, hits[SAFE_OFFSET(0)].appInfo.appInstallerId, hits[SAFE_OFFSET(0)].appInfo.appName, \n",
    "    hits[SAFE_OFFSET(0)].appInfo.appVersion, hits[SAFE_OFFSET(0)].appInfo.appId, hits[SAFE_OFFSET(0)].appInfo.screenName, \n",
    "    hits[SAFE_OFFSET(0)].appInfo.landingScreenName, hits[SAFE_OFFSET(0)].appInfo.exitScreenName, hits[SAFE_OFFSET(0)].appInfo.screenDepth, \n",
    "    hits[SAFE_OFFSET(0)].exceptionInfo.description, hits[SAFE_OFFSET(0)].exceptionInfo.isFatal, hits[SAFE_OFFSET(0)].exceptionInfo.exceptions, \n",
    "    hits[SAFE_OFFSET(0)].exceptionInfo.fatalExceptions, hits[SAFE_OFFSET(0)].eventInfo.eventCategory, hits[SAFE_OFFSET(0)].eventInfo.eventAction, \n",
    "    hits[SAFE_OFFSET(0)].eventInfo.eventLabel, hits[SAFE_OFFSET(0)].eventInfo.eventValue, hits[SAFE_OFFSET(0)].product[SAFE_OFFSET(0)].productSKU, \n",
    "    hits[SAFE_OFFSET(0)].product[SAFE_OFFSET(0)].v2ProductName, hits[SAFE_OFFSET(0)].product[SAFE_OFFSET(0)].v2ProductCategory, \n",
    "    hits[SAFE_OFFSET(0)].product[SAFE_OFFSET(0)].productVariant, hits[SAFE_OFFSET(0)].product[SAFE_OFFSET(0)].productBrand, \n",
    "    hits[SAFE_OFFSET(0)].product[SAFE_OFFSET(0)].productRevenue, hits[SAFE_OFFSET(0)].product[SAFE_OFFSET(0)].localProductRevenue, \n",
    "    hits[SAFE_OFFSET(0)].product[SAFE_OFFSET(0)].productPrice, hits[SAFE_OFFSET(0)].product[SAFE_OFFSET(0)].localProductPrice, \n",
    "    hits[SAFE_OFFSET(0)].product[SAFE_OFFSET(0)].productQuantity, hits[SAFE_OFFSET(0)].product[SAFE_OFFSET(0)].productRefundAmount, \n",
    "    hits[SAFE_OFFSET(0)].product[SAFE_OFFSET(0)].localProductRefundAmount, hits[SAFE_OFFSET(0)].product[SAFE_OFFSET(0)].isImpression, \n",
    "    hits[SAFE_OFFSET(0)].product[SAFE_OFFSET(0)].isClick, hits[SAFE_OFFSET(0)].product[SAFE_OFFSET(0)].customDimensions[SAFE_OFFSET(0)].index, \n",
    "    hits[SAFE_OFFSET(0)].product[SAFE_OFFSET(0)].customDimensions[SAFE_OFFSET(0)].value, \n",
    "    hits[SAFE_OFFSET(0)].product[SAFE_OFFSET(0)].customMetrics[SAFE_OFFSET(0)].index, \n",
    "    hits[SAFE_OFFSET(0)].product[SAFE_OFFSET(0)].customMetrics[SAFE_OFFSET(0)].value, \n",
    "    hits[SAFE_OFFSET(0)].product[SAFE_OFFSET(0)].productListName, hits[SAFE_OFFSET(0)].product[SAFE_OFFSET(0)].productListPosition, \n",
    "    hits[SAFE_OFFSET(0)].product[SAFE_OFFSET(0)].productCouponCode, hits[SAFE_OFFSET(0)].promotion[SAFE_OFFSET(0)].promoId, \n",
    "    hits[SAFE_OFFSET(0)].promotion[SAFE_OFFSET(0)].promoName, hits[SAFE_OFFSET(0)].promotion[SAFE_OFFSET(0)].promoCreative, \n",
    "    hits[SAFE_OFFSET(0)].promotion[SAFE_OFFSET(0)].promoPosition, hits[SAFE_OFFSET(0)].promotionActionInfo.promoIsView, \n",
    "    hits[SAFE_OFFSET(0)].promotionActionInfo.promoIsClick, hits[SAFE_OFFSET(0)].refund.refundAmount, hits[SAFE_OFFSET(0)].refund.localRefundAmount, \n",
    "    hits[SAFE_OFFSET(0)].eCommerceAction.action_type, hits[SAFE_OFFSET(0)].eCommerceAction.step, hits[SAFE_OFFSET(0)].eCommerceAction.option, \n",
    "    hits[SAFE_OFFSET(0)].experiment[SAFE_OFFSET(0)].experimentId, hits[SAFE_OFFSET(0)].experiment[SAFE_OFFSET(0)].experimentVariant, \n",
    "    hits[SAFE_OFFSET(0)].publisher.dfpClicks, hits[SAFE_OFFSET(0)].publisher.dfpImpressions, hits[SAFE_OFFSET(0)].publisher.dfpMatchedQueries, \n",
    "    hits[SAFE_OFFSET(0)].publisher.dfpMeasurableImpressions, hits[SAFE_OFFSET(0)].publisher.dfpQueries, \n",
    "    hits[SAFE_OFFSET(0)].publisher.dfpRevenueCpm, hits[SAFE_OFFSET(0)].publisher.dfpRevenueCpc, \n",
    "    hits[SAFE_OFFSET(0)].publisher.dfpViewableImpressions, hits[SAFE_OFFSET(0)].publisher.dfpPagesViewed, \n",
    "    hits[SAFE_OFFSET(0)].publisher.adsenseBackfillDfpClicks, hits[SAFE_OFFSET(0)].publisher.adsenseBackfillDfpImpressions, \n",
    "    hits[SAFE_OFFSET(0)].publisher.adsenseBackfillDfpMatchedQueries, hits[SAFE_OFFSET(0)].publisher.adsenseBackfillDfpMeasurableImpressions, \n",
    "    hits[SAFE_OFFSET(0)].publisher.adsenseBackfillDfpQueries, hits[SAFE_OFFSET(0)].publisher.adsenseBackfillDfpRevenueCpm, \n",
    "    hits[SAFE_OFFSET(0)].publisher.adsenseBackfillDfpRevenueCpc, hits[SAFE_OFFSET(0)].publisher.adsenseBackfillDfpViewableImpressions, \n",
    "    hits[SAFE_OFFSET(0)].publisher.adsenseBackfillDfpPagesViewed, hits[SAFE_OFFSET(0)].publisher.adxBackfillDfpClicks, \n",
    "    hits[SAFE_OFFSET(0)].publisher.adxBackfillDfpImpressions, hits[SAFE_OFFSET(0)].publisher.adxBackfillDfpMatchedQueries, \n",
    "    hits[SAFE_OFFSET(0)].publisher.adxBackfillDfpMeasurableImpressions, hits[SAFE_OFFSET(0)].publisher.adxBackfillDfpQueries, \n",
    "    hits[SAFE_OFFSET(0)].publisher.adxBackfillDfpRevenueCpm, hits[SAFE_OFFSET(0)].publisher.adxBackfillDfpRevenueCpc, \n",
    "    hits[SAFE_OFFSET(0)].publisher.adxBackfillDfpViewableImpressions, hits[SAFE_OFFSET(0)].publisher.adxBackfillDfpPagesViewed, \n",
    "    hits[SAFE_OFFSET(0)].publisher.adxClicks, hits[SAFE_OFFSET(0)].publisher.adxImpressions, hits[SAFE_OFFSET(0)].publisher.adxMatchedQueries, \n",
    "    hits[SAFE_OFFSET(0)].publisher.adxMeasurableImpressions, hits[SAFE_OFFSET(0)].publisher.adxQueries, hits[SAFE_OFFSET(0)].publisher.adxRevenue, \n",
    "    hits[SAFE_OFFSET(0)].publisher.adxViewableImpressions, hits[SAFE_OFFSET(0)].publisher.adxPagesViewed, hits[SAFE_OFFSET(0)].publisher.adsViewed, \n",
    "    hits[SAFE_OFFSET(0)].publisher.adsUnitsViewed, hits[SAFE_OFFSET(0)].publisher.adsUnitsMatched, hits[SAFE_OFFSET(0)].publisher.viewableAdsViewed, \n",
    "    hits[SAFE_OFFSET(0)].publisher.measurableAdsViewed, hits[SAFE_OFFSET(0)].publisher.adsPagesViewed, hits[SAFE_OFFSET(0)].publisher.adsClicked, \n",
    "    hits[SAFE_OFFSET(0)].publisher.adsRevenue, hits[SAFE_OFFSET(0)].publisher.dfpAdGroup, hits[SAFE_OFFSET(0)].publisher.dfpAdUnits, \n",
    "    hits[SAFE_OFFSET(0)].publisher.dfpNetworkId, hits[SAFE_OFFSET(0)].customVariables[SAFE_OFFSET(0)].index, \n",
    "    hits[SAFE_OFFSET(0)].customVariables[SAFE_OFFSET(0)].customVarName, hits[SAFE_OFFSET(0)].customVariables[SAFE_OFFSET(0)].customVarValue, \n",
    "    hits[SAFE_OFFSET(0)].customDimensions[SAFE_OFFSET(0)].index, hits[SAFE_OFFSET(0)].customDimensions[SAFE_OFFSET(0)].value, \n",
    "    hits[SAFE_OFFSET(0)].customMetrics[SAFE_OFFSET(0)].index, hits[SAFE_OFFSET(0)].customMetrics[SAFE_OFFSET(0)].value, \n",
    "    hits[SAFE_OFFSET(0)].type, hits[SAFE_OFFSET(0)].social.socialInteractionNetwork, hits[SAFE_OFFSET(0)].social.socialInteractionAction, \n",
    "    hits[SAFE_OFFSET(0)].social.socialInteractions, hits[SAFE_OFFSET(0)].social.socialInteractionTarget, hits[SAFE_OFFSET(0)].social.socialNetwork, \n",
    "    hits[SAFE_OFFSET(0)].social.uniqueSocialInteractions, hits[SAFE_OFFSET(0)].social.hasSocialSourceReferral, \n",
    "    hits[SAFE_OFFSET(0)].social.socialInteractionNetworkAction, hits[SAFE_OFFSET(0)].latencyTracking.pageLoadSample, \n",
    "    hits[SAFE_OFFSET(0)].latencyTracking.pageLoadTime, hits[SAFE_OFFSET(0)].latencyTracking.pageDownloadTime, \n",
    "    hits[SAFE_OFFSET(0)].latencyTracking.redirectionTime, hits[SAFE_OFFSET(0)].latencyTracking.speedMetricsSample, \n",
    "    hits[SAFE_OFFSET(0)].latencyTracking.domainLookupTime, hits[SAFE_OFFSET(0)].latencyTracking.serverConnectionTime, \n",
    "    hits[SAFE_OFFSET(0)].latencyTracking.serverResponseTime, hits[SAFE_OFFSET(0)].latencyTracking.domLatencyMetricsSample,\n",
    "    hits[SAFE_OFFSET(0)].latencyTracking.domInteractiveTime, hits[SAFE_OFFSET(0)].latencyTracking.domContentLoadedTime, \n",
    "    hits[SAFE_OFFSET(0)].latencyTracking.userTimingValue, hits[SAFE_OFFSET(0)].latencyTracking.userTimingSample, \n",
    "    hits[SAFE_OFFSET(0)].latencyTracking.userTimingVariable, hits[SAFE_OFFSET(0)].latencyTracking.userTimingCategory, \n",
    "    hits[SAFE_OFFSET(0)].latencyTracking.userTimingLabel, hits[SAFE_OFFSET(0)].sourcePropertyInfo.sourcePropertyDisplayName, \n",
    "    hits[SAFE_OFFSET(0)].sourcePropertyInfo.sourcePropertyTrackingId, hits[SAFE_OFFSET(0)].contentGroup.contentGroup1, \n",
    "    hits[SAFE_OFFSET(0)].contentGroup.contentGroup2, hits[SAFE_OFFSET(0)].contentGroup.contentGroup3, \n",
    "    hits[SAFE_OFFSET(0)].contentGroup.contentGroup4, hits[SAFE_OFFSET(0)].contentGroup.contentGroup5, \n",
    "    hits[SAFE_OFFSET(0)].contentGroup.previousContentGroup1, hits[SAFE_OFFSET(0)].contentGroup.contentGroup2, \n",
    "    hits[SAFE_OFFSET(0)].contentGroup.contentGroup3, hits[SAFE_OFFSET(0)].contentGroup.contentGroup4, \n",
    "    hits[SAFE_OFFSET(0)].contentGroup.contentGroup5, hits[SAFE_OFFSET(0)].contentGroup.previousContentGroup1, \n",
    "    hits[SAFE_OFFSET(0)].contentGroup.previousContentGroup2, hits[SAFE_OFFSET(0)].contentGroup.previousContentGroup3, \n",
    "    hits[SAFE_OFFSET(0)].contentGroup.previousContentGroup4, hits[SAFE_OFFSET(0)].contentGroup.previousContentGroup5, \n",
    "    hits[SAFE_OFFSET(0)].contentGroup.contentGroupUniqueViews1, hits[SAFE_OFFSET(0)].contentGroup.contentGroupUniqueViews2, \n",
    "    hits[SAFE_OFFSET(0)].contentGroup.contentGroupUniqueViews3, hits[SAFE_OFFSET(0)].contentGroup.contentGroupUniqueViews4, \n",
    "    hits[SAFE_OFFSET(0)].contentGroup.contentGroupUniqueViews5, hits[SAFE_OFFSET(0)].dataSource, \n",
    "    hits[SAFE_OFFSET(0)].publisher_infos[SAFE_OFFSET(0)].dfpClicks, hits[SAFE_OFFSET(0)].publisher_infos[SAFE_OFFSET(0)].dfpImpressions, \n",
    "    hits[SAFE_OFFSET(0)].publisher_infos[SAFE_OFFSET(0)].dfpMatchedQueries, \n",
    "    hits[SAFE_OFFSET(0)].publisher_infos[SAFE_OFFSET(0)].dfpMeasurableImpressions, \n",
    "    hits[SAFE_OFFSET(0)].publisher_infos[SAFE_OFFSET(0)].dfpQueries, hits[SAFE_OFFSET(0)].publisher_infos[SAFE_OFFSET(0)].dfpRevenueCpm, \n",
    "    hits[SAFE_OFFSET(0)].publisher_infos[SAFE_OFFSET(0)].dfpRevenueCpc, hits[SAFE_OFFSET(0)].publisher_infos[SAFE_OFFSET(0)].dfpViewableImpressions, \n",
    "    hits[SAFE_OFFSET(0)].publisher_infos[SAFE_OFFSET(0)].dfpPagesViewed, \n",
    "    hits[SAFE_OFFSET(0)].publisher_infos[SAFE_OFFSET(0)].adsenseBackfillDfpClicks, \n",
    "    hits[SAFE_OFFSET(0)].publisher_infos[SAFE_OFFSET(0)].adsenseBackfillDfpImpressions, \n",
    "    hits[SAFE_OFFSET(0)].publisher_infos[SAFE_OFFSET(0)].adsenseBackfillDfpMatchedQueries, \n",
    "    hits[SAFE_OFFSET(0)].publisher_infos[SAFE_OFFSET(0)].adsenseBackfillDfpMeasurableImpressions, \n",
    "    hits[SAFE_OFFSET(0)].publisher_infos[SAFE_OFFSET(0)].adsenseBackfillDfpQueries, \n",
    "    hits[SAFE_OFFSET(0)].publisher_infos[SAFE_OFFSET(0)].adsenseBackfillDfpRevenueCpm, \n",
    "    hits[SAFE_OFFSET(0)].publisher_infos[SAFE_OFFSET(0)].adsenseBackfillDfpRevenueCpc, \n",
    "    hits[SAFE_OFFSET(0)].publisher_infos[SAFE_OFFSET(0)].adsenseBackfillDfpViewableImpressions,\n",
    "    hits[SAFE_OFFSET(0)].publisher_infos[SAFE_OFFSET(0)].adsenseBackfillDfpPagesViewed, \n",
    "    hits[SAFE_OFFSET(0)].publisher_infos[SAFE_OFFSET(0)].adxBackfillDfpClicks, \n",
    "    hits[SAFE_OFFSET(0)].publisher_infos[SAFE_OFFSET(0)].adxBackfillDfpImpressions, \n",
    "    hits[SAFE_OFFSET(0)].publisher_infos[SAFE_OFFSET(0)].adxBackfillDfpMatchedQueries, \n",
    "    hits[SAFE_OFFSET(0)].publisher_infos[SAFE_OFFSET(0)].adxBackfillDfpMeasurableImpressions, \n",
    "    hits[SAFE_OFFSET(0)].publisher_infos[SAFE_OFFSET(0)].adxBackfillDfpQueries, \n",
    "    hits[SAFE_OFFSET(0)].publisher_infos[SAFE_OFFSET(0)].adxBackfillDfpRevenueCpm, \n",
    "    hits[SAFE_OFFSET(0)].publisher_infos[SAFE_OFFSET(0)].adxBackfillDfpRevenueCpc, \n",
    "    hits[SAFE_OFFSET(0)].publisher_infos[SAFE_OFFSET(0)].adxBackfillDfpViewableImpressions, \n",
    "    hits[SAFE_OFFSET(0)].publisher_infos[SAFE_OFFSET(0)].adxBackfillDfpPagesViewed, \n",
    "    hits[SAFE_OFFSET(0)].publisher_infos[SAFE_OFFSET(0)].adxClicks, \n",
    "    hits[SAFE_OFFSET(0)].publisher_infos[SAFE_OFFSET(0)].adxImpressions, \n",
    "    hits[SAFE_OFFSET(0)].publisher_infos[SAFE_OFFSET(0)].adxMatchedQueries, \n",
    "    hits[SAFE_OFFSET(0)].publisher_infos[SAFE_OFFSET(0)].adxMeasurableImpressions, \n",
    "    hits[SAFE_OFFSET(0)].publisher_infos[SAFE_OFFSET(0)].adxQueries, \n",
    "    hits[SAFE_OFFSET(0)].publisher_infos[SAFE_OFFSET(0)].adxRevenue, \n",
    "    hits[SAFE_OFFSET(0)].publisher_infos[SAFE_OFFSET(0)].adxViewableImpressions, \n",
    "    hits[SAFE_OFFSET(0)].publisher_infos[SAFE_OFFSET(0)].adxPagesViewed, \n",
    "    hits[SAFE_OFFSET(0)].publisher_infos[SAFE_OFFSET(0)].adsViewed, \n",
    "    hits[SAFE_OFFSET(0)].publisher_infos[SAFE_OFFSET(0)].adsUnitsViewed,\n",
    "    hits[SAFE_OFFSET(0)].publisher_infos[SAFE_OFFSET(0)].adsUnitsMatched, \n",
    "    hits[SAFE_OFFSET(0)].publisher_infos[SAFE_OFFSET(0)].viewableAdsViewed, \n",
    "    hits[SAFE_OFFSET(0)].publisher_infos[SAFE_OFFSET(0)].measurableAdsViewed, \n",
    "    hits[SAFE_OFFSET(0)].publisher_infos[SAFE_OFFSET(0)].adsPagesViewed, \n",
    "    hits[SAFE_OFFSET(0)].publisher_infos[SAFE_OFFSET(0)].adsClicked, \n",
    "    hits[SAFE_OFFSET(0)].publisher_infos[SAFE_OFFSET(0)].adsRevenue, \n",
    "    hits[SAFE_OFFSET(0)].publisher_infos[SAFE_OFFSET(0)].dfpAdGroup, \n",
    "    hits[SAFE_OFFSET(0)].publisher_infos[SAFE_OFFSET(0)].dfpAdUnits, \n",
    "    hits[SAFE_OFFSET(0)].publisher_infos[SAFE_OFFSET(0)].dfpNetworkId, \n",
    "    fullVisitorId, userId, clientId, channelGrouping, socialEngagementType,\n",
    "FROM \n",
    "    matt_aml_cap_dataset.ga_sessions\n",
    "; "
   ]
  },
  {
   "cell_type": "code",
   "execution_count": 27,
   "id": "8fdb64b6",
   "metadata": {
    "tags": []
   },
   "outputs": [
    {
     "data": {
      "text/plain": [
       "(71812, 311)"
      ]
     },
     "execution_count": 27,
     "metadata": {},
     "output_type": "execute_result"
    }
   ],
   "source": [
    "# Count data rows and columns\n",
    "df.shape"
   ]
  },
  {
   "cell_type": "code",
   "execution_count": 28,
   "id": "84b52f2e",
   "metadata": {
    "tags": []
   },
   "outputs": [],
   "source": [
    "#Remove columns containing all null values\n",
    "df = df.dropna(axis=1, how='all')"
   ]
  },
  {
   "cell_type": "code",
   "execution_count": 29,
   "id": "4077cb37",
   "metadata": {
    "tags": []
   },
   "outputs": [
    {
     "name": "stdout",
     "output_type": "stream",
     "text": [
      "(71812, 139)\n"
     ]
    }
   ],
   "source": [
    "# Count again \n",
    "print(df.shape)"
   ]
  },
  {
   "cell_type": "code",
   "execution_count": 30,
   "id": "543bed04",
   "metadata": {
    "tags": []
   },
   "outputs": [
    {
     "data": {
      "text/html": [
       "<div>\n",
       "<style scoped>\n",
       "    .dataframe tbody tr th:only-of-type {\n",
       "        vertical-align: middle;\n",
       "    }\n",
       "\n",
       "    .dataframe tbody tr th {\n",
       "        vertical-align: top;\n",
       "    }\n",
       "\n",
       "    .dataframe thead th {\n",
       "        text-align: right;\n",
       "    }\n",
       "</style>\n",
       "<table border=\"1\" class=\"dataframe\">\n",
       "  <thead>\n",
       "    <tr style=\"text-align: right;\">\n",
       "      <th></th>\n",
       "      <th>visitNumber</th>\n",
       "      <th>visitId</th>\n",
       "      <th>visitStartTime</th>\n",
       "      <th>date</th>\n",
       "      <th>visits</th>\n",
       "      <th>hits</th>\n",
       "      <th>pageviews</th>\n",
       "      <th>timeOnSite</th>\n",
       "      <th>bounces</th>\n",
       "      <th>transactions</th>\n",
       "      <th>...</th>\n",
       "      <th>previousContentGroup3</th>\n",
       "      <th>previousContentGroup4</th>\n",
       "      <th>previousContentGroup5</th>\n",
       "      <th>contentGroupUniqueViews1</th>\n",
       "      <th>contentGroupUniqueViews2</th>\n",
       "      <th>contentGroupUniqueViews3</th>\n",
       "      <th>dataSource</th>\n",
       "      <th>fullVisitorId</th>\n",
       "      <th>channelGrouping</th>\n",
       "      <th>socialEngagementType</th>\n",
       "    </tr>\n",
       "  </thead>\n",
       "  <tbody>\n",
       "    <tr>\n",
       "      <th>0</th>\n",
       "      <td>3</td>\n",
       "      <td>1499561825</td>\n",
       "      <td>1499561825</td>\n",
       "      <td>20170708</td>\n",
       "      <td>1</td>\n",
       "      <td>2</td>\n",
       "      <td>2</td>\n",
       "      <td>13</td>\n",
       "      <td>&lt;NA&gt;</td>\n",
       "      <td>&lt;NA&gt;</td>\n",
       "      <td>...</td>\n",
       "      <td>(entrance)</td>\n",
       "      <td>(entrance)</td>\n",
       "      <td>(entrance)</td>\n",
       "      <td>&lt;NA&gt;</td>\n",
       "      <td>&lt;NA&gt;</td>\n",
       "      <td>&lt;NA&gt;</td>\n",
       "      <td>web</td>\n",
       "      <td>7953155863181185949</td>\n",
       "      <td>Affiliates</td>\n",
       "      <td>Not Socially Engaged</td>\n",
       "    </tr>\n",
       "    <tr>\n",
       "      <th>1</th>\n",
       "      <td>1</td>\n",
       "      <td>1499531862</td>\n",
       "      <td>1499531862</td>\n",
       "      <td>20170708</td>\n",
       "      <td>1</td>\n",
       "      <td>2</td>\n",
       "      <td>2</td>\n",
       "      <td>31</td>\n",
       "      <td>&lt;NA&gt;</td>\n",
       "      <td>&lt;NA&gt;</td>\n",
       "      <td>...</td>\n",
       "      <td>(entrance)</td>\n",
       "      <td>(entrance)</td>\n",
       "      <td>(entrance)</td>\n",
       "      <td>&lt;NA&gt;</td>\n",
       "      <td>&lt;NA&gt;</td>\n",
       "      <td>&lt;NA&gt;</td>\n",
       "      <td>web</td>\n",
       "      <td>6918414163336890991</td>\n",
       "      <td>Affiliates</td>\n",
       "      <td>Not Socially Engaged</td>\n",
       "    </tr>\n",
       "    <tr>\n",
       "      <th>2</th>\n",
       "      <td>3</td>\n",
       "      <td>1499543744</td>\n",
       "      <td>1499543744</td>\n",
       "      <td>20170708</td>\n",
       "      <td>1</td>\n",
       "      <td>2</td>\n",
       "      <td>2</td>\n",
       "      <td>7</td>\n",
       "      <td>&lt;NA&gt;</td>\n",
       "      <td>&lt;NA&gt;</td>\n",
       "      <td>...</td>\n",
       "      <td>(entrance)</td>\n",
       "      <td>(entrance)</td>\n",
       "      <td>(entrance)</td>\n",
       "      <td>&lt;NA&gt;</td>\n",
       "      <td>1</td>\n",
       "      <td>&lt;NA&gt;</td>\n",
       "      <td>web</td>\n",
       "      <td>9492900189025292669</td>\n",
       "      <td>Referral</td>\n",
       "      <td>Not Socially Engaged</td>\n",
       "    </tr>\n",
       "    <tr>\n",
       "      <th>3</th>\n",
       "      <td>1</td>\n",
       "      <td>1499554454</td>\n",
       "      <td>1499554454</td>\n",
       "      <td>20170708</td>\n",
       "      <td>1</td>\n",
       "      <td>2</td>\n",
       "      <td>2</td>\n",
       "      <td>21</td>\n",
       "      <td>&lt;NA&gt;</td>\n",
       "      <td>&lt;NA&gt;</td>\n",
       "      <td>...</td>\n",
       "      <td>(entrance)</td>\n",
       "      <td>(entrance)</td>\n",
       "      <td>(entrance)</td>\n",
       "      <td>&lt;NA&gt;</td>\n",
       "      <td>&lt;NA&gt;</td>\n",
       "      <td>&lt;NA&gt;</td>\n",
       "      <td>web</td>\n",
       "      <td>723344577810510971</td>\n",
       "      <td>Referral</td>\n",
       "      <td>Not Socially Engaged</td>\n",
       "    </tr>\n",
       "    <tr>\n",
       "      <th>4</th>\n",
       "      <td>6</td>\n",
       "      <td>1499565428</td>\n",
       "      <td>1499565428</td>\n",
       "      <td>20170708</td>\n",
       "      <td>1</td>\n",
       "      <td>2</td>\n",
       "      <td>2</td>\n",
       "      <td>13</td>\n",
       "      <td>&lt;NA&gt;</td>\n",
       "      <td>&lt;NA&gt;</td>\n",
       "      <td>...</td>\n",
       "      <td>(entrance)</td>\n",
       "      <td>(entrance)</td>\n",
       "      <td>(entrance)</td>\n",
       "      <td>&lt;NA&gt;</td>\n",
       "      <td>&lt;NA&gt;</td>\n",
       "      <td>&lt;NA&gt;</td>\n",
       "      <td>web</td>\n",
       "      <td>7614084089819514577</td>\n",
       "      <td>Referral</td>\n",
       "      <td>Not Socially Engaged</td>\n",
       "    </tr>\n",
       "  </tbody>\n",
       "</table>\n",
       "<p>5 rows × 139 columns</p>\n",
       "</div>"
      ],
      "text/plain": [
       "   visitNumber     visitId  visitStartTime      date  visits  hits  pageviews  \\\n",
       "0            3  1499561825      1499561825  20170708       1     2          2   \n",
       "1            1  1499531862      1499531862  20170708       1     2          2   \n",
       "2            3  1499543744      1499543744  20170708       1     2          2   \n",
       "3            1  1499554454      1499554454  20170708       1     2          2   \n",
       "4            6  1499565428      1499565428  20170708       1     2          2   \n",
       "\n",
       "   timeOnSite  bounces  transactions  ...  previousContentGroup3  \\\n",
       "0          13     <NA>          <NA>  ...             (entrance)   \n",
       "1          31     <NA>          <NA>  ...             (entrance)   \n",
       "2           7     <NA>          <NA>  ...             (entrance)   \n",
       "3          21     <NA>          <NA>  ...             (entrance)   \n",
       "4          13     <NA>          <NA>  ...             (entrance)   \n",
       "\n",
       "   previousContentGroup4  previousContentGroup5  contentGroupUniqueViews1  \\\n",
       "0             (entrance)             (entrance)                      <NA>   \n",
       "1             (entrance)             (entrance)                      <NA>   \n",
       "2             (entrance)             (entrance)                      <NA>   \n",
       "3             (entrance)             (entrance)                      <NA>   \n",
       "4             (entrance)             (entrance)                      <NA>   \n",
       "\n",
       "  contentGroupUniqueViews2 contentGroupUniqueViews3 dataSource  \\\n",
       "0                     <NA>                     <NA>        web   \n",
       "1                     <NA>                     <NA>        web   \n",
       "2                        1                     <NA>        web   \n",
       "3                     <NA>                     <NA>        web   \n",
       "4                     <NA>                     <NA>        web   \n",
       "\n",
       "         fullVisitorId channelGrouping  socialEngagementType  \n",
       "0  7953155863181185949      Affiliates  Not Socially Engaged  \n",
       "1  6918414163336890991      Affiliates  Not Socially Engaged  \n",
       "2  9492900189025292669        Referral  Not Socially Engaged  \n",
       "3   723344577810510971        Referral  Not Socially Engaged  \n",
       "4  7614084089819514577        Referral  Not Socially Engaged  \n",
       "\n",
       "[5 rows x 139 columns]"
      ]
     },
     "execution_count": 30,
     "metadata": {},
     "output_type": "execute_result"
    }
   ],
   "source": [
    "# Examine data content \n",
    "df.head()"
   ]
  },
  {
   "cell_type": "code",
   "execution_count": 31,
   "id": "2651d176",
   "metadata": {
    "tags": []
   },
   "outputs": [
    {
     "name": "stdout",
     "output_type": "stream",
     "text": [
      "['criteriaParameters', 'browserVersion', 'browserSize', 'operatingSystemVersion', 'mobileDeviceBranding', 'mobileDeviceModel', 'mobileInputSelector', 'mobileDeviceInfo', 'mobileDeviceMarketingName', 'flashVersion', 'language', 'screenColors', 'screenResolution', 'cityId', 'latitude', 'longitude', 'networkLocation']\n"
     ]
    }
   ],
   "source": [
    "# Get list of columns containing \"not available in demo dataset\"\n",
    "columns_with_data_not_available = df.apply(lambda x: x.eq(\"not available in demo dataset\")).all()\n",
    "columns_list_no_data = columns_with_data_not_available[columns_with_data_not_available].index.tolist()\n",
    "print(columns_list_no_data)"
   ]
  },
  {
   "cell_type": "code",
   "execution_count": 32,
   "id": "ce6ee6e9",
   "metadata": {
    "tags": []
   },
   "outputs": [],
   "source": [
    "# Drop columns containing \"not available in demo dataset\"\n",
    "df = df.drop(['criteriaParameters', 'browserVersion', 'browserSize', 'operatingSystemVersion', 'mobileDeviceBranding', 'mobileDeviceModel', \n",
    "              'mobileInputSelector', 'mobileDeviceInfo', 'mobileDeviceMarketingName', 'flashVersion', 'language', 'screenColors', \n",
    "              'screenResolution', 'cityId', 'latitude', 'longitude', 'networkLocation'], axis=1)"
   ]
  },
  {
   "cell_type": "code",
   "execution_count": 33,
   "id": "f6d967f8",
   "metadata": {
    "tags": []
   },
   "outputs": [],
   "source": [
    "# Drop features clearly occuring after \"Add to cart\" based on Scema Documentation \n",
    "df = df.drop(['totalTransactionRevenue','transactionRevenue','transactions','option','step', 'currencyCode', 'currencyCode_1'], axis=1)"
   ]
  },
  {
   "cell_type": "code",
   "execution_count": 34,
   "id": "150ba6a0",
   "metadata": {
    "tags": []
   },
   "outputs": [],
   "source": [
    "# Drop out of scope features based on Scema Documentation \n",
    "df = df.drop(['pageLoadSample', 'pageLoadTime', 'pageDownloadTime', 'speedMetricsSample', 'domainLookupTime', \n",
    "              'serverConnectionTime', 'serverResponseTime', 'domLatencyMetricsSample', 'domInteractiveTime', \n",
    "              'domContentLoadedTime'], axis=1)"
   ]
  },
  {
   "cell_type": "code",
   "execution_count": 35,
   "id": "f59d3cba",
   "metadata": {
    "tags": []
   },
   "outputs": [
    {
     "data": {
      "text/plain": [
       "(71812, 105)"
      ]
     },
     "execution_count": 35,
     "metadata": {},
     "output_type": "execute_result"
    }
   ],
   "source": [
    "# Count columns again\n",
    "df.shape"
   ]
  },
  {
   "cell_type": "code",
   "execution_count": 36,
   "id": "41fb3573",
   "metadata": {
    "tags": []
   },
   "outputs": [
    {
     "name": "stdout",
     "output_type": "stream",
     "text": [
      "visitNumber                           0\n",
      "visitId                               0\n",
      "visitStartTime                        0\n",
      "date                                  0\n",
      "visits                                0\n",
      "hits                                  0\n",
      "pageviews                            16\n",
      "timeOnSite                        36528\n",
      "bounces                           35404\n",
      "newVisits                         17131\n",
      "sessionQualityDim                  5989\n",
      "referralPath                      54545\n",
      "campaign                              0\n",
      "source                                0\n",
      "medium                                0\n",
      "keyword                           33682\n",
      "adContent                         71141\n",
      "page                              69812\n",
      "slot                              69812\n",
      "gclId                             69811\n",
      "adNetworkType                     69812\n",
      "isVideoAd                         69812\n",
      "isTrueDirect                      47988\n",
      "browser                               0\n",
      "operatingSystem                       0\n",
      "isMobile                              0\n",
      "deviceCategory                        0\n",
      "continent                             0\n",
      "subContinent                          0\n",
      "country                               0\n",
      "region                                0\n",
      "metro                                 0\n",
      "city                                  0\n",
      "networkDomain                         0\n",
      "index                             11227\n",
      "value                             11227\n",
      "hitNumber                             0\n",
      "time                                  0\n",
      "hour                                  0\n",
      "minute                                0\n",
      "isInteraction                         0\n",
      "isEntrance                          195\n",
      "isExit                            35263\n",
      "referer                           18581\n",
      "pagePath                              0\n",
      "hostname                              0\n",
      "pageTitle                            18\n",
      "searchKeyword                     71764\n",
      "searchCategory                    71764\n",
      "pagePathLevel1                        0\n",
      "pagePathLevel2                        0\n",
      "pagePathLevel3                        0\n",
      "pagePathLevel4                        0\n",
      "screenName                            0\n",
      "landingScreenName                     0\n",
      "exitScreenName                        0\n",
      "screenDepth                           0\n",
      "isFatal                               0\n",
      "eventCategory                     71619\n",
      "eventAction                       71619\n",
      "eventLabel                        71702\n",
      "productSKU_1                      39457\n",
      "v2ProductName                     39457\n",
      "v2ProductCategory                 39457\n",
      "productVariant                    39457\n",
      "productBrand                      39457\n",
      "productPrice                      39457\n",
      "localProductPrice                 39457\n",
      "productQuantity                   71751\n",
      "isImpression                      39745\n",
      "isClick                           71698\n",
      "productListName                   39457\n",
      "productListPosition               39457\n",
      "promoId                           52727\n",
      "promoName                         52727\n",
      "promoCreative                     52727\n",
      "promoPosition                     52727\n",
      "promoIsView                       52727\n",
      "action_type                           0\n",
      "type                                  0\n",
      "socialNetwork                         0\n",
      "hasSocialSourceReferral               0\n",
      "socialInteractionNetworkAction        0\n",
      "contentGroup1                         0\n",
      "contentGroup2                         0\n",
      "contentGroup3                         0\n",
      "contentGroup4                         0\n",
      "contentGroup5                         0\n",
      "previousContentGroup1                 0\n",
      "contentGroup2_1                       0\n",
      "contentGroup3_1                       0\n",
      "contentGroup4_1                       0\n",
      "contentGroup5_1                       0\n",
      "previousContentGroup1_1               0\n",
      "previousContentGroup2                 0\n",
      "previousContentGroup3                 0\n",
      "previousContentGroup4                 0\n",
      "previousContentGroup5                 0\n",
      "contentGroupUniqueViews1          71573\n",
      "contentGroupUniqueViews2          39267\n",
      "contentGroupUniqueViews3          71630\n",
      "dataSource                            0\n",
      "fullVisitorId                         0\n",
      "channelGrouping                       0\n",
      "socialEngagementType                  0\n",
      "dtype: int64\n"
     ]
    }
   ],
   "source": [
    "# Look at number of nulls per column\n",
    "dfNullSumPerCol = pd.isnull(df).sum()\n",
    "with pd.option_context('display.max_rows', None):\n",
    "    print(dfNullSumPerCol)"
   ]
  },
  {
   "cell_type": "code",
   "execution_count": 37,
   "id": "49ebeaff",
   "metadata": {
    "tags": []
   },
   "outputs": [
    {
     "name": "stdout",
     "output_type": "stream",
     "text": [
      "Partial-blind feature candidates:\n",
      "['visitNumber', 'visitId', 'visitStartTime', 'date', 'visits', 'hits', 'pageviews', 'timeOnSite', 'bounces', 'newVisits', 'sessionQualityDim', 'referralPath', 'campaign', 'source', 'medium', 'keyword', 'adContent', 'page', 'slot', 'gclId', 'adNetworkType', 'isVideoAd', 'isTrueDirect', 'browser', 'operatingSystem', 'isMobile', 'deviceCategory', 'continent', 'subContinent', 'country', 'region', 'metro', 'city', 'networkDomain', 'index', 'value', 'hitNumber', 'time', 'hour', 'minute', 'isInteraction', 'isEntrance', 'isExit', 'referer', 'pagePath', 'hostname', 'pageTitle', 'searchKeyword', 'searchCategory', 'pagePathLevel1', 'pagePathLevel2', 'pagePathLevel3', 'pagePathLevel4', 'screenName', 'landingScreenName', 'exitScreenName', 'screenDepth', 'isFatal', 'eventCategory', 'eventAction', 'eventLabel', 'productSKU_1', 'v2ProductName', 'v2ProductCategory', 'productVariant', 'productBrand', 'productPrice', 'localProductPrice', 'productQuantity', 'isImpression', 'isClick', 'productListName', 'productListPosition', 'promoId', 'promoName', 'promoCreative', 'promoPosition', 'promoIsView', 'action_type', 'type', 'socialNetwork', 'hasSocialSourceReferral', 'socialInteractionNetworkAction', 'contentGroup1', 'contentGroup2', 'contentGroup3', 'contentGroup4', 'contentGroup5', 'previousContentGroup1', 'contentGroup2_1', 'contentGroup3_1', 'contentGroup4_1', 'contentGroup5_1', 'previousContentGroup1_1', 'previousContentGroup2', 'previousContentGroup3', 'previousContentGroup4', 'previousContentGroup5', 'contentGroupUniqueViews1', 'contentGroupUniqueViews2', 'contentGroupUniqueViews3', 'dataSource', 'fullVisitorId', 'channelGrouping', 'socialEngagementType']\n"
     ]
    }
   ],
   "source": [
    "# Get list of remaining columns as partial-blind feature candidates. Consult schema documentation to refine candidates. \n",
    "print(\"Partial-blind feature candidates:\")\n",
    "print(list(df.keys()))"
   ]
  },
  {
   "cell_type": "code",
   "execution_count": 38,
   "id": "ae3bac4d",
   "metadata": {
    "tags": []
   },
   "outputs": [
    {
     "data": {
      "application/vnd.jupyter.widget-view+json": {
       "model_id": "9df7df0818ee44f5b2de4debc65f1bc9",
       "version_major": 2,
       "version_minor": 0
      },
      "text/plain": [
       "Query is running:   0%|          |"
      ]
     },
     "metadata": {},
     "output_type": "display_data"
    },
    {
     "data": {
      "application/vnd.jupyter.widget-view+json": {
       "model_id": "e198a4fe2d6a46498849763ddc6232a1",
       "version_major": 2,
       "version_minor": 0
      },
      "text/plain": [
       "Downloading:   0%|          |"
      ]
     },
     "metadata": {},
     "output_type": "display_data"
    }
   ],
   "source": [
    "%%bigquery df_documentation_candidates --project $PROJECT_ID \n",
    "\n",
    "#Query select candidates identified only from study of documentation. \n",
    "#Unnest \"hits\" array.\n",
    "\n",
    "SELECT \n",
    "fullVisitorId, visitNumber, visitId, date, trafficSource.referralPath, \n",
    "trafficSource.campaign, trafficSource.source, trafficSource.medium, \n",
    "trafficSource.keyword, trafficSource.adContent, trafficSource.isTrueDirect,\n",
    "trafficSource.campaignCode, totals.sessionQualityDim, h.eventInfo, h.eventInfo.eventAction, \n",
    "h.hitNumber,h.isInteraction, h.referer, h.contentInfo.contentDescription, h.eventInfo.eventCategory, \n",
    "h.eventInfo.eventAction, h.eventInfo.eventLabel, h.eventInfo.eventValue, h.promotionActionInfo.promoIsView, \n",
    "h.promotionActionInfo.promoIsClick, h.eCommerceAction.action_type, h.eCommerceAction.step, \n",
    "h.eCommerceAction.option, h.experiment[SAFE_OFFSET(0)].experimentId, \n",
    "h.experiment[SAFE_OFFSET(0)].experimentVariant, h.publisher.dfpClicks, h.publisher.dfpImpressions, \n",
    "h.customVariables[SAFE_OFFSET(0)].index, h.customVariables[SAFE_OFFSET(0)].customVarName, \n",
    "h.customVariables[SAFE_OFFSET(0)].customVarValue, h.customDimensions[SAFE_OFFSET(0)].index, \n",
    "h.customDimensions[SAFE_OFFSET(0)].value, h.type, h.social.socialInteractionNetwork, \n",
    "h.social.socialInteractionAction, h.social.socialInteractions, h.social.socialInteractionTarget, \n",
    "h.social.socialNetwork, h.social.uniqueSocialInteractions, h.social.hasSocialSourceReferral, \n",
    "h.social.socialInteractionNetworkAction, h.sourcePropertyInfo.sourcePropertyDisplayName, \n",
    "h.sourcePropertyInfo.sourcePropertyTrackingId, h.contentGroup.contentGroup1, h.contentGroup.contentGroup2, \n",
    "h.contentGroup.contentGroup3, h.contentGroup.contentGroup4, h.contentGroup.contentGroup5, \n",
    "h.contentGroup.contentGroupUniqueViews1, h.contentGroup.contentGroupUniqueViews2, \n",
    "h.contentGroup.contentGroupUniqueViews3, h.contentGroup.contentGroupUniqueViews4, \n",
    "h.contentGroup.contentGroupUniqueViews5\n",
    "FROM \n",
    "matt_aml_cap_dataset.ga_sessions,\n",
    "UNNEST(hits) AS h\n",
    ";"
   ]
  },
  {
   "cell_type": "code",
   "execution_count": 39,
   "id": "4ede10d3",
   "metadata": {
    "tags": []
   },
   "outputs": [
    {
     "name": "stdout",
     "output_type": "stream",
     "text": [
      "Documentation refined candidates:\n",
      "['fullVisitorId', 'visitNumber', 'visitId', 'date', 'referralPath', 'campaign', 'source', 'medium', 'keyword', 'adContent', 'isTrueDirect', 'campaignCode', 'sessionQualityDim', 'eventInfo', 'eventAction', 'hitNumber', 'isInteraction', 'referer', 'contentDescription', 'eventCategory', 'eventAction_1', 'eventLabel', 'eventValue', 'promoIsView', 'promoIsClick', 'action_type', 'step', 'option', 'experimentId', 'experimentVariant', 'dfpClicks', 'dfpImpressions', 'index', 'customVarName', 'customVarValue', 'index_1', 'value', 'type', 'socialInteractionNetwork', 'socialInteractionAction', 'socialInteractions', 'socialInteractionTarget', 'socialNetwork', 'uniqueSocialInteractions', 'hasSocialSourceReferral', 'socialInteractionNetworkAction', 'sourcePropertyDisplayName', 'sourcePropertyTrackingId', 'contentGroup1', 'contentGroup2', 'contentGroup3', 'contentGroup4', 'contentGroup5', 'contentGroupUniqueViews1', 'contentGroupUniqueViews2', 'contentGroupUniqueViews3', 'contentGroupUniqueViews4', 'contentGroupUniqueViews5']\n"
     ]
    }
   ],
   "source": [
    "# Get list of remaining columns as feature candidates. Consult schema documentation to refine candidates. \n",
    "print(\"Documentation refined candidates:\")\n",
    "print(list(df_documentation_candidates.keys()))"
   ]
  },
  {
   "cell_type": "code",
   "execution_count": 40,
   "id": "487c9e37",
   "metadata": {
    "tags": []
   },
   "outputs": [
    {
     "name": "stdout",
     "output_type": "stream",
     "text": [
      "Disqualified candidates:\n",
      "['campaignCode', 'eventInfo', 'contentDescription', 'eventAction_1', 'eventValue', 'promoIsClick', 'step', 'option', 'experimentId', 'experimentVariant', 'dfpClicks', 'dfpImpressions', 'customVarName', 'customVarValue', 'index_1', 'socialInteractionNetwork', 'socialInteractionAction', 'socialInteractions', 'socialInteractionTarget', 'uniqueSocialInteractions', 'sourcePropertyDisplayName', 'sourcePropertyTrackingId', 'contentGroupUniqueViews4', 'contentGroupUniqueViews5']\n"
     ]
    }
   ],
   "source": [
    "# Disqalify candidates identified from the documentation by comparing with the allowable candiates identified in the partial-blind list.\n",
    "\n",
    "partial_blind_candidates_list = ['visitNumber', 'visitId', 'visitStartTime', 'date', 'visits', 'hits', 'pageviews',\n",
    "                                 'timeOnSite', 'bounces', 'newVisits', 'sessionQualityDim', 'referralPath', 'campaign', \n",
    "                                 'source', 'medium', 'keyword', 'adContent', 'page', 'slot', 'gclId', 'adNetworkType', \n",
    "                                 'isVideoAd', 'isTrueDirect', 'browser', 'operatingSystem', 'isMobile', 'deviceCategory', \n",
    "                                 'continent', 'subContinent', 'country', 'networkDomain', 'index', 'value', 'hitNumber', \n",
    "                                 'time', 'hour', 'minute', 'isInteraction', 'isEntrance', 'isExit', 'referer', 'pagePath', \n",
    "                                 'hostname', 'pageTitle', 'searchKeyword', 'searchCategory', 'pagePathLevel1', 'pagePathLevel2', \n",
    "                                 'pagePathLevel3', 'pagePathLevel4', 'screenName', 'landingScreenName', 'exitScreenName', 'screenDepth', \n",
    "                                 'isFatal', 'eventCategory', 'eventAction', 'eventLabel', 'productSKU_1', 'v2ProductName', 'v2ProductCategory', \n",
    "                                 'productVariant', 'productBrand', 'productPrice', 'localProductPrice', 'productQuantity', 'isImpression', \n",
    "                                 'isClick', 'productListName', 'productListPosition', 'promoId', 'promoName', 'promoCreative', 'promoPosition', \n",
    "                                 'promoIsView', 'action_type', 'type', 'socialNetwork', 'hasSocialSourceReferral', \n",
    "                                 'socialInteractionNetworkAction', 'contentGroup1', 'contentGroup2', 'contentGroup3', 'contentGroup4', \n",
    "                                 'contentGroup5', 'previousContentGroup1', 'contentGroup2_1', 'contentGroup3_1', 'contentGroup4_1', \n",
    "                                 'contentGroup5_1', 'previousContentGroup1_1', 'previousContentGroup2', 'previousContentGroup3', \n",
    "                                 'previousContentGroup4', 'previousContentGroup5', 'contentGroupUniqueViews1', 'contentGroupUniqueViews2', \n",
    "                                 'contentGroupUniqueViews3', 'dataSource', 'fullVisitorId', 'channelGrouping', 'socialEngagementType']\n",
    "\n",
    "documentation_refined_candidates_list = ['fullVisitorId', 'visitNumber', 'visitId', 'date', 'referralPath', 'campaign', 'source', 'medium', \n",
    "                                         'keyword', 'adContent', 'isTrueDirect', 'campaignCode', 'sessionQualityDim', 'eventInfo', \n",
    "                                         'eventAction', 'hitNumber', 'isInteraction', 'referer', 'contentDescription', 'eventCategory', \n",
    "                                         'eventAction_1', 'eventLabel', 'eventValue', 'promoIsView', 'promoIsClick', 'action_type', 'step', \n",
    "                                         'option', 'experimentId', 'experimentVariant', 'dfpClicks', 'dfpImpressions', 'index', \n",
    "                                         'customVarName', 'customVarValue', 'index_1', 'value', 'type', 'socialInteractionNetwork', \n",
    "                                         'socialInteractionAction', 'socialInteractions', 'socialInteractionTarget', 'socialNetwork', \n",
    "                                         'uniqueSocialInteractions', 'hasSocialSourceReferral', 'socialInteractionNetworkAction', \n",
    "                                         'sourcePropertyDisplayName', 'sourcePropertyTrackingId', 'contentGroup1', 'contentGroup2', \n",
    "                                         'contentGroup3', 'contentGroup4', 'contentGroup5', 'contentGroupUniqueViews1', \n",
    "                                         'contentGroupUniqueViews2', 'contentGroupUniqueViews3', 'contentGroupUniqueViews4', \n",
    "                                         'contentGroupUniqueViews5']\n",
    "\n",
    "disqualified_candidates = []\n",
    "for element in documentation_refined_candidates_list: \n",
    "    if element not in partial_blind_candidates_list:\n",
    "        disqualified_candidates.append(element)\n",
    "\n",
    "print(\"Disqualified candidates:\")\n",
    "print(disqualified_candidates)"
   ]
  },
  {
   "cell_type": "code",
   "execution_count": 41,
   "id": "a555d6da",
   "metadata": {
    "tags": []
   },
   "outputs": [
    {
     "name": "stdout",
     "output_type": "stream",
     "text": [
      "Final feature candidates for further EDA:\n",
      "['fullVisitorId', 'visitNumber', 'visitId', 'date', 'referralPath', 'campaign', 'source', 'medium', 'keyword', 'adContent', 'isTrueDirect', 'sessionQualityDim', 'eventAction', 'hitNumber', 'isInteraction', 'referer', 'eventCategory', 'eventLabel', 'promoIsView', 'action_type', 'index', 'value', 'type', 'socialNetwork', 'hasSocialSourceReferral', 'socialInteractionNetworkAction', 'contentGroup1', 'contentGroup2', 'contentGroup3', 'contentGroup4', 'contentGroup5', 'contentGroupUniqueViews1', 'contentGroupUniqueViews2', 'contentGroupUniqueViews3']\n",
      "(324096, 34)\n"
     ]
    }
   ],
   "source": [
    "# Remove disqualified candidates from documentation refined candidates, place final feature candidates in new DataFrame.\n",
    "df_final_feature_candidates = df_documentation_candidates.drop(['campaignCode', 'eventInfo', 'contentDescription', 'eventAction_1', 'eventValue', \n",
    "                                 'promoIsClick', 'step', 'option', 'experimentId', 'experimentVariant', 'dfpClicks', \n",
    "                                 'dfpImpressions', 'customVarName', 'customVarValue', 'index_1', 'socialInteractionNetwork', \n",
    "                                 'socialInteractionAction', 'socialInteractions', 'socialInteractionTarget', 'uniqueSocialInteractions', \n",
    "                                 'sourcePropertyDisplayName', 'sourcePropertyTrackingId', 'contentGroupUniqueViews4', \n",
    "                                 'contentGroupUniqueViews5'], axis=1)\n",
    "\n",
    "print(\"Final feature candidates for further EDA:\")\n",
    "print(list(df_final_feature_candidates.keys()))\n",
    "print(df_final_feature_candidates.shape)"
   ]
  },
  {
   "cell_type": "code",
   "execution_count": 42,
   "id": "b39ebd64",
   "metadata": {
    "tags": []
   },
   "outputs": [
    {
     "name": "stdout",
     "output_type": "stream",
     "text": [
      "              fullVisitorId  visitNumber     visitId      date  \\\n",
      "0       2219384770970157334            1  1501520683  20170731   \n",
      "1       3257231109110009503            1  1501512773  20170731   \n",
      "2       1481009813315636845            1  1501559508  20170731   \n",
      "3       4042576478930992747            1  1501520907  20170731   \n",
      "4       1478324366289834997            1  1501486642  20170731   \n",
      "...                     ...          ...         ...       ...   \n",
      "324091  0707769484819212214            1  1499982367  20170713   \n",
      "324092  0707769484819212214            1  1499982367  20170713   \n",
      "324093  0707769484819212214            1  1499982367  20170713   \n",
      "324094  0707769484819212214            1  1499982367  20170713   \n",
      "324095  0707769484819212214            1  1499982367  20170713   \n",
      "\n",
      "                        referralPath   campaign       source    medium  \\\n",
      "0                               None  (not set)       google   organic   \n",
      "1                               None  (not set)       google   organic   \n",
      "2                               None  (not set)       google   organic   \n",
      "3                               None  (not set)       google   organic   \n",
      "4                               None  (not set)       google   organic   \n",
      "...                              ...        ...          ...       ...   \n",
      "324091  /intl/sr/yt/about/copyright/  (not set)  youtube.com  referral   \n",
      "324092  /intl/sr/yt/about/copyright/  (not set)  youtube.com  referral   \n",
      "324093  /intl/sr/yt/about/copyright/  (not set)  youtube.com  referral   \n",
      "324094  /intl/sr/yt/about/copyright/  (not set)  youtube.com  referral   \n",
      "324095  /intl/sr/yt/about/copyright/  (not set)  youtube.com  referral   \n",
      "\n",
      "               keyword adContent  ...  hasSocialSourceReferral  \\\n",
      "0       (not provided)      None  ...                       No   \n",
      "1       (not provided)      None  ...                       No   \n",
      "2       (not provided)      None  ...                       No   \n",
      "3       (not provided)      None  ...                       No   \n",
      "4       (not provided)      None  ...                       No   \n",
      "...                ...       ...  ...                      ...   \n",
      "324091            None      None  ...                      Yes   \n",
      "324092            None      None  ...                      Yes   \n",
      "324093            None      None  ...                      Yes   \n",
      "324094            None      None  ...                      Yes   \n",
      "324095            None      None  ...                      Yes   \n",
      "\n",
      "        socialInteractionNetworkAction contentGroup1  contentGroup2  \\\n",
      "0                                   :      (not set)           Bags   \n",
      "1                                   :      (not set)    Accessories   \n",
      "2                                   :      (not set)        Apparel   \n",
      "3                                   :      (not set)        Apparel   \n",
      "4                                   :      (not set)        Apparel   \n",
      "...                                ...           ...            ...   \n",
      "324091                              :      (not set)         Brands   \n",
      "324092                              :        YouTube         Brands   \n",
      "324093                              :      (not set)         Brands   \n",
      "324094                              :        YouTube         Brands   \n",
      "324095                              :      (not set)      (not set)   \n",
      "\n",
      "        contentGroup3 contentGroup4 contentGroup5 contentGroupUniqueViews1  \\\n",
      "0           (not set)     (not set)     (not set)                     <NA>   \n",
      "1           (not set)     (not set)     (not set)                     <NA>   \n",
      "2           (not set)     (not set)     (not set)                     <NA>   \n",
      "3           (not set)     (not set)     (not set)                     <NA>   \n",
      "4           (not set)     (not set)     (not set)                     <NA>   \n",
      "...               ...           ...           ...                      ...   \n",
      "324091      (not set)     (not set)     (not set)                     <NA>   \n",
      "324092      (not set)     (not set)     (not set)                     <NA>   \n",
      "324093      (not set)     (not set)     (not set)                     <NA>   \n",
      "324094      (not set)     (not set)     (not set)                     <NA>   \n",
      "324095      (not set)     (not set)     (not set)                     <NA>   \n",
      "\n",
      "        contentGroupUniqueViews2 contentGroupUniqueViews3  \n",
      "0                              1                     <NA>  \n",
      "1                              1                     <NA>  \n",
      "2                              1                     <NA>  \n",
      "3                              1                     <NA>  \n",
      "4                              1                     <NA>  \n",
      "...                          ...                      ...  \n",
      "324091                      <NA>                     <NA>  \n",
      "324092                      <NA>                     <NA>  \n",
      "324093                      <NA>                     <NA>  \n",
      "324094                      <NA>                     <NA>  \n",
      "324095                      <NA>                     <NA>  \n",
      "\n",
      "[324096 rows x 34 columns]\n"
     ]
    }
   ],
   "source": [
    "# Look at final feature candidates\n",
    "print(df_final_feature_candidates) "
   ]
  },
  {
   "cell_type": "code",
   "execution_count": 44,
   "id": "264969e2",
   "metadata": {
    "tags": []
   },
   "outputs": [
    {
     "data": {
      "application/vnd.jupyter.widget-view+json": {
       "model_id": "caa627a4501245a0ac0a7541bdaf1c8c",
       "version_major": 2,
       "version_minor": 0
      },
      "text/plain": [
       "Query is running:   0%|          |"
      ]
     },
     "metadata": {},
     "output_type": "display_data"
    },
    {
     "data": {
      "application/vnd.jupyter.widget-view+json": {
       "model_id": "a2a43b5fe5944b14aa923393048ad288",
       "version_major": 2,
       "version_minor": 0
      },
      "text/plain": [
       "Downloading:   0%|          |"
      ]
     },
     "metadata": {},
     "output_type": "display_data"
    }
   ],
   "source": [
    "%%bigquery df_final_feature_candidates --project $PROJECT_ID \n",
    "\n",
    "# Extract final feature candidates from BigQuery, put in DataFrame\n",
    "\n",
    "SELECT\n",
    "fullVisitorId, visitId, visitNumber,  date, totals.sessionQualityDim, trafficSource.referralPath,\n",
    "trafficSource.campaign, trafficSource.source, trafficSource.medium, trafficSource.keyword,\n",
    "trafficSource.adContent, trafficSource.isTrueDirect, h.isInteraction, h.hitNumber,  h.referer,\n",
    "h.eventInfo.eventCategory, h.eventInfo.eventLabel, h.eventInfo.eventAction, \n",
    "h.promotionActionInfo.promoIsView , h.eCommerceAction.action_type, h.customVariables[SAFE_OFFSET(0)].index,\n",
    "h.customDimensions[SAFE_OFFSET(0)].index, h.customMetrics[SAFE_OFFSET(0)].value, h.type,\n",
    "h.social.socialNetwork, h.social.hasSocialSourceReferral, h.social.socialInteractionNetworkAction,\n",
    "h.contentGroup.contentGroup1, h.contentGroup.contentGroup2, h.contentGroup.contentGroup3,\n",
    "h.contentGroup.contentGroup4, h.contentGroup.contentGroup5, h.contentGroup.contentGroupUniqueViews1,\n",
    "h.contentGroup.contentGroupUniqueViews2, h.contentGroup.contentGroupUniqueViews3 \n",
    "FROM \n",
    "matt_aml_cap_dataset.ga_sessions,\n",
    "UNNEST(hits) AS h\n",
    ";"
   ]
  },
  {
   "cell_type": "code",
   "execution_count": 45,
   "id": "5631f874",
   "metadata": {
    "tags": []
   },
   "outputs": [
    {
     "data": {
      "text/html": [
       "<div>\n",
       "<style scoped>\n",
       "    .dataframe tbody tr th:only-of-type {\n",
       "        vertical-align: middle;\n",
       "    }\n",
       "\n",
       "    .dataframe tbody tr th {\n",
       "        vertical-align: top;\n",
       "    }\n",
       "\n",
       "    .dataframe thead th {\n",
       "        text-align: right;\n",
       "    }\n",
       "</style>\n",
       "<table border=\"1\" class=\"dataframe\">\n",
       "  <thead>\n",
       "    <tr style=\"text-align: right;\">\n",
       "      <th></th>\n",
       "      <th>fullVisitorId</th>\n",
       "      <th>visitId</th>\n",
       "      <th>visitNumber</th>\n",
       "      <th>date</th>\n",
       "      <th>sessionQualityDim</th>\n",
       "      <th>referralPath</th>\n",
       "      <th>campaign</th>\n",
       "      <th>source</th>\n",
       "      <th>medium</th>\n",
       "      <th>keyword</th>\n",
       "      <th>...</th>\n",
       "      <th>hasSocialSourceReferral</th>\n",
       "      <th>socialInteractionNetworkAction</th>\n",
       "      <th>contentGroup1</th>\n",
       "      <th>contentGroup2</th>\n",
       "      <th>contentGroup3</th>\n",
       "      <th>contentGroup4</th>\n",
       "      <th>contentGroup5</th>\n",
       "      <th>contentGroupUniqueViews1</th>\n",
       "      <th>contentGroupUniqueViews2</th>\n",
       "      <th>contentGroupUniqueViews3</th>\n",
       "    </tr>\n",
       "  </thead>\n",
       "  <tbody>\n",
       "    <tr>\n",
       "      <th>0</th>\n",
       "      <td>2265977830656365501</td>\n",
       "      <td>1500821038</td>\n",
       "      <td>1</td>\n",
       "      <td>20170723</td>\n",
       "      <td>1</td>\n",
       "      <td>None</td>\n",
       "      <td>(not set)</td>\n",
       "      <td>google</td>\n",
       "      <td>organic</td>\n",
       "      <td>(not provided)</td>\n",
       "      <td>...</td>\n",
       "      <td>No</td>\n",
       "      <td>:</td>\n",
       "      <td>(not set)</td>\n",
       "      <td>(not set)</td>\n",
       "      <td>(not set)</td>\n",
       "      <td>(not set)</td>\n",
       "      <td>(not set)</td>\n",
       "      <td>&lt;NA&gt;</td>\n",
       "      <td>&lt;NA&gt;</td>\n",
       "      <td>&lt;NA&gt;</td>\n",
       "    </tr>\n",
       "    <tr>\n",
       "      <th>1</th>\n",
       "      <td>6474095028710839893</td>\n",
       "      <td>1500875167</td>\n",
       "      <td>2</td>\n",
       "      <td>20170723</td>\n",
       "      <td>1</td>\n",
       "      <td>None</td>\n",
       "      <td>(not set)</td>\n",
       "      <td>google</td>\n",
       "      <td>organic</td>\n",
       "      <td>(not provided)</td>\n",
       "      <td>...</td>\n",
       "      <td>No</td>\n",
       "      <td>:</td>\n",
       "      <td>(not set)</td>\n",
       "      <td>Apparel</td>\n",
       "      <td>(not set)</td>\n",
       "      <td>(not set)</td>\n",
       "      <td>(not set)</td>\n",
       "      <td>&lt;NA&gt;</td>\n",
       "      <td>1</td>\n",
       "      <td>&lt;NA&gt;</td>\n",
       "    </tr>\n",
       "    <tr>\n",
       "      <th>2</th>\n",
       "      <td>6443653150131206845</td>\n",
       "      <td>1500822280</td>\n",
       "      <td>3</td>\n",
       "      <td>20170723</td>\n",
       "      <td>1</td>\n",
       "      <td>None</td>\n",
       "      <td>(not set)</td>\n",
       "      <td>google</td>\n",
       "      <td>organic</td>\n",
       "      <td>(not provided)</td>\n",
       "      <td>...</td>\n",
       "      <td>No</td>\n",
       "      <td>:</td>\n",
       "      <td>(not set)</td>\n",
       "      <td>Apparel</td>\n",
       "      <td>Womens</td>\n",
       "      <td>(not set)</td>\n",
       "      <td>(not set)</td>\n",
       "      <td>&lt;NA&gt;</td>\n",
       "      <td>1</td>\n",
       "      <td>1</td>\n",
       "    </tr>\n",
       "    <tr>\n",
       "      <th>3</th>\n",
       "      <td>9860085665958246812</td>\n",
       "      <td>1500831228</td>\n",
       "      <td>2</td>\n",
       "      <td>20170723</td>\n",
       "      <td>1</td>\n",
       "      <td>None</td>\n",
       "      <td>(not set)</td>\n",
       "      <td>google</td>\n",
       "      <td>organic</td>\n",
       "      <td>(not provided)</td>\n",
       "      <td>...</td>\n",
       "      <td>No</td>\n",
       "      <td>:</td>\n",
       "      <td>(not set)</td>\n",
       "      <td>(not set)</td>\n",
       "      <td>(not set)</td>\n",
       "      <td>(not set)</td>\n",
       "      <td>(not set)</td>\n",
       "      <td>&lt;NA&gt;</td>\n",
       "      <td>&lt;NA&gt;</td>\n",
       "      <td>&lt;NA&gt;</td>\n",
       "    </tr>\n",
       "    <tr>\n",
       "      <th>4</th>\n",
       "      <td>7700344873342427798</td>\n",
       "      <td>1500816531</td>\n",
       "      <td>4</td>\n",
       "      <td>20170723</td>\n",
       "      <td>1</td>\n",
       "      <td>None</td>\n",
       "      <td>(not set)</td>\n",
       "      <td>google</td>\n",
       "      <td>organic</td>\n",
       "      <td>(not provided)</td>\n",
       "      <td>...</td>\n",
       "      <td>No</td>\n",
       "      <td>:</td>\n",
       "      <td>(not set)</td>\n",
       "      <td>Bags</td>\n",
       "      <td>(not set)</td>\n",
       "      <td>(not set)</td>\n",
       "      <td>(not set)</td>\n",
       "      <td>&lt;NA&gt;</td>\n",
       "      <td>1</td>\n",
       "      <td>&lt;NA&gt;</td>\n",
       "    </tr>\n",
       "  </tbody>\n",
       "</table>\n",
       "<p>5 rows × 35 columns</p>\n",
       "</div>"
      ],
      "text/plain": [
       "         fullVisitorId     visitId  visitNumber      date  sessionQualityDim  \\\n",
       "0  2265977830656365501  1500821038            1  20170723                  1   \n",
       "1  6474095028710839893  1500875167            2  20170723                  1   \n",
       "2  6443653150131206845  1500822280            3  20170723                  1   \n",
       "3  9860085665958246812  1500831228            2  20170723                  1   \n",
       "4  7700344873342427798  1500816531            4  20170723                  1   \n",
       "\n",
       "  referralPath   campaign  source   medium         keyword  ...  \\\n",
       "0         None  (not set)  google  organic  (not provided)  ...   \n",
       "1         None  (not set)  google  organic  (not provided)  ...   \n",
       "2         None  (not set)  google  organic  (not provided)  ...   \n",
       "3         None  (not set)  google  organic  (not provided)  ...   \n",
       "4         None  (not set)  google  organic  (not provided)  ...   \n",
       "\n",
       "  hasSocialSourceReferral  socialInteractionNetworkAction  contentGroup1  \\\n",
       "0                      No                              :       (not set)   \n",
       "1                      No                              :       (not set)   \n",
       "2                      No                              :       (not set)   \n",
       "3                      No                              :       (not set)   \n",
       "4                      No                              :       (not set)   \n",
       "\n",
       "   contentGroup2 contentGroup3 contentGroup4 contentGroup5  \\\n",
       "0      (not set)     (not set)     (not set)     (not set)   \n",
       "1        Apparel     (not set)     (not set)     (not set)   \n",
       "2        Apparel        Womens     (not set)     (not set)   \n",
       "3      (not set)     (not set)     (not set)     (not set)   \n",
       "4           Bags     (not set)     (not set)     (not set)   \n",
       "\n",
       "  contentGroupUniqueViews1  contentGroupUniqueViews2 contentGroupUniqueViews3  \n",
       "0                     <NA>                      <NA>                     <NA>  \n",
       "1                     <NA>                         1                     <NA>  \n",
       "2                     <NA>                         1                        1  \n",
       "3                     <NA>                      <NA>                     <NA>  \n",
       "4                     <NA>                         1                     <NA>  \n",
       "\n",
       "[5 rows x 35 columns]"
      ]
     },
     "execution_count": 45,
     "metadata": {},
     "output_type": "execute_result"
    }
   ],
   "source": [
    "df_final_feature_candidates.head()"
   ]
  },
  {
   "cell_type": "code",
   "execution_count": 46,
   "id": "c4437b53",
   "metadata": {
    "tags": []
   },
   "outputs": [
    {
     "data": {
      "text/plain": [
       "(324096, 35)"
      ]
     },
     "execution_count": 46,
     "metadata": {},
     "output_type": "execute_result"
    }
   ],
   "source": [
    "df_final_feature_candidates.shape"
   ]
  },
  {
   "cell_type": "code",
   "execution_count": 47,
   "id": "792c23d3",
   "metadata": {
    "tags": []
   },
   "outputs": [
    {
     "data": {
      "text/plain": [
       "fullVisitorId                      object\n",
       "visitId                             Int64\n",
       "visitNumber                         Int64\n",
       "date                               object\n",
       "sessionQualityDim                   Int64\n",
       "referralPath                       object\n",
       "campaign                           object\n",
       "source                             object\n",
       "medium                             object\n",
       "keyword                            object\n",
       "adContent                          object\n",
       "isTrueDirect                      boolean\n",
       "isInteraction                     boolean\n",
       "hitNumber                           Int64\n",
       "referer                            object\n",
       "eventCategory                      object\n",
       "eventLabel                         object\n",
       "eventAction                        object\n",
       "promoIsView                       boolean\n",
       "action_type                        object\n",
       "index                               Int64\n",
       "index_1                             Int64\n",
       "value                               Int64\n",
       "type                               object\n",
       "socialNetwork                      object\n",
       "hasSocialSourceReferral            object\n",
       "socialInteractionNetworkAction     object\n",
       "contentGroup1                      object\n",
       "contentGroup2                      object\n",
       "contentGroup3                      object\n",
       "contentGroup4                      object\n",
       "contentGroup5                      object\n",
       "contentGroupUniqueViews1            Int64\n",
       "contentGroupUniqueViews2            Int64\n",
       "contentGroupUniqueViews3            Int64\n",
       "dtype: object"
      ]
     },
     "execution_count": 47,
     "metadata": {},
     "output_type": "execute_result"
    }
   ],
   "source": [
    "df_final_feature_candidates.dtypes "
   ]
  },
  {
   "cell_type": "code",
   "execution_count": 52,
   "id": "4dc1b5b7",
   "metadata": {
    "tags": []
   },
   "outputs": [
    {
     "name": "stdout",
     "output_type": "stream",
     "text": [
      "Duplicates existing removed:\n",
      "0\n"
     ]
    }
   ],
   "source": [
    "# Remove duplicated data if occuring\n",
    "\n",
    "initial_lenght = len(df_final_feature_candidates)\n",
    "df_dups_removed = df_final_feature_candidates.drop_duplicates()\n",
    "number_removed = initial_lenght - len(df_dups_removed)\n",
    "print('Duplicates existing removed:')\n",
    "print(number_removed)"
   ]
  },
  {
   "cell_type": "code",
   "execution_count": 53,
   "id": "f8c23d92",
   "metadata": {
    "tags": []
   },
   "outputs": [],
   "source": [
    "#Impute null values for boolean, numeric, and string dtypes\n",
    "\n",
    "def fill_null_values(col):\n",
    "    if col.dtype == 'boolean':\n",
    "        col = col.fillna(False) # Fill null value with False \n",
    "        return col\n",
    "    elif pd.api.types.is_numeric_dtype(col):\n",
    "        return col.fillna(0)\n",
    "    else:\n",
    "        return col.fillna('')\n",
    "\n",
    "# Call function to impute dataframe\n",
    "df_imputed = df_final_feature_candidates.apply(fill_null_values)"
   ]
  },
  {
   "cell_type": "code",
   "execution_count": 54,
   "id": "c106b682",
   "metadata": {
    "tags": []
   },
   "outputs": [
    {
     "name": "stdout",
     "output_type": "stream",
     "text": [
      "              fullVisitorId     visitId  visitNumber      date  \\\n",
      "0       2265977830656365501  1500821038            1  20170723   \n",
      "1       6474095028710839893  1500875167            2  20170723   \n",
      "2       6443653150131206845  1500822280            3  20170723   \n",
      "3       9860085665958246812  1500831228            2  20170723   \n",
      "4       7700344873342427798  1500816531            4  20170723   \n",
      "...                     ...         ...          ...       ...   \n",
      "324091  8930278305459563871  1500660701            4  20170721   \n",
      "324092  8930278305459563871  1500660701            4  20170721   \n",
      "324093  8930278305459563871  1500660701            4  20170721   \n",
      "324094  8930278305459563871  1500660701            4  20170721   \n",
      "324095  8930278305459563871  1500660701            4  20170721   \n",
      "\n",
      "        sessionQualityDim referralPath   campaign    source   medium  \\\n",
      "0                       1               (not set)    google  organic   \n",
      "1                       1               (not set)    google  organic   \n",
      "2                       1               (not set)    google  organic   \n",
      "3                       1               (not set)    google  organic   \n",
      "4                       1               (not set)    google  organic   \n",
      "...                   ...          ...        ...       ...      ...   \n",
      "324091                 77            /  (not set)  (direct)   (none)   \n",
      "324092                 77            /  (not set)  (direct)   (none)   \n",
      "324093                 77            /  (not set)  (direct)   (none)   \n",
      "324094                 77            /  (not set)  (direct)   (none)   \n",
      "324095                 77            /  (not set)  (direct)   (none)   \n",
      "\n",
      "               keyword  ... socialInteractionNetworkAction  contentGroup1  \\\n",
      "0       (not provided)  ...                             :       (not set)   \n",
      "1       (not provided)  ...                             :       (not set)   \n",
      "2       (not provided)  ...                             :       (not set)   \n",
      "3       (not provided)  ...                             :       (not set)   \n",
      "4       (not provided)  ...                             :       (not set)   \n",
      "...                ...  ...                            ...            ...   \n",
      "324091                  ...                             :       (not set)   \n",
      "324092                  ...                             :       (not set)   \n",
      "324093                  ...                             :       (not set)   \n",
      "324094                  ...                             :       (not set)   \n",
      "324095                  ...                             :       (not set)   \n",
      "\n",
      "        contentGroup2  contentGroup3 contentGroup4 contentGroup5  \\\n",
      "0           (not set)      (not set)     (not set)     (not set)   \n",
      "1             Apparel      (not set)     (not set)     (not set)   \n",
      "2             Apparel         Womens     (not set)     (not set)   \n",
      "3           (not set)      (not set)     (not set)     (not set)   \n",
      "4                Bags      (not set)     (not set)     (not set)   \n",
      "...               ...            ...           ...           ...   \n",
      "324091      (not set)      (not set)     (not set)     (not set)   \n",
      "324092      (not set)      (not set)     (not set)     (not set)   \n",
      "324093      (not set)      (not set)     (not set)     (not set)   \n",
      "324094      (not set)      (not set)     (not set)     (not set)   \n",
      "324095      (not set)      (not set)     (not set)     (not set)   \n",
      "\n",
      "       contentGroupUniqueViews1 contentGroupUniqueViews2  \\\n",
      "0                             0                        0   \n",
      "1                             0                        1   \n",
      "2                             0                        1   \n",
      "3                             0                        0   \n",
      "4                             0                        1   \n",
      "...                         ...                      ...   \n",
      "324091                        0                        0   \n",
      "324092                        0                        0   \n",
      "324093                        0                        0   \n",
      "324094                        0                        0   \n",
      "324095                        0                        0   \n",
      "\n",
      "        contentGroupUniqueViews3 Add_to_Cart  \n",
      "0                              0           0  \n",
      "1                              0           0  \n",
      "2                              1           0  \n",
      "3                              0           0  \n",
      "4                              0           0  \n",
      "...                          ...         ...  \n",
      "324091                         0           0  \n",
      "324092                         0           0  \n",
      "324093                         0           0  \n",
      "324094                         0           0  \n",
      "324095                         0           0  \n",
      "\n",
      "[324096 rows x 36 columns]\n"
     ]
    }
   ],
   "source": [
    "# Isolate target by placing in new column, convert target to numerical \n",
    "\n",
    "df_imputed['Add_to_Cart'] = ''\n",
    "mask = df_imputed['eventAction'].str.contains('Add to Cart')\n",
    "df_imputed.loc[mask, 'Add_to_Cart'] = 'Add to Cart'\n",
    "\n",
    "df_imputed['eventAction'] = df_imputed['eventAction'].str.replace('Add to Cart', '')\n",
    "\n",
    "#Convert target to numerical\n",
    "df_imputed['Add_to_Cart'] = df_imputed['Add_to_Cart'].map({'': 0, 'Add to Cart': 1})\n",
    "\n",
    "print(df_imputed)"
   ]
  },
  {
   "cell_type": "code",
   "execution_count": 55,
   "id": "049131ee",
   "metadata": {
    "tags": []
   },
   "outputs": [],
   "source": [
    "# Train Test Split \n",
    "# Remove high cardinality columns\n",
    "\n",
    "from sklearn.model_selection import train_test_split \n",
    "\n",
    "# Remove target from X, place in y \n",
    "X = df_imputed.drop(columns='Add_to_Cart')\n",
    "y = df_imputed['Add_to_Cart']\n",
    "\n",
    "# Divide data into training and validation subsets\n",
    "X_train_full, X_valid_full, y_train, y_valid = train_test_split(X, y, train_size=0.8, test_size=0.2, random_state=3)\n",
    "\n",
    "# Select categorical object columns that contain unique values lower than 20 (lower cardinality).\n",
    "low_cardinality_categorical_cols = [cname for cname in X_train_full.columns if X_train_full[cname].nunique() < 20 and \n",
    "                        X_train_full[cname].dtype in ['object', 'boolean']]\n",
    "\n",
    "# Select numerical columns\n",
    "numerical_cols = [cname for cname in X_train_full.columns if X_train_full[cname].dtype in ['int64', 'float64']]\n",
    "\n",
    "# Keep selected columns only\n",
    "my_cols = low_cardinality_categorical_cols + numerical_cols\n",
    "X_train = X_train_full[my_cols].copy()\n",
    "X_valid = X_valid_full[my_cols].copy()"
   ]
  },
  {
   "cell_type": "code",
   "execution_count": 56,
   "id": "861f9a12",
   "metadata": {
    "tags": []
   },
   "outputs": [
    {
     "name": "stderr",
     "output_type": "stream",
     "text": [
      "/opt/conda/lib/python3.10/site-packages/sklearn/preprocessing/_encoders.py:975: FutureWarning: `sparse` was renamed to `sparse_output` in version 1.2 and will be removed in 1.4. `sparse_output` is ignored unless you leave `sparse` to its default value.\n",
      "  warnings.warn(\n",
      "/var/tmp/ipykernel_90688/889633226.py:19: FutureWarning: The behavior of array concatenation with empty entries is deprecated. In a future version, this will no longer exclude empty items when determining the result dtype. To retain the old behavior, exclude the empty entries before the concat operation.\n",
      "  OH_X_train = pd.concat([num_X_train, OH_cols_train], axis=1)\n",
      "/var/tmp/ipykernel_90688/889633226.py:20: FutureWarning: The behavior of array concatenation with empty entries is deprecated. In a future version, this will no longer exclude empty items when determining the result dtype. To retain the old behavior, exclude the empty entries before the concat operation.\n",
      "  OH_X_valid = pd.concat([num_X_valid, OH_cols_valid], axis=1)\n"
     ]
    }
   ],
   "source": [
    "# One-hot encode categorical features, combine with numerical features\n",
    "\n",
    "from sklearn.preprocessing import OneHotEncoder\n",
    "\n",
    "# Apply one-hot encoder to each column with categorical data\n",
    "OH_encoder = OneHotEncoder(handle_unknown='ignore', sparse=False) #ignore categories found in test not seen in training. Do not return a sparse matrix, but dense array. \n",
    "OH_cols_train = pd.DataFrame(OH_encoder.fit_transform(X_train[low_cardinality_categorical_cols])) # fit encoder to data, transform features into one-hot encoded format. \n",
    "OH_cols_valid = pd.DataFrame(OH_encoder.transform(X_valid[low_cardinality_categorical_cols])) # transform validation features \n",
    "\n",
    "# One-hot encoding removed index; put it back\n",
    "OH_cols_train.index = X_train.index\n",
    "OH_cols_valid.index = X_valid.index\n",
    "\n",
    "# Remove categorical columns (will replace with one-hot encoding)\n",
    "num_X_train = X_train.drop(low_cardinality_categorical_cols, axis=1)\n",
    "num_X_valid = X_valid.drop(low_cardinality_categorical_cols, axis=1)\n",
    "\n",
    "# Add one-hot encoded columns to numerical features\n",
    "OH_X_train = pd.concat([num_X_train, OH_cols_train], axis=1)\n",
    "OH_X_valid = pd.concat([num_X_valid, OH_cols_valid], axis=1)\n",
    "\n",
    "# Ensure all columns have string type\n",
    "OH_X_train.columns = num_X_train.columns.astype(str).tolist() + OH_encoder.get_feature_names_out(low_cardinality_categorical_cols).tolist()\n",
    "OH_X_valid.columns = num_X_valid.columns.astype(str).tolist() + OH_encoder.get_feature_names_out(low_cardinality_categorical_cols).tolist()\n"
   ]
  },
  {
   "cell_type": "code",
   "execution_count": 57,
   "id": "bba4c858",
   "metadata": {
    "tags": []
   },
   "outputs": [
    {
     "name": "stdout",
     "output_type": "stream",
     "text": [
      "(259276, 84)\n",
      "(64820, 84)\n",
      "Column Names List:\n",
      "['campaign_(not set)', 'campaign_AW - Accessories', 'campaign_AW - Apparel', 'campaign_AW - Dynamic Search Ads Whole Site', 'campaign_Data Share Promo', 'medium_(none)', 'medium_(not set)', 'medium_affiliate', 'medium_cpc', 'medium_cpm', 'medium_organic', 'medium_referral', 'adContent_', 'adContent_Display Ad created 3/11/14', 'adContent_Full auto ad IMAGE ONLY', 'adContent_Google Merchandise Collection', 'adContent_Google Online Store', 'adContent_Google Paraphernalia', 'adContent_Swag with Google Logos', 'adContent_{KeyWord:Google Brand Items}', 'adContent_{KeyWord:Google Branded Apparel}', 'adContent_{KeyWord:Google Branded Gear}', 'adContent_{KeyWord:Google Branded Kit}', 'adContent_{KeyWord:Google Drinkware}', \"adContent_{KeyWord:Google Men's T-Shirts}\", 'adContent_{KeyWord:Google Merchandise}', 'adContent_{KeyWord:Looking for Google Bags?}', 'adContent_{KeyWord:Want Google Stickers?}', 'isTrueDirect_0.0', 'isTrueDirect_1.0', 'isInteraction_1.0', 'eventCategory_', 'eventCategory_Contact Us', 'eventCategory_Enhanced Ecommerce', 'eventAction_', 'eventAction_Onsite Click', 'eventAction_Product Click', 'eventAction_Promotion Click', 'eventAction_Quickview Click', 'eventAction_Remove from Cart', 'promoIsView_0.0', 'promoIsView_1.0', 'action_type_0', 'action_type_1', 'action_type_2', 'action_type_3', 'action_type_4', 'action_type_5', 'action_type_6', 'type_EVENT', 'type_PAGE', 'socialNetwork_(not set)', 'socialNetwork_Facebook', 'socialNetwork_Google Groups', 'socialNetwork_Google+', 'socialNetwork_Hacker News', 'socialNetwork_Pinterest', 'socialNetwork_Pocket', 'socialNetwork_Quora', 'socialNetwork_Twitter', 'socialNetwork_VKontakte', 'socialNetwork_YouTube', 'socialNetwork_reddit', 'hasSocialSourceReferral_No', 'hasSocialSourceReferral_Yes', 'socialInteractionNetworkAction_ : ', 'contentGroup1_(not set)', 'contentGroup1_Android', 'contentGroup1_Google', 'contentGroup1_YouTube', 'contentGroup2_(not set)', 'contentGroup2_Accessories', 'contentGroup2_Apparel', 'contentGroup2_Bags', 'contentGroup2_Brands', 'contentGroup2_Drinkware', 'contentGroup2_Electronics', 'contentGroup2_Nest', 'contentGroup2_Office', 'contentGroup3_(not set)', 'contentGroup3_Mens', 'contentGroup3_Womens', 'contentGroup4_(not set)', 'contentGroup5_(not set)']\n",
      "        campaign_(not set)  campaign_AW - Accessories  campaign_AW - Apparel  \\\n",
      "44318                  1.0                        0.0                    0.0   \n",
      "53419                  1.0                        0.0                    0.0   \n",
      "315409                 1.0                        0.0                    0.0   \n",
      "139600                 1.0                        0.0                    0.0   \n",
      "2422                   1.0                        0.0                    0.0   \n",
      "\n",
      "        campaign_AW - Dynamic Search Ads Whole Site  \\\n",
      "44318                                           0.0   \n",
      "53419                                           0.0   \n",
      "315409                                          0.0   \n",
      "139600                                          0.0   \n",
      "2422                                            0.0   \n",
      "\n",
      "        campaign_Data Share Promo  medium_(none)  medium_(not set)  \\\n",
      "44318                         0.0            1.0               0.0   \n",
      "53419                         0.0            1.0               0.0   \n",
      "315409                        0.0            1.0               0.0   \n",
      "139600                        0.0            1.0               0.0   \n",
      "2422                          0.0            0.0               0.0   \n",
      "\n",
      "        medium_affiliate  medium_cpc  medium_cpm  ...  contentGroup2_Brands  \\\n",
      "44318                0.0         0.0         0.0  ...                   0.0   \n",
      "53419                0.0         0.0         0.0  ...                   0.0   \n",
      "315409               0.0         0.0         0.0  ...                   0.0   \n",
      "139600               0.0         0.0         0.0  ...                   0.0   \n",
      "2422                 0.0         0.0         0.0  ...                   0.0   \n",
      "\n",
      "        contentGroup2_Drinkware  contentGroup2_Electronics  \\\n",
      "44318                       0.0                        0.0   \n",
      "53419                       0.0                        0.0   \n",
      "315409                      0.0                        0.0   \n",
      "139600                      0.0                        0.0   \n",
      "2422                        0.0                        0.0   \n",
      "\n",
      "        contentGroup2_Nest  contentGroup2_Office  contentGroup3_(not set)  \\\n",
      "44318                  0.0                   0.0                      1.0   \n",
      "53419                  0.0                   0.0                      1.0   \n",
      "315409                 0.0                   0.0                      1.0   \n",
      "139600                 0.0                   0.0                      1.0   \n",
      "2422                   0.0                   0.0                      1.0   \n",
      "\n",
      "        contentGroup3_Mens  contentGroup3_Womens  contentGroup4_(not set)  \\\n",
      "44318                  0.0                   0.0                      1.0   \n",
      "53419                  0.0                   0.0                      1.0   \n",
      "315409                 0.0                   0.0                      1.0   \n",
      "139600                 0.0                   0.0                      1.0   \n",
      "2422                   0.0                   0.0                      1.0   \n",
      "\n",
      "        contentGroup5_(not set)  \n",
      "44318                       1.0  \n",
      "53419                       1.0  \n",
      "315409                      1.0  \n",
      "139600                      1.0  \n",
      "2422                        1.0  \n",
      "\n",
      "[5 rows x 84 columns]\n"
     ]
    }
   ],
   "source": [
    "# Look at new one-hot encoded columns and size of new rows and columns\n",
    "\n",
    "print(OH_X_train.shape)\n",
    "print(OH_X_valid.shape)\n",
    "\n",
    "print('Column Names List:')\n",
    "print(list(OH_X_train.keys()))\n",
    "print(OH_X_train.head())"
   ]
  },
  {
   "cell_type": "code",
   "execution_count": 58,
   "id": "a2e4e582",
   "metadata": {
    "tags": []
   },
   "outputs": [],
   "source": [
    "# Remove noisy, irrelevant, and target-leak features. \n",
    "\n",
    "OH_X_train = OH_X_train.drop(['eventAction_Remove from Cart', 'action_type_0', 'action_type_2', \n",
    "                              'action_type_3', 'action_type_4', 'action_type_5', 'action_type_6',\n",
    "                             ], axis=1)\n",
    "\n",
    "OH_X_valid = OH_X_valid.drop(['eventAction_Remove from Cart', 'action_type_0', 'action_type_2', \n",
    "                              'action_type_3', 'action_type_4', 'action_type_5', 'action_type_6',\n",
    "                             ], axis=1)"
   ]
  },
  {
   "cell_type": "code",
   "execution_count": 66,
   "id": "b82e0e60",
   "metadata": {
    "tags": []
   },
   "outputs": [
    {
     "name": "stdout",
     "output_type": "stream",
     "text": [
      "Linear correlation with 'Add to Cart' (minimum correlation threshold 0.02)\n"
     ]
    },
    {
     "data": {
      "image/png": "[encoded data removed]",
      "text/plain": [
       "<Figure size 640x480 with 2 Axes>"
      ]
     },
     "metadata": {},
     "output_type": "display_data"
    }
   ],
   "source": [
    "# Find the linear correlation of features with target\n",
    "import seaborn as sns\n",
    "\n",
    "correlated_X_y_train = pd.concat([OH_X_train, y_train], axis=1)\n",
    "\n",
    "correlation_matrix = correlated_X_y_train.corr()\n",
    "\n",
    "# Sort correlation by absolute correlation with target\n",
    "sorted_correlation_matrix = correlation_matrix.abs().sort_values(by=y_train.name, ascending=False)\n",
    "\n",
    "# Specify correlation threshold\n",
    "threshold = 0.02\n",
    "\n",
    "# Extract correlated features above the threshold\n",
    "top_correlation_features = sorted_correlation_matrix[sorted_correlation_matrix[y_train.name] > threshold].index\n",
    "\n",
    "print(\"Linear correlation with 'Add to Cart' (minimum correlation threshold 0.02)\")\n",
    "# Create the heatmap including the target variable\n",
    "heatmap = sns.heatmap(correlation_matrix.loc[top_correlation_features, top_correlation_features[:1:]], vmin=-1, vmax=1, annot=True, cmap='OrRd')"
   ]
  },
  {
   "cell_type": "code",
   "execution_count": 68,
   "id": "da39eb85",
   "metadata": {
    "tags": []
   },
   "outputs": [
    {
     "name": "stdout",
     "output_type": "stream",
     "text": [
      "Features correlated above 0.02 with Add to Cart:\n",
      "Index(['Add_to_Cart', 'eventCategory_Enhanced Ecommerce', 'eventCategory_',\n",
      "       'type_EVENT', 'type_PAGE', 'contentGroup2_Apparel',\n",
      "       'contentGroup2_(not set)', 'promoIsView_0.0', 'promoIsView_1.0',\n",
      "       'contentGroup3_Womens', 'contentGroup3_(not set)', 'eventAction_',\n",
      "       'action_type_1', 'eventAction_Quickview Click', 'medium_(none)',\n",
      "       'isTrueDirect_1.0', 'isTrueDirect_0.0', 'contentGroup2_Office',\n",
      "       'eventAction_Product Click', 'medium_organic', 'socialNetwork_YouTube',\n",
      "       'contentGroup2_Brands', 'hasSocialSourceReferral_Yes',\n",
      "       'hasSocialSourceReferral_No', 'socialNetwork_(not set)',\n",
      "       'contentGroup2_Drinkware', 'medium_referral', 'contentGroup1_(not set)',\n",
      "       'contentGroup1_YouTube'],\n",
      "      dtype='object')\n"
     ]
    }
   ],
   "source": [
    "print(\"Features correlated above 0.02 with Add to Cart:\")\n",
    "print(top_correlation_features)"
   ]
  },
  {
   "cell_type": "code",
   "execution_count": 70,
   "id": "9cd846b9",
   "metadata": {
    "tags": []
   },
   "outputs": [
    {
     "name": "stdout",
     "output_type": "stream",
     "text": [
      "Mutual Information Scores Above Zero\n",
      "eventCategory_                                  0.070816\n",
      "type_PAGE                                       0.070520\n",
      "eventCategory_Enhanced Ecommerce                0.070171\n",
      "type_EVENT                                      0.065945\n",
      "contentGroup2_Apparel                           0.010228\n",
      "promoIsView_0.0                                 0.008277\n",
      "contentGroup2_(not set)                         0.006921\n",
      "promoIsView_1.0                                 0.006644\n",
      "action_type_1                                   0.006507\n",
      "adContent_{KeyWord:Google Men's T-Shirts}       0.006342\n",
      "socialNetwork_Pinterest                         0.004409\n",
      "contentGroup3_Womens                            0.004404\n",
      "eventAction_Quickview Click                     0.003809\n",
      "eventAction_                                    0.003273\n",
      "eventAction_Product Click                       0.003185\n",
      "eventAction_Promotion Click                     0.003079\n",
      "medium_organic                                  0.002687\n",
      "isTrueDirect_1.0                                0.002652\n",
      "socialNetwork_Google+                           0.002119\n",
      "adContent_{KeyWord:Google Branded Apparel}      0.001828\n",
      "socialNetwork_Facebook                          0.001785\n",
      "adContent_Display Ad created 3/11/14            0.001722\n",
      "contentGroup2_Electronics                       0.001653\n",
      "hasSocialSourceReferral_Yes                     0.001610\n",
      "medium_referral                                 0.001599\n",
      "contentGroup2_Accessories                       0.001563\n",
      "socialNetwork_reddit                            0.001344\n",
      "adContent_{KeyWord:Google Brand Items}          0.001305\n",
      "socialInteractionNetworkAction_ :               0.001279\n",
      "socialNetwork_YouTube                           0.001126\n",
      "medium_cpm                                      0.001098\n",
      "hasSocialSourceReferral_No                      0.001058\n",
      "contentGroup2_Office                            0.001033\n",
      "campaign_Data Share Promo                       0.001032\n",
      "adContent_{KeyWord:Google Drinkware}            0.000974\n",
      "isInteraction_1.0                               0.000864\n",
      "medium_(none)                                   0.000831\n",
      "contentGroup2_Drinkware                         0.000800\n",
      "eventAction_Onsite Click                        0.000712\n",
      "isTrueDirect_0.0                                0.000681\n",
      "contentGroup5_(not set)                         0.000680\n",
      "adContent_Google Online Store                   0.000478\n",
      "medium_affiliate                                0.000448\n",
      "medium_(not set)                                0.000438\n",
      "contentGroup3_(not set)                         0.000382\n",
      "contentGroup2_Nest                              0.000351\n",
      "adContent_{KeyWord:Looking for Google Bags?}    0.000346\n",
      "contentGroup2_Bags                              0.000274\n",
      "adContent_{KeyWord:Google Branded Kit}          0.000165\n",
      "campaign_(not set)                              0.000145\n",
      "socialNetwork_Pocket                            0.000001\n",
      "Name: MI Scores, dtype: float64\n"
     ]
    }
   ],
   "source": [
    "# Find the Mutual Information scores of features \n",
    "from sklearn.feature_selection import mutual_info_regression\n",
    "\n",
    "# Remove target from X, place in y \n",
    "X = OH_X_train\n",
    "y = y_train\n",
    "\n",
    "# Function to calculate Mutual Information scores using mutual_info_regression\n",
    "def make_mi_scores(X, y):\n",
    "    mi_scores = mutual_info_regression(X, y) # Calculate MI scores \n",
    "    mi_scores = pd.Series(mi_scores, name=\"MI Scores\", index=X.columns) # Create pandas series with MI scores \n",
    "    mi_scores = mi_scores.sort_values(ascending=False) # Sort \n",
    "    return mi_scores\n",
    "\n",
    "# Create the MI scores\n",
    "mi_scores = make_mi_scores(X, y)\n",
    "\n",
    "#Filter out MI Scores greater than 0\n",
    "mi_scores_above_zero = mi_scores[mi_scores > 0.0]\n",
    "\n",
    "#Print MI scores\n",
    "print('Mutual Information Scores Above Zero')\n",
    "print(mi_scores_above_zero)"
   ]
  },
  {
   "cell_type": "markdown",
   "id": "93154cb2",
   "metadata": {},
   "source": [
    "#### Features Selected from Top 10 Mutual Information (MI) Scores:\n",
    "'eventCategory_Enhanced Ecommerce', 'type_PAGE' 'eventCategory_', 'type_EVENT', 'contentGroup2_(not set)', 'promoIsView_0.0', 'promoIsView_1.0', 'medium_(none)', 'action_type_1', 'eventAction_'"
   ]
  },
  {
   "cell_type": "code",
   "execution_count": 71,
   "id": "715c7e13",
   "metadata": {
    "tags": []
   },
   "outputs": [
    {
     "data": {
      "application/vnd.jupyter.widget-view+json": {
       "model_id": "6dc8094c0dcd451caa0744fc04f1ab8d",
       "version_major": 2,
       "version_minor": 0
      },
      "text/plain": [
       "Query is running:   0%|          |"
      ]
     },
     "metadata": {},
     "output_type": "display_data"
    },
    {
     "data": {
      "text/html": [
       "<div>\n",
       "<style scoped>\n",
       "    .dataframe tbody tr th:only-of-type {\n",
       "        vertical-align: middle;\n",
       "    }\n",
       "\n",
       "    .dataframe tbody tr th {\n",
       "        vertical-align: top;\n",
       "    }\n",
       "\n",
       "    .dataframe thead th {\n",
       "        text-align: right;\n",
       "    }\n",
       "</style>\n",
       "<table border=\"1\" class=\"dataframe\">\n",
       "  <thead>\n",
       "    <tr style=\"text-align: right;\">\n",
       "      <th></th>\n",
       "    </tr>\n",
       "  </thead>\n",
       "  <tbody>\n",
       "  </tbody>\n",
       "</table>\n",
       "</div>"
      ],
      "text/plain": [
       "Empty DataFrame\n",
       "Columns: []\n",
       "Index: []"
      ]
     },
     "execution_count": 71,
     "metadata": {},
     "output_type": "execute_result"
    }
   ],
   "source": [
    "%%bigquery --project $PROJECT_ID\n",
    "\n",
    "# Add selected featues to new table as one hot encoded variables \n",
    "\n",
    "CREATE OR REPLACE VIEW matt_aml_cap_dataset.ml_features_a1 AS (\n",
    "    SELECT\n",
    "        DISTINCT(CONCAT(fullVisitorId, visitId, h.hitNumber)) AS unique_id,\n",
    "        IF(h.eventInfo.eventCategory = \"Enhanced Ecommerce\", 1, 0) AS h_ec_enhanced_ecommerce,\n",
    "        IF(h.type = \"PAGE\", 1, 0) AS h_type_page,\n",
    "        IF(h.type = \"EVENT\", 1, 0) AS h_type_event,\n",
    "        IF(h.contentGroup.contentGroup2 = \"(not set)\", 1, 0) AS h_cg_content_group2_not_set,\n",
    "        IF(h.promotionActionInfo.promoIsView = TRUE, 1, 0) AS h_pai_promoIsView_1,\n",
    "        IF(h.contentGroup.contentGroup2 = \"Apparel\", 1, 0) AS h_cg_content_group2_apparel,\n",
    "        IF(h.eCommerceAction.action_type = \"1\", 1, 0) AS h_ec_action_type_1,\n",
    "        IF(h.eventInfo.eventAction = \"Add to Cart\", 1, 0) AS target\n",
    "    FROM\n",
    "        matt_aml_cap_dataset.ga_sessions,\n",
    "    UNNEST\n",
    "        (hits) AS h    \n",
    ")"
   ]
  },
  {
   "cell_type": "code",
   "execution_count": 72,
   "id": "2d26e6ad",
   "metadata": {
    "tags": []
   },
   "outputs": [],
   "source": [
    "MODEL_NAME=\"add_to_cart_xgb_a1\""
   ]
  },
  {
   "cell_type": "code",
   "execution_count": 73,
   "id": "e3d0fa7a",
   "metadata": {},
   "outputs": [
    {
     "data": {
      "application/vnd.jupyter.widget-view+json": {
       "model_id": "1527fa817234499b9dae448524eb1a2c",
       "version_major": 2,
       "version_minor": 0
      },
      "text/plain": [
       "Query is running:   0%|          |"
      ]
     },
     "metadata": {},
     "output_type": "display_data"
    },
    {
     "data": {
      "text/html": [
       "<div>\n",
       "<style scoped>\n",
       "    .dataframe tbody tr th:only-of-type {\n",
       "        vertical-align: middle;\n",
       "    }\n",
       "\n",
       "    .dataframe tbody tr th {\n",
       "        vertical-align: top;\n",
       "    }\n",
       "\n",
       "    .dataframe thead th {\n",
       "        text-align: right;\n",
       "    }\n",
       "</style>\n",
       "<table border=\"1\" class=\"dataframe\">\n",
       "  <thead>\n",
       "    <tr style=\"text-align: right;\">\n",
       "      <th></th>\n",
       "    </tr>\n",
       "  </thead>\n",
       "  <tbody>\n",
       "  </tbody>\n",
       "</table>\n",
       "</div>"
      ],
      "text/plain": [
       "Empty DataFrame\n",
       "Columns: []\n",
       "Index: []"
      ]
     },
     "execution_count": 73,
     "metadata": {},
     "output_type": "execute_result"
    }
   ],
   "source": [
    "%%bigquery --project $PROJECT_ID\n",
    "\n",
    "# Train model with selected features \n",
    "\n",
    "CREATE OR REPLACE MODEL matt_aml_cap_dataset.add_to_cart_xgb_a1\n",
    "\n",
    "OPTIONS(\n",
    "  MODEL_TYPE=\"BOOSTED_TREE_CLASSIFIER\",\n",
    "  # Declare label column.\n",
    "  INPUT_LABEL_COLS=[\"target\"],\n",
    "  # Specify custom data splitting using the `data_split` column.\n",
    "  DATA_SPLIT_METHOD=\"AUTO_SPLIT\",\n",
    "  # Enable Vertex Explainable AI aggregated feature attributions.\n",
    "  ENABLE_GLOBAL_EXPLAIN=True,\n",
    "  # Hyperparameter tuning arguments.\n",
    "  num_trials=8,\n",
    "  max_parallel_trials=4,\n",
    "  HPARAM_TUNING_OBJECTIVES=[\"roc_auc\"],\n",
    "  EARLY_STOP=True,\n",
    "  # Hyperpameter search space.\n",
    "  LEARN_RATE=HPARAM_RANGE(0.01, 0.1),\n",
    "  MAX_TREE_DEPTH=HPARAM_CANDIDATES([5,6]),\n",
    "  AUTO_CLASS_WEIGHTS = True\n",
    ") AS\n",
    "\n",
    "SELECT \n",
    "    * EXCEPT(unique_id)\n",
    "FROM \n",
    "    matt_aml_cap_dataset.ml_features_a1"
   ]
  },
  {
   "cell_type": "code",
   "execution_count": 74,
   "id": "84f82a60",
   "metadata": {},
   "outputs": [
    {
     "data": {
      "application/vnd.jupyter.widget-view+json": {
       "model_id": "c4af7b5c12c74035b33fefb745a7bd6e",
       "version_major": 2,
       "version_minor": 0
      },
      "text/plain": [
       "Query is running:   0%|          |"
      ]
     },
     "metadata": {},
     "output_type": "display_data"
    },
    {
     "data": {
      "application/vnd.jupyter.widget-view+json": {
       "model_id": "76f97453c1cb4eec8899c0eed8dd4870",
       "version_major": 2,
       "version_minor": 0
      },
      "text/plain": [
       "Downloading:   0%|          |"
      ]
     },
     "metadata": {},
     "output_type": "display_data"
    },
    {
     "data": {
      "text/html": [
       "<div>\n",
       "<style scoped>\n",
       "    .dataframe tbody tr th:only-of-type {\n",
       "        vertical-align: middle;\n",
       "    }\n",
       "\n",
       "    .dataframe tbody tr th {\n",
       "        vertical-align: top;\n",
       "    }\n",
       "\n",
       "    .dataframe thead th {\n",
       "        text-align: right;\n",
       "    }\n",
       "</style>\n",
       "<table border=\"1\" class=\"dataframe\">\n",
       "  <thead>\n",
       "    <tr style=\"text-align: right;\">\n",
       "      <th></th>\n",
       "      <th>trial_id</th>\n",
       "      <th>hyperparameters</th>\n",
       "      <th>hparam_tuning_evaluation_metrics</th>\n",
       "      <th>training_loss</th>\n",
       "      <th>eval_loss</th>\n",
       "      <th>status</th>\n",
       "      <th>error_message</th>\n",
       "      <th>is_optimal</th>\n",
       "    </tr>\n",
       "  </thead>\n",
       "  <tbody>\n",
       "    <tr>\n",
       "      <th>0</th>\n",
       "      <td>1</td>\n",
       "      <td>{'learn_rate': 0.1, 'max_tree_depth': 6}</td>\n",
       "      <td>{'roc_auc': 1.0}</td>\n",
       "      <td>0.076775</td>\n",
       "      <td>0.076711</td>\n",
       "      <td>SUCCEEDED</td>\n",
       "      <td>None</td>\n",
       "      <td>True</td>\n",
       "    </tr>\n",
       "    <tr>\n",
       "      <th>1</th>\n",
       "      <td>2</td>\n",
       "      <td>{'learn_rate': 0.0803249689834574, 'max_tree_d...</td>\n",
       "      <td>{'roc_auc': 1.0}</td>\n",
       "      <td>0.111157</td>\n",
       "      <td>0.111113</td>\n",
       "      <td>SUCCEEDED</td>\n",
       "      <td>None</td>\n",
       "      <td>True</td>\n",
       "    </tr>\n",
       "    <tr>\n",
       "      <th>2</th>\n",
       "      <td>3</td>\n",
       "      <td>{'learn_rate': 0.05872861451627739, 'max_tree_...</td>\n",
       "      <td>{'roc_auc': 1.0}</td>\n",
       "      <td>0.171813</td>\n",
       "      <td>0.171819</td>\n",
       "      <td>SUCCEEDED</td>\n",
       "      <td>None</td>\n",
       "      <td>True</td>\n",
       "    </tr>\n",
       "    <tr>\n",
       "      <th>3</th>\n",
       "      <td>4</td>\n",
       "      <td>{'learn_rate': 0.03533857523789608, 'max_tree_...</td>\n",
       "      <td>{'roc_auc': 1.0}</td>\n",
       "      <td>0.285856</td>\n",
       "      <td>0.285859</td>\n",
       "      <td>SUCCEEDED</td>\n",
       "      <td>None</td>\n",
       "      <td>True</td>\n",
       "    </tr>\n",
       "    <tr>\n",
       "      <th>4</th>\n",
       "      <td>5</td>\n",
       "      <td>{'learn_rate': 0.03355250620324208, 'max_tree_...</td>\n",
       "      <td>{'roc_auc': 1.0}</td>\n",
       "      <td>0.297697</td>\n",
       "      <td>0.297749</td>\n",
       "      <td>SUCCEEDED</td>\n",
       "      <td>None</td>\n",
       "      <td>True</td>\n",
       "    </tr>\n",
       "    <tr>\n",
       "      <th>5</th>\n",
       "      <td>6</td>\n",
       "      <td>{'learn_rate': 0.014705681049422376, 'max_tree...</td>\n",
       "      <td>{'roc_auc': 1.0}</td>\n",
       "      <td>0.467865</td>\n",
       "      <td>0.467873</td>\n",
       "      <td>SUCCEEDED</td>\n",
       "      <td>None</td>\n",
       "      <td>True</td>\n",
       "    </tr>\n",
       "    <tr>\n",
       "      <th>6</th>\n",
       "      <td>7</td>\n",
       "      <td>{'learn_rate': 0.01, 'max_tree_depth': 6}</td>\n",
       "      <td>{'roc_auc': 1.0}</td>\n",
       "      <td>0.527913</td>\n",
       "      <td>0.527954</td>\n",
       "      <td>SUCCEEDED</td>\n",
       "      <td>None</td>\n",
       "      <td>True</td>\n",
       "    </tr>\n",
       "    <tr>\n",
       "      <th>7</th>\n",
       "      <td>8</td>\n",
       "      <td>{'learn_rate': 0.0335442896896644, 'max_tree_d...</td>\n",
       "      <td>{'roc_auc': 1.0}</td>\n",
       "      <td>0.297779</td>\n",
       "      <td>0.297803</td>\n",
       "      <td>SUCCEEDED</td>\n",
       "      <td>None</td>\n",
       "      <td>True</td>\n",
       "    </tr>\n",
       "  </tbody>\n",
       "</table>\n",
       "</div>"
      ],
      "text/plain": [
       "   trial_id                                    hyperparameters  \\\n",
       "0         1           {'learn_rate': 0.1, 'max_tree_depth': 6}   \n",
       "1         2  {'learn_rate': 0.0803249689834574, 'max_tree_d...   \n",
       "2         3  {'learn_rate': 0.05872861451627739, 'max_tree_...   \n",
       "3         4  {'learn_rate': 0.03533857523789608, 'max_tree_...   \n",
       "4         5  {'learn_rate': 0.03355250620324208, 'max_tree_...   \n",
       "5         6  {'learn_rate': 0.014705681049422376, 'max_tree...   \n",
       "6         7          {'learn_rate': 0.01, 'max_tree_depth': 6}   \n",
       "7         8  {'learn_rate': 0.0335442896896644, 'max_tree_d...   \n",
       "\n",
       "  hparam_tuning_evaluation_metrics  training_loss  eval_loss     status  \\\n",
       "0                 {'roc_auc': 1.0}       0.076775   0.076711  SUCCEEDED   \n",
       "1                 {'roc_auc': 1.0}       0.111157   0.111113  SUCCEEDED   \n",
       "2                 {'roc_auc': 1.0}       0.171813   0.171819  SUCCEEDED   \n",
       "3                 {'roc_auc': 1.0}       0.285856   0.285859  SUCCEEDED   \n",
       "4                 {'roc_auc': 1.0}       0.297697   0.297749  SUCCEEDED   \n",
       "5                 {'roc_auc': 1.0}       0.467865   0.467873  SUCCEEDED   \n",
       "6                 {'roc_auc': 1.0}       0.527913   0.527954  SUCCEEDED   \n",
       "7                 {'roc_auc': 1.0}       0.297779   0.297803  SUCCEEDED   \n",
       "\n",
       "  error_message  is_optimal  \n",
       "0          None        True  \n",
       "1          None        True  \n",
       "2          None        True  \n",
       "3          None        True  \n",
       "4          None        True  \n",
       "5          None        True  \n",
       "6          None        True  \n",
       "7          None        True  "
      ]
     },
     "execution_count": 74,
     "metadata": {},
     "output_type": "execute_result"
    }
   ],
   "source": [
    "%%bigquery --project $PROJECT_ID\n",
    "\n",
    "# Get information on model trial show as dataframe \n",
    "SELECT \n",
    "    *\n",
    "FROM\n",
    "    ML.TRIAL_INFO(MODEL `matt_aml_cap_dataset.add_to_cart_xgb_a1`);"
   ]
  },
  {
   "cell_type": "code",
   "execution_count": 75,
   "id": "e452ef58",
   "metadata": {},
   "outputs": [
    {
     "data": {
      "application/vnd.jupyter.widget-view+json": {
       "model_id": "ec9b677981714ca9af11a53165b5805b",
       "version_major": 2,
       "version_minor": 0
      },
      "text/plain": [
       "Query is running:   0%|          |"
      ]
     },
     "metadata": {},
     "output_type": "display_data"
    },
    {
     "data": {
      "application/vnd.jupyter.widget-view+json": {
       "model_id": "a5780a6e8fe54203a838fcb7149ef074",
       "version_major": 2,
       "version_minor": 0
      },
      "text/plain": [
       "Downloading:   0%|          |"
      ]
     },
     "metadata": {},
     "output_type": "display_data"
    },
    {
     "data": {
      "text/html": [
       "<div>\n",
       "<style scoped>\n",
       "    .dataframe tbody tr th:only-of-type {\n",
       "        vertical-align: middle;\n",
       "    }\n",
       "\n",
       "    .dataframe tbody tr th {\n",
       "        vertical-align: top;\n",
       "    }\n",
       "\n",
       "    .dataframe thead th {\n",
       "        text-align: right;\n",
       "    }\n",
       "</style>\n",
       "<table border=\"1\" class=\"dataframe\">\n",
       "  <thead>\n",
       "    <tr style=\"text-align: right;\">\n",
       "      <th></th>\n",
       "      <th>trial_id</th>\n",
       "      <th>precision</th>\n",
       "      <th>recall</th>\n",
       "      <th>accuracy</th>\n",
       "      <th>f1_score</th>\n",
       "      <th>log_loss</th>\n",
       "      <th>roc_auc</th>\n",
       "    </tr>\n",
       "  </thead>\n",
       "  <tbody>\n",
       "    <tr>\n",
       "      <th>0</th>\n",
       "      <td>8</td>\n",
       "      <td>0.861173</td>\n",
       "      <td>1.0</td>\n",
       "      <td>0.994219</td>\n",
       "      <td>0.925409</td>\n",
       "      <td>0.298622</td>\n",
       "      <td>1.0</td>\n",
       "    </tr>\n",
       "  </tbody>\n",
       "</table>\n",
       "</div>"
      ],
      "text/plain": [
       "   trial_id  precision  recall  accuracy  f1_score  log_loss  roc_auc\n",
       "0         8   0.861173     1.0  0.994219  0.925409  0.298622      1.0"
      ]
     },
     "execution_count": 75,
     "metadata": {},
     "output_type": "execute_result"
    }
   ],
   "source": [
    "%%bigquery --project $PROJECT_ID\n",
    "\n",
    "# Evaluate BigQuery model performance\n",
    "SELECT\n",
    "    *\n",
    "FROM\n",
    "    ML.EVALUATE(MODEL matt_aml_cap_dataset.add_to_cart_xgb_a1)\n",
    "WHERE trial_id=8;"
   ]
  },
  {
   "cell_type": "code",
   "execution_count": 76,
   "id": "9bc4bbf2",
   "metadata": {},
   "outputs": [
    {
     "data": {
      "application/vnd.jupyter.widget-view+json": {
       "model_id": "63255934a50d42d6b5277cd07c126827",
       "version_major": 2,
       "version_minor": 0
      },
      "text/plain": [
       "Query is running:   0%|          |"
      ]
     },
     "metadata": {},
     "output_type": "display_data"
    },
    {
     "data": {
      "application/vnd.jupyter.widget-view+json": {
       "model_id": "32f0c79257ce45eba8d0a84ed00a14b4",
       "version_major": 2,
       "version_minor": 0
      },
      "text/plain": [
       "Downloading:   0%|          |"
      ]
     },
     "metadata": {},
     "output_type": "display_data"
    },
    {
     "data": {
      "text/html": [
       "<div>\n",
       "<style scoped>\n",
       "    .dataframe tbody tr th:only-of-type {\n",
       "        vertical-align: middle;\n",
       "    }\n",
       "\n",
       "    .dataframe tbody tr th {\n",
       "        vertical-align: top;\n",
       "    }\n",
       "\n",
       "    .dataframe thead th {\n",
       "        text-align: right;\n",
       "    }\n",
       "</style>\n",
       "<table border=\"1\" class=\"dataframe\">\n",
       "  <thead>\n",
       "    <tr style=\"text-align: right;\">\n",
       "      <th></th>\n",
       "      <th>expected_label</th>\n",
       "      <th>predicted_0</th>\n",
       "      <th>predicted_1</th>\n",
       "    </tr>\n",
       "  </thead>\n",
       "  <tbody>\n",
       "    <tr>\n",
       "      <th>0</th>\n",
       "      <td>0</td>\n",
       "      <td>31000</td>\n",
       "      <td>187</td>\n",
       "    </tr>\n",
       "    <tr>\n",
       "      <th>1</th>\n",
       "      <td>1</td>\n",
       "      <td>0</td>\n",
       "      <td>1160</td>\n",
       "    </tr>\n",
       "  </tbody>\n",
       "</table>\n",
       "</div>"
      ],
      "text/plain": [
       "  expected_label  predicted_0  predicted_1\n",
       "0              0        31000          187\n",
       "1              1            0         1160"
      ]
     },
     "execution_count": 76,
     "metadata": {},
     "output_type": "execute_result"
    }
   ],
   "source": [
    "%%bigquery --project $PROJECT_ID\n",
    "\n",
    "# Look at Confusion Matrix\n",
    "SELECT\n",
    "    expected_label,\n",
    "    _0 AS predicted_0,\n",
    "    _1 AS predicted_1\n",
    "FROM\n",
    "    ML.CONFUSION_MATRIX(MODEL matt_aml_cap_dataset.add_to_cart_xgb_a1)\n",
    "WHERE trial_id=8; "
   ]
  },
  {
   "cell_type": "code",
   "execution_count": 77,
   "id": "629b068e",
   "metadata": {},
   "outputs": [
    {
     "data": {
      "application/vnd.jupyter.widget-view+json": {
       "model_id": "f2ff46054d9a4eb7ad7fe22229c6c27d",
       "version_major": 2,
       "version_minor": 0
      },
      "text/plain": [
       "Query is running:   0%|          |"
      ]
     },
     "metadata": {},
     "output_type": "display_data"
    },
    {
     "data": {
      "application/vnd.jupyter.widget-view+json": {
       "model_id": "902968ebbd2b4ea4bb3556fe5c2f2eb8",
       "version_major": 2,
       "version_minor": 0
      },
      "text/plain": [
       "Downloading:   0%|          |"
      ]
     },
     "metadata": {},
     "output_type": "display_data"
    }
   ],
   "source": [
    "%%bigquery df_ROC_AUC --project $PROJECT_ID\n",
    "\n",
    "# Receiver Operating Characteristic - Area Under the Curve (AUC-ROC).\n",
    "SELECT\n",
    "  *\n",
    "FROM\n",
    "  ML.ROC_CURVE(MODEL `matt_aml_cap_dataset.add_to_cart_xgb_a1`,\n",
    "    TABLE `matt_aml_cap_dataset.ml_features_a1`)"
   ]
  },
  {
   "cell_type": "code",
   "execution_count": 78,
   "id": "dafe6ff8",
   "metadata": {},
   "outputs": [
    {
     "data": {
      "text/plain": [
       "<Axes: title={'center': 'AUC-ROC curve'}, xlabel='false_positive_rate'>"
      ]
     },
     "execution_count": 78,
     "metadata": {},
     "output_type": "execute_result"
    },
    {
     "data": {
      "image/png": "[encoded data removed]",
      "text/plain": [
       "<Figure size 640x480 with 1 Axes>"
      ]
     },
     "metadata": {},
     "output_type": "display_data"
    }
   ],
   "source": [
    "df_ROC_AUC.plot(x=\"false_positive_rate\", y=\"recall\", title=\"AUC-ROC curve\")"
   ]
  },
  {
   "cell_type": "code",
   "execution_count": 79,
   "id": "a716d51a",
   "metadata": {},
   "outputs": [
    {
     "data": {
      "application/vnd.jupyter.widget-view+json": {
       "model_id": "d72cf12551f7410faf606dbb9dfe518f",
       "version_major": 2,
       "version_minor": 0
      },
      "text/plain": [
       "Query is running:   0%|          |"
      ]
     },
     "metadata": {},
     "output_type": "display_data"
    },
    {
     "data": {
      "application/vnd.jupyter.widget-view+json": {
       "model_id": "890635b7c8c6480eb9d2b91db871e8aa",
       "version_major": 2,
       "version_minor": 0
      },
      "text/plain": [
       "Downloading:   0%|          |"
      ]
     },
     "metadata": {},
     "output_type": "display_data"
    },
    {
     "data": {
      "text/html": [
       "<div>\n",
       "<style scoped>\n",
       "    .dataframe tbody tr th:only-of-type {\n",
       "        vertical-align: middle;\n",
       "    }\n",
       "\n",
       "    .dataframe tbody tr th {\n",
       "        vertical-align: top;\n",
       "    }\n",
       "\n",
       "    .dataframe thead th {\n",
       "        text-align: right;\n",
       "    }\n",
       "</style>\n",
       "<table border=\"1\" class=\"dataframe\">\n",
       "  <thead>\n",
       "    <tr style=\"text-align: right;\">\n",
       "      <th></th>\n",
       "      <th>trial_id</th>\n",
       "      <th>feature</th>\n",
       "      <th>attribution</th>\n",
       "    </tr>\n",
       "  </thead>\n",
       "  <tbody>\n",
       "    <tr>\n",
       "      <th>0</th>\n",
       "      <td>1</td>\n",
       "      <td>h_ec_enhanced_ecommerce</td>\n",
       "      <td>1.264831</td>\n",
       "    </tr>\n",
       "    <tr>\n",
       "      <th>1</th>\n",
       "      <td>1</td>\n",
       "      <td>h_ec_action_type_1</td>\n",
       "      <td>0.283578</td>\n",
       "    </tr>\n",
       "    <tr>\n",
       "      <th>2</th>\n",
       "      <td>1</td>\n",
       "      <td>h_cg_content_group2_not_set</td>\n",
       "      <td>0.037461</td>\n",
       "    </tr>\n",
       "    <tr>\n",
       "      <th>3</th>\n",
       "      <td>1</td>\n",
       "      <td>h_type_page</td>\n",
       "      <td>0.000000</td>\n",
       "    </tr>\n",
       "    <tr>\n",
       "      <th>4</th>\n",
       "      <td>1</td>\n",
       "      <td>h_type_event</td>\n",
       "      <td>0.000000</td>\n",
       "    </tr>\n",
       "    <tr>\n",
       "      <th>5</th>\n",
       "      <td>1</td>\n",
       "      <td>h_pai_promoIsView_1</td>\n",
       "      <td>0.000000</td>\n",
       "    </tr>\n",
       "    <tr>\n",
       "      <th>6</th>\n",
       "      <td>1</td>\n",
       "      <td>h_cg_content_group2_apparel</td>\n",
       "      <td>0.000000</td>\n",
       "    </tr>\n",
       "  </tbody>\n",
       "</table>\n",
       "</div>"
      ],
      "text/plain": [
       "   trial_id                      feature  attribution\n",
       "0         1      h_ec_enhanced_ecommerce     1.264831\n",
       "1         1           h_ec_action_type_1     0.283578\n",
       "2         1  h_cg_content_group2_not_set     0.037461\n",
       "3         1                  h_type_page     0.000000\n",
       "4         1                 h_type_event     0.000000\n",
       "5         1          h_pai_promoIsView_1     0.000000\n",
       "6         1  h_cg_content_group2_apparel     0.000000"
      ]
     },
     "execution_count": 79,
     "metadata": {},
     "output_type": "execute_result"
    }
   ],
   "source": [
    "%%bigquery --project $PROJECT_ID\n",
    "\n",
    "# Explain how each feature contributed to model's performance \n",
    "SELECT\n",
    "  *\n",
    "FROM\n",
    "  ML.GLOBAL_EXPLAIN(MODEL matt_aml_cap_dataset.add_to_cart_xgb_a1)\n",
    "ORDER BY\n",
    "  attribution DESC;"
   ]
  },
  {
   "cell_type": "markdown",
   "id": "52997a4c",
   "metadata": {},
   "source": [
    "#### Decision made to scrap current approach due to poor model results.\n",
    "\n",
    "#### New Approach: Select small set of features based on documentation. Work with features only in BigQuery to get model running to acceptable level. Adjust features and tune model as neccessary if time allows. "
   ]
  },
  {
   "cell_type": "code",
   "execution_count": 84,
   "id": "25e0c732-2288-475f-a541-90cf98deec38",
   "metadata": {},
   "outputs": [
    {
     "data": {
      "application/vnd.jupyter.widget-view+json": {
       "model_id": "8c920d31792142349d6fbfe93d9064fd",
       "version_major": 2,
       "version_minor": 0
      },
      "text/plain": [
       "Query is running:   0%|          |"
      ]
     },
     "metadata": {},
     "output_type": "display_data"
    },
    {
     "data": {
      "text/html": [
       "<div>\n",
       "<style scoped>\n",
       "    .dataframe tbody tr th:only-of-type {\n",
       "        vertical-align: middle;\n",
       "    }\n",
       "\n",
       "    .dataframe tbody tr th {\n",
       "        vertical-align: top;\n",
       "    }\n",
       "\n",
       "    .dataframe thead th {\n",
       "        text-align: right;\n",
       "    }\n",
       "</style>\n",
       "<table border=\"1\" class=\"dataframe\">\n",
       "  <thead>\n",
       "    <tr style=\"text-align: right;\">\n",
       "      <th></th>\n",
       "    </tr>\n",
       "  </thead>\n",
       "  <tbody>\n",
       "  </tbody>\n",
       "</table>\n",
       "</div>"
      ],
      "text/plain": [
       "Empty DataFrame\n",
       "Columns: []\n",
       "Index: []"
      ]
     },
     "execution_count": 84,
     "metadata": {},
     "output_type": "execute_result"
    }
   ],
   "source": [
    "%%bigquery --project $PROJECT_ID\n",
    "\n",
    "# Hasty-pick new features from documentation, split data, place in new table \n",
    "\n",
    "CREATE OR REPLACE VIEW matt_capstone_dataset.ml_features_b1 AS (\n",
    "    SELECT\n",
    "        *, \n",
    "        CASE\n",
    "            WHEN ABS(MOD(FARM_FINGERPRINT(unique_id), 10)) <= 7\n",
    "                THEN 'TRAIN'\n",
    "            WHEN ABS(MOD(FARM_FINGERPRINT(unique_id), 10)) = 8\n",
    "                THEN 'EVAL'\n",
    "            WHEN ABS(MOD(FARM_FINGERPRINT(unique_id), 10)) = 9\n",
    "                THEN 'TEST'    \n",
    "            ELSE '' \n",
    "        END AS data_split\n",
    "    FROM(\n",
    "        SELECT\n",
    "            DISTINCT(CONCAT(fullVisitorId, visitId, h.hitNumber)) AS unique_id,\n",
    "            ifnull(visitNumber,0) as visitNumber,\n",
    "            ifnull(totals.visits,0) as totalsVisits,\n",
    "            ifnull(totals.pageviews, 0) as totalsPageviews,\n",
    "            ifnull(totals.timeOnSite,0) as totalsTimeOnSite,\n",
    "            ifnull(h.type, 'Unknown') as hitsType,\n",
    "            ifnull(h.hitNumber,0) as hitsHitNumber,\n",
    "            ifnull(h.isInteraction,False) as hitIsInteraction,\n",
    "            IF(h.eventInfo.eventAction = \"Add to Cart\", 1, 0) AS target,\n",
    "        FROM\n",
    "            matt_aml_cap_dataset.ga_sessions,\n",
    "        UNNEST\n",
    "            (hits) AS h\n",
    "    )\n",
    ");"
   ]
  },
  {
   "cell_type": "code",
   "execution_count": 85,
   "id": "0e781b2e-c69b-45fa-b13d-4e9637facd2f",
   "metadata": {},
   "outputs": [
    {
     "data": {
      "application/vnd.jupyter.widget-view+json": {
       "model_id": "d12774cfc2bb46c2a9f59e8c7717fa7f",
       "version_major": 2,
       "version_minor": 0
      },
      "text/plain": [
       "Query is running:   0%|          |"
      ]
     },
     "metadata": {},
     "output_type": "display_data"
    },
    {
     "data": {
      "application/vnd.jupyter.widget-view+json": {
       "model_id": "6995698ad44545009de343abf4fa1814",
       "version_major": 2,
       "version_minor": 0
      },
      "text/plain": [
       "Downloading:   0%|          |"
      ]
     },
     "metadata": {},
     "output_type": "display_data"
    },
    {
     "data": {
      "text/html": [
       "<div>\n",
       "<style scoped>\n",
       "    .dataframe tbody tr th:only-of-type {\n",
       "        vertical-align: middle;\n",
       "    }\n",
       "\n",
       "    .dataframe tbody tr th {\n",
       "        vertical-align: top;\n",
       "    }\n",
       "\n",
       "    .dataframe thead th {\n",
       "        text-align: right;\n",
       "    }\n",
       "</style>\n",
       "<table border=\"1\" class=\"dataframe\">\n",
       "  <thead>\n",
       "    <tr style=\"text-align: right;\">\n",
       "      <th></th>\n",
       "      <th>data_split</th>\n",
       "      <th>n_examples</th>\n",
       "    </tr>\n",
       "  </thead>\n",
       "  <tbody>\n",
       "    <tr>\n",
       "      <th>0</th>\n",
       "      <td>TRAIN</td>\n",
       "      <td>259275</td>\n",
       "    </tr>\n",
       "    <tr>\n",
       "      <th>1</th>\n",
       "      <td>TEST</td>\n",
       "      <td>32467</td>\n",
       "    </tr>\n",
       "    <tr>\n",
       "      <th>2</th>\n",
       "      <td>EVAL</td>\n",
       "      <td>32354</td>\n",
       "    </tr>\n",
       "  </tbody>\n",
       "</table>\n",
       "</div>"
      ],
      "text/plain": [
       "  data_split  n_examples\n",
       "0      TRAIN      259275\n",
       "1       TEST       32467\n",
       "2       EVAL       32354"
      ]
     },
     "execution_count": 85,
     "metadata": {},
     "output_type": "execute_result"
    }
   ],
   "source": [
    "%%bigquery --project $PROJECT_ID\n",
    "\n",
    "# Check custom split\n",
    "SELECT\n",
    "  data_split,\n",
    "  COUNT(*) AS n_examples\n",
    "FROM matt_capstone_dataset.ml_features_b1\n",
    "GROUP BY data_split"
   ]
  },
  {
   "cell_type": "code",
   "execution_count": 86,
   "id": "83774951-1c75-4fa8-8890-372c93728562",
   "metadata": {},
   "outputs": [
    {
     "data": {
      "application/vnd.jupyter.widget-view+json": {
       "model_id": "06b41b4334b44151b9866a99256b1a34",
       "version_major": 2,
       "version_minor": 0
      },
      "text/plain": [
       "Query is running:   0%|          |"
      ]
     },
     "metadata": {},
     "output_type": "display_data"
    },
    {
     "data": {
      "application/vnd.jupyter.widget-view+json": {
       "model_id": "56cd9d8afdab4a7a80d62263acf6d871",
       "version_major": 2,
       "version_minor": 0
      },
      "text/plain": [
       "Downloading:   0%|          |"
      ]
     },
     "metadata": {},
     "output_type": "display_data"
    }
   ],
   "source": [
    "%%bigquery ml_features_b1 --project $PROJECT_ID\n",
    "\n",
    "# Place features into DataFrame \n",
    "\n",
    "SELECT \n",
    "    * \n",
    "FROM \n",
    "    matt_capstone_dataset.ml_features_b1"
   ]
  },
  {
   "cell_type": "code",
   "execution_count": 87,
   "id": "8ec80cee-ae53-4fba-a23b-32105c682e70",
   "metadata": {},
   "outputs": [
    {
     "data": {
      "text/plain": [
       "(324096, 10)"
      ]
     },
     "execution_count": 87,
     "metadata": {},
     "output_type": "execute_result"
    }
   ],
   "source": [
    "ml_features_b1.shape"
   ]
  },
  {
   "cell_type": "code",
   "execution_count": 88,
   "id": "34c1cced-00b4-4d58-8c5c-d79e0389f5db",
   "metadata": {},
   "outputs": [
    {
     "data": {
      "text/html": [
       "<div>\n",
       "<style scoped>\n",
       "    .dataframe tbody tr th:only-of-type {\n",
       "        vertical-align: middle;\n",
       "    }\n",
       "\n",
       "    .dataframe tbody tr th {\n",
       "        vertical-align: top;\n",
       "    }\n",
       "\n",
       "    .dataframe thead th {\n",
       "        text-align: right;\n",
       "    }\n",
       "</style>\n",
       "<table border=\"1\" class=\"dataframe\">\n",
       "  <thead>\n",
       "    <tr style=\"text-align: right;\">\n",
       "      <th></th>\n",
       "      <th>unique_id</th>\n",
       "      <th>visitNumber</th>\n",
       "      <th>totalsVisits</th>\n",
       "      <th>totalsPageviews</th>\n",
       "      <th>totalsTimeOnSite</th>\n",
       "      <th>hitsType</th>\n",
       "      <th>hitsHitNumber</th>\n",
       "      <th>hitIsInteraction</th>\n",
       "      <th>target</th>\n",
       "      <th>data_split</th>\n",
       "    </tr>\n",
       "  </thead>\n",
       "  <tbody>\n",
       "    <tr>\n",
       "      <th>0</th>\n",
       "      <td>956439242905803801814990625752</td>\n",
       "      <td>1</td>\n",
       "      <td>1</td>\n",
       "      <td>2</td>\n",
       "      <td>187</td>\n",
       "      <td>PAGE</td>\n",
       "      <td>2</td>\n",
       "      <td>True</td>\n",
       "      <td>0</td>\n",
       "      <td>EVAL</td>\n",
       "    </tr>\n",
       "    <tr>\n",
       "      <th>1</th>\n",
       "      <td>617426845352963943114990303171</td>\n",
       "      <td>1</td>\n",
       "      <td>1</td>\n",
       "      <td>2</td>\n",
       "      <td>22</td>\n",
       "      <td>PAGE</td>\n",
       "      <td>1</td>\n",
       "      <td>True</td>\n",
       "      <td>0</td>\n",
       "      <td>TRAIN</td>\n",
       "    </tr>\n",
       "    <tr>\n",
       "      <th>2</th>\n",
       "      <td>223531469017642100114990641752</td>\n",
       "      <td>1</td>\n",
       "      <td>1</td>\n",
       "      <td>2</td>\n",
       "      <td>17</td>\n",
       "      <td>PAGE</td>\n",
       "      <td>2</td>\n",
       "      <td>True</td>\n",
       "      <td>0</td>\n",
       "      <td>TRAIN</td>\n",
       "    </tr>\n",
       "    <tr>\n",
       "      <th>3</th>\n",
       "      <td>072677777706884336314990628021</td>\n",
       "      <td>1</td>\n",
       "      <td>1</td>\n",
       "      <td>2</td>\n",
       "      <td>13</td>\n",
       "      <td>PAGE</td>\n",
       "      <td>1</td>\n",
       "      <td>True</td>\n",
       "      <td>0</td>\n",
       "      <td>TEST</td>\n",
       "    </tr>\n",
       "    <tr>\n",
       "      <th>4</th>\n",
       "      <td>072677777706884336314990628022</td>\n",
       "      <td>1</td>\n",
       "      <td>1</td>\n",
       "      <td>2</td>\n",
       "      <td>13</td>\n",
       "      <td>PAGE</td>\n",
       "      <td>2</td>\n",
       "      <td>True</td>\n",
       "      <td>0</td>\n",
       "      <td>TRAIN</td>\n",
       "    </tr>\n",
       "  </tbody>\n",
       "</table>\n",
       "</div>"
      ],
      "text/plain": [
       "                        unique_id  visitNumber  totalsVisits  totalsPageviews  \\\n",
       "0  956439242905803801814990625752            1             1                2   \n",
       "1  617426845352963943114990303171            1             1                2   \n",
       "2  223531469017642100114990641752            1             1                2   \n",
       "3  072677777706884336314990628021            1             1                2   \n",
       "4  072677777706884336314990628022            1             1                2   \n",
       "\n",
       "   totalsTimeOnSite hitsType  hitsHitNumber  hitIsInteraction  target  \\\n",
       "0               187     PAGE              2              True       0   \n",
       "1                22     PAGE              1              True       0   \n",
       "2                17     PAGE              2              True       0   \n",
       "3                13     PAGE              1              True       0   \n",
       "4                13     PAGE              2              True       0   \n",
       "\n",
       "  data_split  \n",
       "0       EVAL  \n",
       "1      TRAIN  \n",
       "2      TRAIN  \n",
       "3       TEST  \n",
       "4      TRAIN  "
      ]
     },
     "execution_count": 88,
     "metadata": {},
     "output_type": "execute_result"
    }
   ],
   "source": [
    "ml_features_b1.head()"
   ]
  },
  {
   "cell_type": "code",
   "execution_count": 89,
   "id": "1c5c7c59-b633-4f28-b896-b1fb9625b8d1",
   "metadata": {},
   "outputs": [
    {
     "name": "stdout",
     "output_type": "stream",
     "text": [
      "<class 'pandas.core.frame.DataFrame'>\n",
      "RangeIndex: 324096 entries, 0 to 324095\n",
      "Data columns (total 10 columns):\n",
      " #   Column            Non-Null Count   Dtype  \n",
      "---  ------            --------------   -----  \n",
      " 0   unique_id         324096 non-null  object \n",
      " 1   visitNumber       324096 non-null  Int64  \n",
      " 2   totalsVisits      324096 non-null  Int64  \n",
      " 3   totalsPageviews   324096 non-null  Int64  \n",
      " 4   totalsTimeOnSite  324096 non-null  Int64  \n",
      " 5   hitsType          324096 non-null  object \n",
      " 6   hitsHitNumber     324096 non-null  Int64  \n",
      " 7   hitIsInteraction  324096 non-null  boolean\n",
      " 8   target            324096 non-null  Int64  \n",
      " 9   data_split        324096 non-null  object \n",
      "dtypes: Int64(6), boolean(1), object(3)\n",
      "memory usage: 24.7+ MB\n"
     ]
    }
   ],
   "source": [
    "ml_features_b1.info()"
   ]
  },
  {
   "cell_type": "code",
   "execution_count": 90,
   "id": "50c6cefb-01b5-4445-83a8-998a0df44190",
   "metadata": {},
   "outputs": [],
   "source": [
    "MODEL_NAME=\"add_to_cart_xgb_b1\""
   ]
  },
  {
   "cell_type": "code",
   "execution_count": 91,
   "id": "a3b2e851-f12f-475e-a007-0c67867c36a8",
   "metadata": {},
   "outputs": [
    {
     "data": {
      "application/vnd.jupyter.widget-view+json": {
       "model_id": "a680c6aa7f63405d8417e24fccfde156",
       "version_major": 2,
       "version_minor": 0
      },
      "text/plain": [
       "Query is running:   0%|          |"
      ]
     },
     "metadata": {},
     "output_type": "display_data"
    },
    {
     "data": {
      "text/html": [
       "<div>\n",
       "<style scoped>\n",
       "    .dataframe tbody tr th:only-of-type {\n",
       "        vertical-align: middle;\n",
       "    }\n",
       "\n",
       "    .dataframe tbody tr th {\n",
       "        vertical-align: top;\n",
       "    }\n",
       "\n",
       "    .dataframe thead th {\n",
       "        text-align: right;\n",
       "    }\n",
       "</style>\n",
       "<table border=\"1\" class=\"dataframe\">\n",
       "  <thead>\n",
       "    <tr style=\"text-align: right;\">\n",
       "      <th></th>\n",
       "    </tr>\n",
       "  </thead>\n",
       "  <tbody>\n",
       "  </tbody>\n",
       "</table>\n",
       "</div>"
      ],
      "text/plain": [
       "Empty DataFrame\n",
       "Columns: []\n",
       "Index: []"
      ]
     },
     "execution_count": 91,
     "metadata": {},
     "output_type": "execute_result"
    }
   ],
   "source": [
    "%%bigquery --project $PROJECT_ID\n",
    "\n",
    "# Train NEW model with NEW selected features \n",
    "\n",
    "CREATE OR REPLACE MODEL matt_aml_cap_dataset.add_to_cart_xgb_b1\n",
    "\n",
    "OPTIONS(\n",
    "  MODEL_TYPE=\"BOOSTED_TREE_CLASSIFIER\",\n",
    "  # Declare label column.\n",
    "  INPUT_LABEL_COLS=[\"target\"],\n",
    "  # Specify custom data splitting using the `data_split` column.\n",
    "  DATA_SPLIT_METHOD=\"CUSTOM\",\n",
    "  DATA_SPLIT_COL=\"data_split\",\n",
    "  # Enable Vertex Explainable AI aggregated feature attributions.\n",
    "  ENABLE_GLOBAL_EXPLAIN=True,\n",
    "  # Hyperparameter tuning arguments.\n",
    "  num_trials=8,\n",
    "  max_parallel_trials=4,\n",
    "  HPARAM_TUNING_OBJECTIVES=[\"roc_auc\"],\n",
    "  EARLY_STOP=True,\n",
    "  # Hyperpameter search space.\n",
    "  LEARN_RATE=HPARAM_RANGE(0.01, 0.1),\n",
    "  MAX_TREE_DEPTH=HPARAM_CANDIDATES([5,6]),\n",
    "  AUTO_CLASS_WEIGHTS = True\n",
    ") AS\n",
    "\n",
    "SELECT \n",
    "    * EXCEPT(unique_id)\n",
    "FROM \n",
    "    matt_capstone_dataset.ml_features_b1"
   ]
  },
  {
   "cell_type": "code",
   "execution_count": 92,
   "id": "6b3d7c75",
   "metadata": {},
   "outputs": [
    {
     "data": {
      "application/vnd.jupyter.widget-view+json": {
       "model_id": "62732c94cfaf4e03b4d043834806d4ad",
       "version_major": 2,
       "version_minor": 0
      },
      "text/plain": [
       "Query is running:   0%|          |"
      ]
     },
     "metadata": {},
     "output_type": "display_data"
    },
    {
     "data": {
      "application/vnd.jupyter.widget-view+json": {
       "model_id": "cc89d04d04ee4c04acd9cc94247665be",
       "version_major": 2,
       "version_minor": 0
      },
      "text/plain": [
       "Downloading:   0%|          |"
      ]
     },
     "metadata": {},
     "output_type": "display_data"
    },
    {
     "data": {
      "text/html": [
       "<div>\n",
       "<style scoped>\n",
       "    .dataframe tbody tr th:only-of-type {\n",
       "        vertical-align: middle;\n",
       "    }\n",
       "\n",
       "    .dataframe tbody tr th {\n",
       "        vertical-align: top;\n",
       "    }\n",
       "\n",
       "    .dataframe thead th {\n",
       "        text-align: right;\n",
       "    }\n",
       "</style>\n",
       "<table border=\"1\" class=\"dataframe\">\n",
       "  <thead>\n",
       "    <tr style=\"text-align: right;\">\n",
       "      <th></th>\n",
       "      <th>trial_id</th>\n",
       "      <th>hyperparameters</th>\n",
       "      <th>hparam_tuning_evaluation_metrics</th>\n",
       "      <th>training_loss</th>\n",
       "      <th>eval_loss</th>\n",
       "      <th>status</th>\n",
       "      <th>error_message</th>\n",
       "      <th>is_optimal</th>\n",
       "    </tr>\n",
       "  </thead>\n",
       "  <tbody>\n",
       "    <tr>\n",
       "      <th>0</th>\n",
       "      <td>1</td>\n",
       "      <td>{'learn_rate': 0.1, 'max_tree_depth': 6}</td>\n",
       "      <td>{'roc_auc': 0.9535124875124875}</td>\n",
       "      <td>0.228025</td>\n",
       "      <td>0.228448</td>\n",
       "      <td>SUCCEEDED</td>\n",
       "      <td>None</td>\n",
       "      <td>True</td>\n",
       "    </tr>\n",
       "    <tr>\n",
       "      <th>1</th>\n",
       "      <td>2</td>\n",
       "      <td>{'learn_rate': 0.08025234361346119, 'max_tree_...</td>\n",
       "      <td>{'roc_auc': 0.9503636363636364}</td>\n",
       "      <td>0.252698</td>\n",
       "      <td>0.251882</td>\n",
       "      <td>SUCCEEDED</td>\n",
       "      <td>None</td>\n",
       "      <td>False</td>\n",
       "    </tr>\n",
       "    <tr>\n",
       "      <th>2</th>\n",
       "      <td>3</td>\n",
       "      <td>{'learn_rate': 0.0586552746062798, 'max_tree_d...</td>\n",
       "      <td>{'roc_auc': 0.9517302697302698}</td>\n",
       "      <td>0.293167</td>\n",
       "      <td>0.292987</td>\n",
       "      <td>SUCCEEDED</td>\n",
       "      <td>None</td>\n",
       "      <td>False</td>\n",
       "    </tr>\n",
       "    <tr>\n",
       "      <th>3</th>\n",
       "      <td>4</td>\n",
       "      <td>{'learn_rate': 0.056854181083254685, 'max_tree...</td>\n",
       "      <td>{'roc_auc': 0.9495094905094905}</td>\n",
       "      <td>0.299602</td>\n",
       "      <td>0.298634</td>\n",
       "      <td>SUCCEEDED</td>\n",
       "      <td>None</td>\n",
       "      <td>False</td>\n",
       "    </tr>\n",
       "    <tr>\n",
       "      <th>4</th>\n",
       "      <td>5</td>\n",
       "      <td>{'learn_rate': 0.0999999999999857, 'max_tree_d...</td>\n",
       "      <td>{'roc_auc': 0.9508691308691308}</td>\n",
       "      <td>0.230155</td>\n",
       "      <td>0.229334</td>\n",
       "      <td>SUCCEEDED</td>\n",
       "      <td>None</td>\n",
       "      <td>False</td>\n",
       "    </tr>\n",
       "    <tr>\n",
       "      <th>5</th>\n",
       "      <td>6</td>\n",
       "      <td>{'learn_rate': 0.08489241093758355, 'max_tree_...</td>\n",
       "      <td>{'roc_auc': 0.951073926073926}</td>\n",
       "      <td>0.246350</td>\n",
       "      <td>0.245478</td>\n",
       "      <td>SUCCEEDED</td>\n",
       "      <td>None</td>\n",
       "      <td>False</td>\n",
       "    </tr>\n",
       "    <tr>\n",
       "      <th>6</th>\n",
       "      <td>7</td>\n",
       "      <td>{'learn_rate': 0.08270480160761906, 'max_tree_...</td>\n",
       "      <td>{'roc_auc': 0.9508691308691308}</td>\n",
       "      <td>0.247385</td>\n",
       "      <td>0.247264</td>\n",
       "      <td>SUCCEEDED</td>\n",
       "      <td>None</td>\n",
       "      <td>False</td>\n",
       "    </tr>\n",
       "    <tr>\n",
       "      <th>7</th>\n",
       "      <td>8</td>\n",
       "      <td>{'learn_rate': 0.1, 'max_tree_depth': 5}</td>\n",
       "      <td>{'roc_auc': 0.9508691308691308}</td>\n",
       "      <td>0.230155</td>\n",
       "      <td>0.229334</td>\n",
       "      <td>SUCCEEDED</td>\n",
       "      <td>None</td>\n",
       "      <td>False</td>\n",
       "    </tr>\n",
       "  </tbody>\n",
       "</table>\n",
       "</div>"
      ],
      "text/plain": [
       "   trial_id                                    hyperparameters  \\\n",
       "0         1           {'learn_rate': 0.1, 'max_tree_depth': 6}   \n",
       "1         2  {'learn_rate': 0.08025234361346119, 'max_tree_...   \n",
       "2         3  {'learn_rate': 0.0586552746062798, 'max_tree_d...   \n",
       "3         4  {'learn_rate': 0.056854181083254685, 'max_tree...   \n",
       "4         5  {'learn_rate': 0.0999999999999857, 'max_tree_d...   \n",
       "5         6  {'learn_rate': 0.08489241093758355, 'max_tree_...   \n",
       "6         7  {'learn_rate': 0.08270480160761906, 'max_tree_...   \n",
       "7         8           {'learn_rate': 0.1, 'max_tree_depth': 5}   \n",
       "\n",
       "  hparam_tuning_evaluation_metrics  training_loss  eval_loss     status  \\\n",
       "0  {'roc_auc': 0.9535124875124875}       0.228025   0.228448  SUCCEEDED   \n",
       "1  {'roc_auc': 0.9503636363636364}       0.252698   0.251882  SUCCEEDED   \n",
       "2  {'roc_auc': 0.9517302697302698}       0.293167   0.292987  SUCCEEDED   \n",
       "3  {'roc_auc': 0.9495094905094905}       0.299602   0.298634  SUCCEEDED   \n",
       "4  {'roc_auc': 0.9508691308691308}       0.230155   0.229334  SUCCEEDED   \n",
       "5   {'roc_auc': 0.951073926073926}       0.246350   0.245478  SUCCEEDED   \n",
       "6  {'roc_auc': 0.9508691308691308}       0.247385   0.247264  SUCCEEDED   \n",
       "7  {'roc_auc': 0.9508691308691308}       0.230155   0.229334  SUCCEEDED   \n",
       "\n",
       "  error_message  is_optimal  \n",
       "0          None        True  \n",
       "1          None       False  \n",
       "2          None       False  \n",
       "3          None       False  \n",
       "4          None       False  \n",
       "5          None       False  \n",
       "6          None       False  \n",
       "7          None       False  "
      ]
     },
     "execution_count": 92,
     "metadata": {},
     "output_type": "execute_result"
    }
   ],
   "source": [
    "%%bigquery --project $PROJECT_ID\n",
    "\n",
    "# Get information on NEW model trial show as dataframe \n",
    "SELECT \n",
    "    *\n",
    "FROM\n",
    "    ML.TRIAL_INFO(MODEL `matt_aml_cap_dataset.add_to_cart_xgb_b1`);"
   ]
  },
  {
   "cell_type": "code",
   "execution_count": 93,
   "id": "849665fa",
   "metadata": {},
   "outputs": [
    {
     "data": {
      "application/vnd.jupyter.widget-view+json": {
       "model_id": "9c0fd4d6fdf24dd4b689cf6a5a842483",
       "version_major": 2,
       "version_minor": 0
      },
      "text/plain": [
       "Query is running:   0%|          |"
      ]
     },
     "metadata": {},
     "output_type": "display_data"
    },
    {
     "data": {
      "application/vnd.jupyter.widget-view+json": {
       "model_id": "8a32602f98984603b40384f4e9e1496d",
       "version_major": 2,
       "version_minor": 0
      },
      "text/plain": [
       "Downloading:   0%|          |"
      ]
     },
     "metadata": {},
     "output_type": "display_data"
    },
    {
     "data": {
      "text/html": [
       "<div>\n",
       "<style scoped>\n",
       "    .dataframe tbody tr th:only-of-type {\n",
       "        vertical-align: middle;\n",
       "    }\n",
       "\n",
       "    .dataframe tbody tr th {\n",
       "        vertical-align: top;\n",
       "    }\n",
       "\n",
       "    .dataframe thead th {\n",
       "        text-align: right;\n",
       "    }\n",
       "</style>\n",
       "<table border=\"1\" class=\"dataframe\">\n",
       "  <thead>\n",
       "    <tr style=\"text-align: right;\">\n",
       "      <th></th>\n",
       "      <th>trial_id</th>\n",
       "      <th>precision</th>\n",
       "      <th>recall</th>\n",
       "      <th>accuracy</th>\n",
       "      <th>f1_score</th>\n",
       "      <th>log_loss</th>\n",
       "      <th>roc_auc</th>\n",
       "    </tr>\n",
       "  </thead>\n",
       "  <tbody>\n",
       "    <tr>\n",
       "      <th>0</th>\n",
       "      <td>8</td>\n",
       "      <td>0.221602</td>\n",
       "      <td>0.999132</td>\n",
       "      <td>0.875443</td>\n",
       "      <td>0.362748</td>\n",
       "      <td>0.277895</td>\n",
       "      <td>0.948758</td>\n",
       "    </tr>\n",
       "  </tbody>\n",
       "</table>\n",
       "</div>"
      ],
      "text/plain": [
       "   trial_id  precision    recall  accuracy  f1_score  log_loss   roc_auc\n",
       "0         8   0.221602  0.999132  0.875443  0.362748  0.277895  0.948758"
      ]
     },
     "execution_count": 93,
     "metadata": {},
     "output_type": "execute_result"
    }
   ],
   "source": [
    "%%bigquery --project $PROJECT_ID\n",
    "\n",
    "# Evaluate BigQuery NEW model performance\n",
    "\n",
    "SELECT\n",
    "    *\n",
    "FROM\n",
    "    ML.EVALUATE(MODEL matt_aml_cap_dataset.add_to_cart_xgb_b1)\n",
    "WHERE trial_id=8;"
   ]
  },
  {
   "cell_type": "code",
   "execution_count": 94,
   "id": "21825978",
   "metadata": {},
   "outputs": [
    {
     "data": {
      "application/vnd.jupyter.widget-view+json": {
       "model_id": "13d48a343e614afbac382d4967ed6ac3",
       "version_major": 2,
       "version_minor": 0
      },
      "text/plain": [
       "Query is running:   0%|          |"
      ]
     },
     "metadata": {},
     "output_type": "display_data"
    },
    {
     "data": {
      "application/vnd.jupyter.widget-view+json": {
       "model_id": "4d0bc015491b4d4a9a6122109f7a1ace",
       "version_major": 2,
       "version_minor": 0
      },
      "text/plain": [
       "Downloading:   0%|          |"
      ]
     },
     "metadata": {},
     "output_type": "display_data"
    },
    {
     "data": {
      "text/html": [
       "<div>\n",
       "<style scoped>\n",
       "    .dataframe tbody tr th:only-of-type {\n",
       "        vertical-align: middle;\n",
       "    }\n",
       "\n",
       "    .dataframe tbody tr th {\n",
       "        vertical-align: top;\n",
       "    }\n",
       "\n",
       "    .dataframe thead th {\n",
       "        text-align: right;\n",
       "    }\n",
       "</style>\n",
       "<table border=\"1\" class=\"dataframe\">\n",
       "  <thead>\n",
       "    <tr style=\"text-align: right;\">\n",
       "      <th></th>\n",
       "      <th>expected_label</th>\n",
       "      <th>predicted_0</th>\n",
       "      <th>predicted_1</th>\n",
       "    </tr>\n",
       "  </thead>\n",
       "  <tbody>\n",
       "    <tr>\n",
       "      <th>0</th>\n",
       "      <td>0</td>\n",
       "      <td>27272</td>\n",
       "      <td>4043</td>\n",
       "    </tr>\n",
       "    <tr>\n",
       "      <th>1</th>\n",
       "      <td>1</td>\n",
       "      <td>1</td>\n",
       "      <td>1151</td>\n",
       "    </tr>\n",
       "  </tbody>\n",
       "</table>\n",
       "</div>"
      ],
      "text/plain": [
       "  expected_label  predicted_0  predicted_1\n",
       "0              0        27272         4043\n",
       "1              1            1         1151"
      ]
     },
     "execution_count": 94,
     "metadata": {},
     "output_type": "execute_result"
    }
   ],
   "source": [
    "%%bigquery --project $PROJECT_ID\n",
    "\n",
    "# Look at NEW Confusion Matrix\n",
    "\n",
    "SELECT\n",
    "    expected_label,\n",
    "    _0 AS predicted_0,\n",
    "    _1 AS predicted_1\n",
    "FROM\n",
    "    ML.CONFUSION_MATRIX(MODEL matt_aml_cap_dataset.add_to_cart_xgb_b1)\n",
    "WHERE trial_id=8; "
   ]
  },
  {
   "cell_type": "code",
   "execution_count": 95,
   "id": "5dd4ff0d",
   "metadata": {},
   "outputs": [
    {
     "data": {
      "application/vnd.jupyter.widget-view+json": {
       "model_id": "5b1690e6b829478180c653b977f4131b",
       "version_major": 2,
       "version_minor": 0
      },
      "text/plain": [
       "Query is running:   0%|          |"
      ]
     },
     "metadata": {},
     "output_type": "display_data"
    },
    {
     "data": {
      "application/vnd.jupyter.widget-view+json": {
       "model_id": "055836ed166540f3a9d6e5046f304b86",
       "version_major": 2,
       "version_minor": 0
      },
      "text/plain": [
       "Downloading:   0%|          |"
      ]
     },
     "metadata": {},
     "output_type": "display_data"
    }
   ],
   "source": [
    "%%bigquery df_ROC_AUC --project $PROJECT_ID\n",
    "\n",
    "# Show NEW Receiver Operating Characteristic - Area Under the Curve (AUC-ROC)\n",
    "\n",
    "SELECT\n",
    "  *\n",
    "FROM\n",
    "  ML.ROC_CURVE(MODEL `matt_aml_cap_dataset.add_to_cart_xgb_b1`,\n",
    "    TABLE `matt_capstone_dataset.ml_features_b1`)"
   ]
  },
  {
   "cell_type": "code",
   "execution_count": 96,
   "id": "2a97d9c2",
   "metadata": {},
   "outputs": [
    {
     "data": {
      "text/plain": [
       "<Axes: title={'center': 'AUC-ROC curve'}, xlabel='false_positive_rate'>"
      ]
     },
     "execution_count": 96,
     "metadata": {},
     "output_type": "execute_result"
    },
    {
     "data": {
      "image/png": "[encoded data removed]",
      "text/plain": [
       "<Figure size 640x480 with 1 Axes>"
      ]
     },
     "metadata": {},
     "output_type": "display_data"
    }
   ],
   "source": [
    "df_ROC_AUC.plot(x=\"false_positive_rate\", y=\"recall\", title=\"AUC-ROC curve\")"
   ]
  },
  {
   "cell_type": "code",
   "execution_count": 97,
   "id": "056c44c3",
   "metadata": {},
   "outputs": [
    {
     "data": {
      "application/vnd.jupyter.widget-view+json": {
       "model_id": "9d7bcc3b42974b6e8a679d559471b7fa",
       "version_major": 2,
       "version_minor": 0
      },
      "text/plain": [
       "Query is running:   0%|          |"
      ]
     },
     "metadata": {},
     "output_type": "display_data"
    },
    {
     "data": {
      "application/vnd.jupyter.widget-view+json": {
       "model_id": "f4e2c2b9699948b6a6489bd7530be758",
       "version_major": 2,
       "version_minor": 0
      },
      "text/plain": [
       "Downloading:   0%|          |"
      ]
     },
     "metadata": {},
     "output_type": "display_data"
    },
    {
     "data": {
      "text/html": [
       "<div>\n",
       "<style scoped>\n",
       "    .dataframe tbody tr th:only-of-type {\n",
       "        vertical-align: middle;\n",
       "    }\n",
       "\n",
       "    .dataframe tbody tr th {\n",
       "        vertical-align: top;\n",
       "    }\n",
       "\n",
       "    .dataframe thead th {\n",
       "        text-align: right;\n",
       "    }\n",
       "</style>\n",
       "<table border=\"1\" class=\"dataframe\">\n",
       "  <thead>\n",
       "    <tr style=\"text-align: right;\">\n",
       "      <th></th>\n",
       "      <th>trial_id</th>\n",
       "      <th>feature</th>\n",
       "      <th>attribution</th>\n",
       "    </tr>\n",
       "  </thead>\n",
       "  <tbody>\n",
       "    <tr>\n",
       "      <th>0</th>\n",
       "      <td>1</td>\n",
       "      <td>hitsType</td>\n",
       "      <td>1.160537</td>\n",
       "    </tr>\n",
       "    <tr>\n",
       "      <th>1</th>\n",
       "      <td>1</td>\n",
       "      <td>totalsTimeOnSite</td>\n",
       "      <td>0.092030</td>\n",
       "    </tr>\n",
       "    <tr>\n",
       "      <th>2</th>\n",
       "      <td>1</td>\n",
       "      <td>totalsPageviews</td>\n",
       "      <td>0.036497</td>\n",
       "    </tr>\n",
       "    <tr>\n",
       "      <th>3</th>\n",
       "      <td>1</td>\n",
       "      <td>hitsHitNumber</td>\n",
       "      <td>0.030797</td>\n",
       "    </tr>\n",
       "    <tr>\n",
       "      <th>4</th>\n",
       "      <td>1</td>\n",
       "      <td>visitNumber</td>\n",
       "      <td>0.024440</td>\n",
       "    </tr>\n",
       "    <tr>\n",
       "      <th>5</th>\n",
       "      <td>1</td>\n",
       "      <td>totalsVisits</td>\n",
       "      <td>0.000000</td>\n",
       "    </tr>\n",
       "    <tr>\n",
       "      <th>6</th>\n",
       "      <td>1</td>\n",
       "      <td>hitIsInteraction</td>\n",
       "      <td>0.000000</td>\n",
       "    </tr>\n",
       "  </tbody>\n",
       "</table>\n",
       "</div>"
      ],
      "text/plain": [
       "   trial_id           feature  attribution\n",
       "0         1          hitsType     1.160537\n",
       "1         1  totalsTimeOnSite     0.092030\n",
       "2         1   totalsPageviews     0.036497\n",
       "3         1     hitsHitNumber     0.030797\n",
       "4         1       visitNumber     0.024440\n",
       "5         1      totalsVisits     0.000000\n",
       "6         1  hitIsInteraction     0.000000"
      ]
     },
     "execution_count": 97,
     "metadata": {},
     "output_type": "execute_result"
    }
   ],
   "source": [
    "%%bigquery --project $PROJECT_ID\n",
    "\n",
    "# Explain how each NEW feature contributed to NEW model's performance\n",
    "SELECT\n",
    "  *\n",
    "FROM\n",
    "  ML.GLOBAL_EXPLAIN(MODEL matt_aml_cap_dataset.add_to_cart_xgb_b1)\n",
    "ORDER BY\n",
    "  attribution DESC;"
   ]
  },
  {
   "cell_type": "code",
   "execution_count": 98,
   "id": "e3fb413f",
   "metadata": {},
   "outputs": [
    {
     "data": {
      "application/vnd.jupyter.widget-view+json": {
       "model_id": "80617dab2d074af5a203c41798cbc1b0",
       "version_major": 2,
       "version_minor": 0
      },
      "text/plain": [
       "Query is running:   0%|          |"
      ]
     },
     "metadata": {},
     "output_type": "display_data"
    },
    {
     "data": {
      "application/vnd.jupyter.widget-view+json": {
       "model_id": "acdd8031caca4dffa2707bd20c35b6ea",
       "version_major": 2,
       "version_minor": 0
      },
      "text/plain": [
       "Downloading:   0%|          |"
      ]
     },
     "metadata": {},
     "output_type": "display_data"
    },
    {
     "data": {
      "text/html": [
       "<div>\n",
       "<style scoped>\n",
       "    .dataframe tbody tr th:only-of-type {\n",
       "        vertical-align: middle;\n",
       "    }\n",
       "\n",
       "    .dataframe tbody tr th {\n",
       "        vertical-align: top;\n",
       "    }\n",
       "\n",
       "    .dataframe thead th {\n",
       "        text-align: right;\n",
       "    }\n",
       "</style>\n",
       "<table border=\"1\" class=\"dataframe\">\n",
       "  <thead>\n",
       "    <tr style=\"text-align: right;\">\n",
       "      <th></th>\n",
       "      <th>trial_id</th>\n",
       "      <th>predicted_target</th>\n",
       "      <th>predicted_target_probs</th>\n",
       "      <th>unique_id</th>\n",
       "      <th>visitNumber</th>\n",
       "      <th>totalsVisits</th>\n",
       "      <th>totalsPageviews</th>\n",
       "      <th>totalsTimeOnSite</th>\n",
       "      <th>hitsType</th>\n",
       "      <th>hitsHitNumber</th>\n",
       "      <th>hitIsInteraction</th>\n",
       "      <th>target</th>\n",
       "      <th>data_split</th>\n",
       "    </tr>\n",
       "  </thead>\n",
       "  <tbody>\n",
       "    <tr>\n",
       "      <th>0</th>\n",
       "      <td>1</td>\n",
       "      <td>0</td>\n",
       "      <td>[{'label': 1, 'prob': 0.06551807373762131}, {'...</td>\n",
       "      <td>777893023615414946515013827571</td>\n",
       "      <td>1</td>\n",
       "      <td>1</td>\n",
       "      <td>8</td>\n",
       "      <td>281</td>\n",
       "      <td>PAGE</td>\n",
       "      <td>1</td>\n",
       "      <td>True</td>\n",
       "      <td>0</td>\n",
       "      <td>TEST</td>\n",
       "    </tr>\n",
       "    <tr>\n",
       "      <th>1</th>\n",
       "      <td>1</td>\n",
       "      <td>1</td>\n",
       "      <td>[{'label': 1, 'prob': 0.785853385925293}, {'la...</td>\n",
       "      <td>721125708525972637915013965614</td>\n",
       "      <td>1</td>\n",
       "      <td>1</td>\n",
       "      <td>12</td>\n",
       "      <td>1376</td>\n",
       "      <td>EVENT</td>\n",
       "      <td>4</td>\n",
       "      <td>True</td>\n",
       "      <td>0</td>\n",
       "      <td>TEST</td>\n",
       "    </tr>\n",
       "    <tr>\n",
       "      <th>2</th>\n",
       "      <td>1</td>\n",
       "      <td>0</td>\n",
       "      <td>[{'label': 1, 'prob': 0.06551807373762131}, {'...</td>\n",
       "      <td>0167247604162700002150139520112</td>\n",
       "      <td>1</td>\n",
       "      <td>1</td>\n",
       "      <td>11</td>\n",
       "      <td>438</td>\n",
       "      <td>PAGE</td>\n",
       "      <td>12</td>\n",
       "      <td>True</td>\n",
       "      <td>0</td>\n",
       "      <td>TEST</td>\n",
       "    </tr>\n",
       "    <tr>\n",
       "      <th>3</th>\n",
       "      <td>1</td>\n",
       "      <td>0</td>\n",
       "      <td>[{'label': 1, 'prob': 0.06551807373762131}, {'...</td>\n",
       "      <td>52742678337572032515013646842</td>\n",
       "      <td>1</td>\n",
       "      <td>1</td>\n",
       "      <td>11</td>\n",
       "      <td>243</td>\n",
       "      <td>PAGE</td>\n",
       "      <td>2</td>\n",
       "      <td>True</td>\n",
       "      <td>0</td>\n",
       "      <td>TEST</td>\n",
       "    </tr>\n",
       "    <tr>\n",
       "      <th>4</th>\n",
       "      <td>1</td>\n",
       "      <td>0</td>\n",
       "      <td>[{'label': 1, 'prob': 0.06551807373762131}, {'...</td>\n",
       "      <td>5081559019693609920150138125415</td>\n",
       "      <td>9</td>\n",
       "      <td>1</td>\n",
       "      <td>10</td>\n",
       "      <td>86</td>\n",
       "      <td>PAGE</td>\n",
       "      <td>15</td>\n",
       "      <td>True</td>\n",
       "      <td>0</td>\n",
       "      <td>TEST</td>\n",
       "    </tr>\n",
       "    <tr>\n",
       "      <th>...</th>\n",
       "      <td>...</td>\n",
       "      <td>...</td>\n",
       "      <td>...</td>\n",
       "      <td>...</td>\n",
       "      <td>...</td>\n",
       "      <td>...</td>\n",
       "      <td>...</td>\n",
       "      <td>...</td>\n",
       "      <td>...</td>\n",
       "      <td>...</td>\n",
       "      <td>...</td>\n",
       "      <td>...</td>\n",
       "      <td>...</td>\n",
       "    </tr>\n",
       "    <tr>\n",
       "      <th>32462</th>\n",
       "      <td>1</td>\n",
       "      <td>0</td>\n",
       "      <td>[{'label': 1, 'prob': 0.06551807373762131}, {'...</td>\n",
       "      <td>780211028496413797415002990132</td>\n",
       "      <td>1</td>\n",
       "      <td>1</td>\n",
       "      <td>3</td>\n",
       "      <td>74</td>\n",
       "      <td>PAGE</td>\n",
       "      <td>2</td>\n",
       "      <td>True</td>\n",
       "      <td>0</td>\n",
       "      <td>TEST</td>\n",
       "    </tr>\n",
       "    <tr>\n",
       "      <th>32463</th>\n",
       "      <td>1</td>\n",
       "      <td>0</td>\n",
       "      <td>[{'label': 1, 'prob': 0.06551807373762131}, {'...</td>\n",
       "      <td>87149550832349909615003407423</td>\n",
       "      <td>1</td>\n",
       "      <td>1</td>\n",
       "      <td>4</td>\n",
       "      <td>45</td>\n",
       "      <td>PAGE</td>\n",
       "      <td>3</td>\n",
       "      <td>True</td>\n",
       "      <td>0</td>\n",
       "      <td>TEST</td>\n",
       "    </tr>\n",
       "    <tr>\n",
       "      <th>32464</th>\n",
       "      <td>1</td>\n",
       "      <td>0</td>\n",
       "      <td>[{'label': 1, 'prob': 0.06551807373762131}, {'...</td>\n",
       "      <td>018282230380036985915002909813</td>\n",
       "      <td>1</td>\n",
       "      <td>1</td>\n",
       "      <td>4</td>\n",
       "      <td>83</td>\n",
       "      <td>PAGE</td>\n",
       "      <td>3</td>\n",
       "      <td>True</td>\n",
       "      <td>0</td>\n",
       "      <td>TEST</td>\n",
       "    </tr>\n",
       "    <tr>\n",
       "      <th>32465</th>\n",
       "      <td>1</td>\n",
       "      <td>0</td>\n",
       "      <td>[{'label': 1, 'prob': 0.06551807373762131}, {'...</td>\n",
       "      <td>799661712715306943215002864591</td>\n",
       "      <td>2</td>\n",
       "      <td>1</td>\n",
       "      <td>4</td>\n",
       "      <td>80</td>\n",
       "      <td>PAGE</td>\n",
       "      <td>1</td>\n",
       "      <td>True</td>\n",
       "      <td>0</td>\n",
       "      <td>TEST</td>\n",
       "    </tr>\n",
       "    <tr>\n",
       "      <th>32466</th>\n",
       "      <td>1</td>\n",
       "      <td>0</td>\n",
       "      <td>[{'label': 1, 'prob': 0.06551807373762131}, {'...</td>\n",
       "      <td>44484870471892072115003100271</td>\n",
       "      <td>1</td>\n",
       "      <td>1</td>\n",
       "      <td>4</td>\n",
       "      <td>140</td>\n",
       "      <td>PAGE</td>\n",
       "      <td>1</td>\n",
       "      <td>True</td>\n",
       "      <td>0</td>\n",
       "      <td>TEST</td>\n",
       "    </tr>\n",
       "  </tbody>\n",
       "</table>\n",
       "<p>32467 rows × 13 columns</p>\n",
       "</div>"
      ],
      "text/plain": [
       "       trial_id  predicted_target  \\\n",
       "0             1                 0   \n",
       "1             1                 1   \n",
       "2             1                 0   \n",
       "3             1                 0   \n",
       "4             1                 0   \n",
       "...         ...               ...   \n",
       "32462         1                 0   \n",
       "32463         1                 0   \n",
       "32464         1                 0   \n",
       "32465         1                 0   \n",
       "32466         1                 0   \n",
       "\n",
       "                                  predicted_target_probs  \\\n",
       "0      [{'label': 1, 'prob': 0.06551807373762131}, {'...   \n",
       "1      [{'label': 1, 'prob': 0.785853385925293}, {'la...   \n",
       "2      [{'label': 1, 'prob': 0.06551807373762131}, {'...   \n",
       "3      [{'label': 1, 'prob': 0.06551807373762131}, {'...   \n",
       "4      [{'label': 1, 'prob': 0.06551807373762131}, {'...   \n",
       "...                                                  ...   \n",
       "32462  [{'label': 1, 'prob': 0.06551807373762131}, {'...   \n",
       "32463  [{'label': 1, 'prob': 0.06551807373762131}, {'...   \n",
       "32464  [{'label': 1, 'prob': 0.06551807373762131}, {'...   \n",
       "32465  [{'label': 1, 'prob': 0.06551807373762131}, {'...   \n",
       "32466  [{'label': 1, 'prob': 0.06551807373762131}, {'...   \n",
       "\n",
       "                             unique_id  visitNumber  totalsVisits  \\\n",
       "0       777893023615414946515013827571            1             1   \n",
       "1       721125708525972637915013965614            1             1   \n",
       "2      0167247604162700002150139520112            1             1   \n",
       "3        52742678337572032515013646842            1             1   \n",
       "4      5081559019693609920150138125415            9             1   \n",
       "...                                ...          ...           ...   \n",
       "32462   780211028496413797415002990132            1             1   \n",
       "32463    87149550832349909615003407423            1             1   \n",
       "32464   018282230380036985915002909813            1             1   \n",
       "32465   799661712715306943215002864591            2             1   \n",
       "32466    44484870471892072115003100271            1             1   \n",
       "\n",
       "       totalsPageviews  totalsTimeOnSite hitsType  hitsHitNumber  \\\n",
       "0                    8               281     PAGE              1   \n",
       "1                   12              1376    EVENT              4   \n",
       "2                   11               438     PAGE             12   \n",
       "3                   11               243     PAGE              2   \n",
       "4                   10                86     PAGE             15   \n",
       "...                ...               ...      ...            ...   \n",
       "32462                3                74     PAGE              2   \n",
       "32463                4                45     PAGE              3   \n",
       "32464                4                83     PAGE              3   \n",
       "32465                4                80     PAGE              1   \n",
       "32466                4               140     PAGE              1   \n",
       "\n",
       "       hitIsInteraction  target data_split  \n",
       "0                  True       0       TEST  \n",
       "1                  True       0       TEST  \n",
       "2                  True       0       TEST  \n",
       "3                  True       0       TEST  \n",
       "4                  True       0       TEST  \n",
       "...                 ...     ...        ...  \n",
       "32462              True       0       TEST  \n",
       "32463              True       0       TEST  \n",
       "32464              True       0       TEST  \n",
       "32465              True       0       TEST  \n",
       "32466              True       0       TEST  \n",
       "\n",
       "[32467 rows x 13 columns]"
      ]
     },
     "execution_count": 98,
     "metadata": {},
     "output_type": "execute_result"
    }
   ],
   "source": [
    "%%bigquery --project $PROJECT_ID\n",
    "\n",
    "# Batch predict on Test data set\n",
    "SELECT\n",
    "  *\n",
    "FROM\n",
    "  ML.PREDICT(MODEL matt_aml_cap_dataset.add_to_cart_xgb_b1,\n",
    "  (SELECT * FROM matt_capstone_dataset.ml_features_b1 WHERE data_split = \"TEST\"))"
   ]
  },
  {
   "cell_type": "code",
   "execution_count": 99,
   "id": "388aa067",
   "metadata": {},
   "outputs": [
    {
     "data": {
      "application/vnd.jupyter.widget-view+json": {
       "model_id": "e80fc10f8d054798a448ae1e78c4b23b",
       "version_major": 2,
       "version_minor": 0
      },
      "text/plain": [
       "Query is running:   0%|          |"
      ]
     },
     "metadata": {},
     "output_type": "display_data"
    },
    {
     "data": {
      "text/html": [
       "<div>\n",
       "<style scoped>\n",
       "    .dataframe tbody tr th:only-of-type {\n",
       "        vertical-align: middle;\n",
       "    }\n",
       "\n",
       "    .dataframe tbody tr th {\n",
       "        vertical-align: top;\n",
       "    }\n",
       "\n",
       "    .dataframe thead th {\n",
       "        text-align: right;\n",
       "    }\n",
       "</style>\n",
       "<table border=\"1\" class=\"dataframe\">\n",
       "  <thead>\n",
       "    <tr style=\"text-align: right;\">\n",
       "      <th></th>\n",
       "    </tr>\n",
       "  </thead>\n",
       "  <tbody>\n",
       "  </tbody>\n",
       "</table>\n",
       "</div>"
      ],
      "text/plain": [
       "Empty DataFrame\n",
       "Columns: []\n",
       "Index: []"
      ]
     },
     "execution_count": 99,
     "metadata": {},
     "output_type": "execute_result"
    }
   ],
   "source": [
    "%%bigquery --project $PROJECT_ID\n",
    "\n",
    "# Predict probability user will Add to Cart \n",
    "CREATE OR REPLACE TABLE matt_capstone_dataset.add_to_cart_predictions AS (\n",
    "SELECT\n",
    "  unique_id,\n",
    "  target,\n",
    "  predicted_target,\n",
    "  predicted_target_probs[OFFSET(0)].prob as probability_add_to_cart\n",
    "FROM\n",
    "  ML.PREDICT(MODEL matt_aml_cap_dataset.add_to_cart_xgb_b1,\n",
    "  (SELECT * FROM matt_capstone_dataset.ml_features_b1))\n",
    ");"
   ]
  },
  {
   "cell_type": "code",
   "execution_count": 100,
   "id": "4f8c2272",
   "metadata": {},
   "outputs": [],
   "source": [
    "# Declare and define a BQ model and export directory \n",
    "BQ_MODEL = f\"{BQ_DATASET}.{MODEL_NAME}\"\n",
    "BQ_MODEL_EXPORT_DIR = f\"gs://{GCS_BUCKET}/{MODEL_NAME}\""
   ]
  },
  {
   "cell_type": "code",
   "execution_count": 101,
   "id": "dfebac0f",
   "metadata": {},
   "outputs": [
    {
     "name": "stdout",
     "output_type": "stream",
     "text": [
      "Waiting on bqjob_r6ecf779a53226389_0000018dc2f06f4b_1 ... (1s) Current status: DONE   \n"
     ]
    }
   ],
   "source": [
    "# Export NEW model to GC Storage\n",
    "!bq --location=$BQ_LOCATION extract --destination_format ML_XGBOOST_BOOSTER --model $BQ_MODEL $BQ_MODEL_EXPORT_DIR"
   ]
  },
  {
   "cell_type": "code",
   "execution_count": 106,
   "id": "3f7f8063-70cc-4348-adab-c0a60f5be590",
   "metadata": {
    "tags": []
   },
   "outputs": [
    {
     "name": "stdout",
     "output_type": "stream",
     "text": [
      "Undeploying Endpoint model: projects/319407066227/locations/us-central1/endpoints/399511947998920704\n",
      "Undeploy Endpoint model backing LRO: projects/319407066227/locations/us-central1/endpoints/399511947998920704/operations/6785235719867596800\n",
      "Endpoint model undeployed. Resource name: projects/319407066227/locations/us-central1/endpoints/399511947998920704\n",
      "Deleting Endpoint : projects/319407066227/locations/us-central1/endpoints/399511947998920704\n",
      "Delete Endpoint  backing LRO: projects/319407066227/locations/us-central1/operations/6202019568123117568\n",
      "Endpoint deleted. . Resource name: projects/319407066227/locations/us-central1/endpoints/399511947998920704\n"
     ]
    }
   ],
   "source": [
    "# Import the Vertex AI module\n",
    "from google.cloud import aiplatform\n",
    "\n",
    "# Create a reference to the endpoint using its resource name\n",
    "endpoint = aiplatform.Endpoint('projects/319407066227/locations/us-central1/endpoints/399511947998920704')\n",
    "\n",
    "# Undeploy the endpoint\n",
    "endpoint.undeploy_all()\n",
    "\n",
    "# Optionally, you can delete the endpoint\n",
    "endpoint.delete()"
   ]
  },
  {
   "cell_type": "code",
   "execution_count": 107,
   "id": "94fb3dd5",
   "metadata": {},
   "outputs": [
    {
     "name": "stdout",
     "output_type": "stream",
     "text": [
      "Creating Endpoint\n",
      "Create Endpoint backing LRO: projects/319407066227/locations/us-central1/endpoints/7619908050580668416/operations/3320841706512842752\n",
      "Endpoint created. Resource name: projects/319407066227/locations/us-central1/endpoints/7619908050580668416\n",
      "To use this Endpoint in another session:\n",
      "endpoint = aiplatform.Endpoint('projects/319407066227/locations/us-central1/endpoints/7619908050580668416')\n",
      "Deploying model to Endpoint : projects/319407066227/locations/us-central1/endpoints/7619908050580668416\n",
      "Deploy Endpoint model backing LRO: projects/319407066227/locations/us-central1/endpoints/7619908050580668416/operations/3388395700923400192\n",
      "Endpoint model deployed. Resource name: projects/319407066227/locations/us-central1/endpoints/7619908050580668416\n"
     ]
    }
   ],
   "source": [
    "# Deploy model to endpoint\n",
    "endpoint = model.deploy(\n",
    "    traffic_split={\"0\": 100},\n",
    "    machine_type=\"e2-standard-2\",\n",
    ")"
   ]
  },
  {
   "cell_type": "code",
   "execution_count": 109,
   "id": "ba393651",
   "metadata": {},
   "outputs": [],
   "source": [
    "# Set docker image\n",
    "IMAGE_URI='us-docker.pkg.dev/vertex-ai/prediction/xgboost-cpu.1-4:latest'"
   ]
  },
  {
   "cell_type": "code",
   "execution_count": 110,
   "id": "44743c80",
   "metadata": {},
   "outputs": [
    {
     "name": "stdout",
     "output_type": "stream",
     "text": [
      "Creating Model\n",
      "Create Model backing LRO: projects/319407066227/locations/us-central1/models/6045728457000747008/operations/8882787246315405312\n",
      "Model created. Resource name: projects/319407066227/locations/us-central1/models/6045728457000747008@1\n",
      "To use this Model in another session:\n",
      "model = aiplatform.Model('projects/319407066227/locations/us-central1/models/6045728457000747008@1')\n"
     ]
    }
   ],
   "source": [
    "#Upload BQ ML model to Vertex AI from GC Storage\n",
    "model = vertexai.Model.upload(\n",
    "    display_name=MODEL_NAME,\n",
    "    artifact_uri=BQ_MODEL_EXPORT_DIR,\n",
    "    serving_container_image_uri=IMAGE_URI,\n",
    ")"
   ]
  },
  {
   "cell_type": "code",
   "execution_count": 111,
   "id": "1aa322f8",
   "metadata": {},
   "outputs": [],
   "source": [
    "# Specify categorical features for encoding \n",
    "CATEGORICAL_FEATURES = ['hitsType', 'hitIsInteraction']"
   ]
  },
  {
   "cell_type": "code",
   "execution_count": 112,
   "id": "569cbd9f",
   "metadata": {},
   "outputs": [],
   "source": [
    "# Bring in ordinal encoder\n",
    "from sklearn.preprocessing import OrdinalEncoder"
   ]
  },
  {
   "cell_type": "code",
   "execution_count": 113,
   "id": "55353271",
   "metadata": {},
   "outputs": [],
   "source": [
    "# Make encoder for handling categorical features\n",
    "def _build_cat_feature_encoders(categorical_feature_list, gcs_bucket, model_name, na_value='Unknown'):\n",
    "    feature_encoders = {}\n",
    "    \n",
    "    for idx, feature in enumerate(categorical_feature_list):\n",
    "        feature_encoder = OrdinalEncoder(handle_unknown=\"use_encoded_value\", unknown_value=-1)\n",
    "        feature_vocab_file = f\"gs://{GCS_BUCKET}/{MODEL_NAME}/assets/{idx}_categorical_label.txt\"\n",
    "        feature_vocab_df = pd.read_csv(feature_vocab_file, delimiter = \"\\t\", header=None).fillna(na_value)\n",
    "        feature_encoder.fit(feature_vocab_df.values)\n",
    "        feature_encoders[feature] = feature_encoder\n",
    "        \n",
    "    return feature_encoders"
   ]
  },
  {
   "cell_type": "code",
   "execution_count": 114,
   "id": "e0849e3a",
   "metadata": {},
   "outputs": [],
   "source": [
    "# Transform instances to numerical values for inference\n",
    "def preprocess_xgboost(instances, cat_feature_list, feature_encoders):\n",
    "    transformed_instances = []\n",
    "    \n",
    "    for instance in instances:\n",
    "        for feature in cat_feature_list:\n",
    "            feature_int = feature_encoders[feature].transform([[instance[feature]]]).item()\n",
    "            instance[feature] = feature_int\n",
    "            instance_list = list(instance.values())\n",
    "        transformed_instances.append(instance_list)\n",
    "    return transformed_instances"
   ]
  },
  {
   "cell_type": "code",
   "execution_count": null,
   "id": "552e8b43-7d56-4ef4-9dbb-796fe7ee3c08",
   "metadata": {},
   "outputs": [],
   "source": [
    "# Rename txt files in assests folder by reindexing the prefix number corresponding to CATEGORICAL_FEATURES\n",
    "# Googel Cloud User Menu > Cloud Storage > Buckets > york-bb-cohort-matt-aml-cap-bucket > add_to_cart_xgb_b1/ > assets / \n",
    "# Download 4_categorical_label.txt > rename > 0_categorical_label.txt\n",
    "# Download 4_categorical_label.txt > rename > 1_categorical_label.txt\n",
    "# Upload renamed files \n",
    "# Select new text file 0_categorical_label.txt > Edit metadata > Content-Type change to \"application/octet-stream\" > Save\n",
    "# Select new text file 1_categorical_label.txt > Edit metadata > Content-Type change to \"application/octet-stream\" > Save"
   ]
  },
  {
   "cell_type": "code",
   "execution_count": 116,
   "id": "404a0dfc",
   "metadata": {},
   "outputs": [],
   "source": [
    "# Build a dictionary of ordinal categorical feature encoders\n",
    "feature_encoders = _build_cat_feature_encoders(CATEGORICAL_FEATURES, GCS_BUCKET, MODEL_NAME)"
   ]
  },
  {
   "cell_type": "code",
   "execution_count": 117,
   "id": "b9414e7a",
   "metadata": {},
   "outputs": [
    {
     "data": {
      "application/vnd.jupyter.widget-view+json": {
       "model_id": "81f1a238a800457d9b2a115e26fd2ce3",
       "version_major": 2,
       "version_minor": 0
      },
      "text/plain": [
       "Query is running:   0%|          |"
      ]
     },
     "metadata": {},
     "output_type": "display_data"
    },
    {
     "data": {
      "application/vnd.jupyter.widget-view+json": {
       "model_id": "fc892a08184941bab045da7327c5d682",
       "version_major": 2,
       "version_minor": 0
      },
      "text/plain": [
       "Downloading:   0%|          |"
      ]
     },
     "metadata": {},
     "output_type": "display_data"
    }
   ],
   "source": [
    "%%bigquery test_df --project $PROJECT_ID\n",
    "\n",
    "# Create dataframe of Test data  \n",
    "SELECT * EXCEPT(unique_id, target, data_split)\n",
    "FROM matt_capstone_dataset.ml_features_4\n",
    "WHERE data_split=\"TEST\"\n",
    "LIMIT 2;"
   ]
  },
  {
   "cell_type": "code",
   "execution_count": 118,
   "id": "67686419",
   "metadata": {},
   "outputs": [],
   "source": [
    "# Convert dataframe records to feature dictionaries for preprocessing by feature name\n",
    "test_instances = test_df.astype(str).to_dict(orient='records')"
   ]
  },
  {
   "cell_type": "code",
   "execution_count": 119,
   "id": "4aa22d61",
   "metadata": {},
   "outputs": [],
   "source": [
    "# Preprocess to transform categorical features and return numberical instances for prediction\n",
    "transformed_test_instances = preprocess_xgboost(test_instances, CATEGORICAL_FEATURES, feature_encoders)"
   ]
  },
  {
   "cell_type": "code",
   "execution_count": 120,
   "id": "5d33a1d2",
   "metadata": {},
   "outputs": [],
   "source": [
    "# Generate predictions from model deployed to VertexAI endpoint\n",
    "predictions = endpoint.predict(instances=transformed_test_instances)"
   ]
  },
  {
   "cell_type": "code",
   "execution_count": 121,
   "id": "e648bc91",
   "metadata": {
    "tags": []
   },
   "outputs": [
    {
     "name": "stdout",
     "output_type": "stream",
     "text": [
      "Prediction: Customer 0 - Will Add to Cart [0.7385233044624329, 0.2614766657352448]\n",
      "{\"visitNumber\":\"1\",\"totalsVisits\":\"1\",\"totalsPageviews\":\"2\",\"totalsTimeOnSite\":\"19\",\"hitsType\":\"PAGE\",\"hitsHitNumber\":\"3\",\"hitIsInteraction\":\"True\"}\n",
      "\n",
      "Prediction: Customer 1 - Will Add to Cart [0.7311757206916809, 0.2688242793083191]\n",
      "{\"visitNumber\":\"1\",\"totalsVisits\":\"1\",\"totalsPageviews\":\"3\",\"totalsTimeOnSite\":\"62\",\"hitsType\":\"PAGE\",\"hitsHitNumber\":\"4\",\"hitIsInteraction\":\"True\"}\n",
      "\n"
     ]
    }
   ],
   "source": [
    "for idx, prediction in enumerate(predictions.predictions):\n",
    "    # class lables taken from model_metadata.json in gcs model directory\n",
    "    # BQ ML bin classification with 0.5 and above being a prediction of add to cart\n",
    "    add_to_cart = \"Will Add to Cart\" if prediction[0] >= 0.5 else \"Will Not Add to Cart\"\n",
    "    print(f\"Prediction: Customer {idx} - {add_to_cart} {prediction}\")\n",
    "    print(test_df.iloc[idx].astype(str).to_json() + \"\\n\")"
   ]
  }
 ],
 "metadata": {
  "environment": {
   "kernel": "conda-root-py",
   "name": "workbench-notebooks.m115",
   "type": "gcloud",
   "uri": "gcr.io/deeplearning-platform-release/workbench-notebooks:m115"
  },
  "kernelspec": {
   "display_name": "Python 3 (ipykernel) (Local)",
   "language": "python",
   "name": "conda-root-py"
  },
  "language_info": {
   "codemirror_mode": {
    "name": "ipython",
    "version": 3
   },
   "file_extension": ".py",
   "mimetype": "text/x-python",
   "name": "python",
   "nbconvert_exporter": "python",
   "pygments_lexer": "ipython3",
   "version": "3.10.13"
  }
 },
 "nbformat": 4,
 "nbformat_minor": 5
}
